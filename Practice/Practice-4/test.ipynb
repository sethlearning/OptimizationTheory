{
 "cells": [
  {
   "cell_type": "code",
   "execution_count": 1,
   "metadata": {},
   "outputs": [],
   "source": [
    "import numpy as np\n",
    "np.set_printoptions(precision=4)\n",
    "import matplotlib.pyplot as plt"
   ]
  },
  {
   "cell_type": "code",
   "execution_count": 22,
   "metadata": {},
   "outputs": [
    {
     "name": "stdout",
     "output_type": "stream",
     "text": [
      "r0: [-4  4]\n",
      "dr: [ 1 -1]\n",
      "alfa: [0 1 2 3 4 5 6 7]\n",
      "r0.reshape((1, -1)): [[-4  4]]\n",
      "dr.reshape((1, -1)): [[ 1 -1]]\n",
      "alfa.reshape((-1, 1)): [[0]\n",
      " [1]\n",
      " [2]\n",
      " [3]\n",
      " [4]\n",
      " [5]\n",
      " [6]\n",
      " [7]]\n",
      "alfa.reshape((-1, 1)) @ dr.reshape((1, -1) [[ 0  0]\n",
      " [ 1 -1]\n",
      " [ 2 -2]\n",
      " [ 3 -3]\n",
      " [ 4 -4]\n",
      " [ 5 -5]\n",
      " [ 6 -6]\n",
      " [ 7 -7]]\n",
      "r0.reshape((1, -1)) + alfa.reshape((-1, 1)) @ dr.reshape((1, -1)) [[-4  4]\n",
      " [-3  3]\n",
      " [-2  2]\n",
      " [-1  1]\n",
      " [ 0  0]\n",
      " [ 1 -1]\n",
      " [ 2 -2]\n",
      " [ 3 -3]]\n"
     ]
    }
   ],
   "source": [
    "r0 = np.array([-4, 4])\n",
    "dr = np.array([1, -1])\n",
    "alfa = np.arange(0, 7.1, 1, dtype=int)\n",
    "\n",
    "print('r0:', r0)\n",
    "print('dr:', dr)\n",
    "print('alfa:', alfa)\n",
    "print('r0.reshape((1, -1)):', r0.reshape((1, -1)))\n",
    "print('dr.reshape((1, -1)):', dr.reshape((1, -1)))\n",
    "print('alfa.reshape((-1, 1)):', alfa.reshape((-1, 1)))\n",
    "print('alfa.reshape((-1, 1)) @ dr.reshape((1, -1)', alfa.reshape((-1, 1)) @ dr.reshape((1, -1)))\n",
    "\n",
    "        # xy_arr = r0.reshape((1, -1)) + alfa.reshape((-1, 1)) @ dr.reshape((1, -1))\n"
   ]
  },
  {
   "cell_type": "code",
   "execution_count": 23,
   "metadata": {},
   "outputs": [
    {
     "name": "stdout",
     "output_type": "stream",
     "text": [
      "r0.reshape((1, -1)) + alfa.reshape((-1, 1)) @ dr.reshape((1, -1)) [[-4  4]\n",
      " [-3  3]\n",
      " [-2  2]\n",
      " [-1  1]\n",
      " [ 0  0]\n",
      " [ 1 -1]\n",
      " [ 2 -2]\n",
      " [ 3 -3]]\n"
     ]
    }
   ],
   "source": [
    "print('r0.reshape((1, -1)) + alfa.reshape((-1, 1)) @ dr.reshape((1, -1))', r0.reshape((1, -1)) + alfa.reshape((-1, 1)) @ dr.reshape((1, -1)))\n"
   ]
  },
  {
   "cell_type": "code",
   "execution_count": 19,
   "metadata": {},
   "outputs": [
    {
     "name": "stdout",
     "output_type": "stream",
     "text": [
      "[[ 9 12 15]\n",
      " [19 26 33]\n",
      " [29 40 51]]\n"
     ]
    }
   ],
   "source": [
    "A = np.array([[1,2],[3,4], [5,6]])\n",
    "B = np.array([[1,2,3],[4,5,6]])\n",
    "\n",
    "print(A @ B)"
   ]
  },
  {
   "cell_type": "code",
   "execution_count": 20,
   "metadata": {},
   "outputs": [
    {
     "name": "stdout",
     "output_type": "stream",
     "text": [
      "217\n"
     ]
    }
   ],
   "source": [
    "A = np.array([1, 2, 3, 4, 5, 6])\n",
    "B = np.array([7, 8, 9, 10, 11, 12])\n",
    "\n",
    "print(A @ B)"
   ]
  }
 ],
 "metadata": {
  "kernelspec": {
   "display_name": "Python 3.10.7 64-bit",
   "language": "python",
   "name": "python3"
  },
  "language_info": {
   "codemirror_mode": {
    "name": "ipython",
    "version": 3
   },
   "file_extension": ".py",
   "mimetype": "text/x-python",
   "name": "python",
   "nbconvert_exporter": "python",
   "pygments_lexer": "ipython3",
   "version": "3.10.7"
  },
  "orig_nbformat": 4,
  "vscode": {
   "interpreter": {
    "hash": "26de051ba29f2982a8de78e945f0abaf191376122a1563185a90213a26c5da77"
   }
  }
 },
 "nbformat": 4,
 "nbformat_minor": 2
}
