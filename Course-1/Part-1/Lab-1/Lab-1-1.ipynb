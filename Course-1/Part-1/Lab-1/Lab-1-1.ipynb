{
 "cells": [
  {
   "cell_type": "markdown",
   "metadata": {},
   "source": [
    "# Lab-01\n",
    "\n",
    "1.2.1. Встроенные операции с числами\n",
    "\n",
    "Тип работы:  Индивидуальная работа\n",
    "\n",
    "---\n",
    "\n",
    "Для заданных значений трех положительных чисел, не превышающих число 1024, необходимо:\n",
    "\n",
    "- все вещественные числа округлить до ближайших целых значений\n",
    "\n",
    "- для каждого числа подсчитать количество единиц в их битовом представлении\n",
    "\n",
    "- вывести полученные целые числа в порядке неубывания их значений в одну строку, через запятую и один пробел\n",
    "\n",
    "---\n",
    "\n",
    "**Ввод**: строка с тремя положительными числами, разделенными запятой и одним пробелом\n",
    "\n",
    "---\n",
    "\n",
    "**Вывод**: строка с тремя положительными целыми числами (int), разделенными запятой и одним пробелом\n",
    "\n",
    "\n",
    "**Примеры**:\n",
    "\n",
    "- для чисел  2, 3, 5  ваша функция должна вернуть 1, 2, 2\n",
    "\n",
    "- для чисел  6.7, 15, 17.4  ваша функция должна вернуть 2, 3, 4\n"
   ]
  },
  {
   "cell_type": "markdown",
   "metadata": {},
   "source": [
    "### Answer 1"
   ]
  },
  {
   "cell_type": "code",
   "execution_count": 2,
   "metadata": {},
   "outputs": [
    {
     "name": "stdout",
     "output_type": "stream",
     "text": [
      "1, 1, 2\n"
     ]
    }
   ],
   "source": [
    "# ввод строки, содержащей три положительных числа через запятую, например \"5, 2.0, 13\"\n",
    "string = input()\n",
    "\n",
    "# КОД СТУДЕНТА...\n",
    "def GetBitCount(x):\n",
    "    l1 = string.split(', ')\n",
    "\n",
    "    l2 = []\n",
    "    for i in l1:\n",
    "        l2.append(float(i))\n",
    "\n",
    "    l3 = []\n",
    "    for i in l2:\n",
    "        l3.append(round(i))\n",
    "\n",
    "    l4 = []\n",
    "    s = \"{:b}\"\n",
    "    for i in l3:\n",
    "        si = s.format(i)\n",
    "        count = 0\n",
    "        for j in si:\n",
    "            if j=='1':\n",
    "                count += 1\n",
    "        l4.append(count)\n",
    "\n",
    "    l4.sort()\n",
    "    return l4\n",
    "\n",
    "lst = GetBitCount(string)\n",
    "out = f'{lst[0]}, {lst[1]}, {lst[2]}'\n",
    "print(out)"
   ]
  },
  {
   "cell_type": "markdown",
   "metadata": {},
   "source": [
    "### Answer 2"
   ]
  },
  {
   "cell_type": "code",
   "execution_count": 96,
   "metadata": {},
   "outputs": [
    {
     "name": "stdout",
     "output_type": "stream",
     "text": [
      "2, 3, 5\n"
     ]
    }
   ],
   "source": [
    "# ввод строки, содержащей три положительных числа через запятую, например \"5, 2.0, 13\"\n",
    "# string = input()\n",
    "# string = '1, 2, 3'\n",
    "# string = '5, 2.0, 13'\n",
    "# string = '2, 3, 5'\n",
    "# string = '6.7, 15, 17.4'\n",
    "\n",
    "# string = '14, 66, 319'\n",
    "# string = '6.7, 23, 127.2'\n",
    "# string = '4.0, 7, 319'\n",
    "# string = '24, 36, 67'\n",
    "string = '22.3, 109.9, 6'\n",
    "\n",
    "\n",
    "# КОД СТУДЕНТА...\n",
    "def GetBitCount(x):\n",
    "    l1 = string.split(', ')\n",
    "\n",
    "    l2 = []\n",
    "    for i in l1:\n",
    "        l2.append(float(i))\n",
    "\n",
    "    l3 = []\n",
    "    for i in l2:\n",
    "        l3.append(round(i))\n",
    "\n",
    "    l4 = []\n",
    "    s = \"{:b}\"\n",
    "    for i in l3:\n",
    "        si = s.format(i)\n",
    "        l4.append(si.count('1'))\n",
    "\n",
    "    l4.sort()\n",
    "    return l4\n",
    "\n",
    "lst = GetBitCount(string)\n",
    "out = f'{lst[0]}, {lst[1]}, {lst[2]}'\n",
    "print(out)"
   ]
  },
  {
   "cell_type": "markdown",
   "metadata": {},
   "source": [
    "### Answer 3"
   ]
  },
  {
   "cell_type": "code",
   "execution_count": 95,
   "metadata": {},
   "outputs": [
    {
     "name": "stdout",
     "output_type": "stream",
     "text": [
      "2, 3, 5\n"
     ]
    }
   ],
   "source": [
    "# ввод строки, содержащей три положительных числа через запятую, например \"5, 2.0, 13\"\n",
    "string = input()\n",
    "\n",
    "# КОД СТУДЕНТА...\n",
    "lst = list(map(lambda s: \"{:b}\".format(round(float(s))).count('1'), string.split(', ')))\n",
    "lst.sort()\n",
    "\n",
    "print(*lst, sep=', ')"
   ]
  },
  {
   "cell_type": "markdown",
   "metadata": {},
   "source": [
    "### Answer 4\n"
   ]
  },
  {
   "cell_type": "code",
   "execution_count": 99,
   "metadata": {},
   "outputs": [
    {
     "name": "stdout",
     "output_type": "stream",
     "text": [
      "2, 3, 5\n"
     ]
    }
   ],
   "source": [
    "# ввод строки, содержащей три положительных числа через запятую, например \"5, 2.0, 13\"\n",
    "string = input()\n",
    "\n",
    "# string = '22.3, 109.9, 6'\n",
    "\n",
    "# КОД СТУДЕНТА...\n",
    "lst = list(map(lambda s: int.bit_count(round(float(s))), string.split(', ')))\n",
    "lst.sort()\n",
    "\n",
    "print(*lst, sep=', ')"
   ]
  }
 ],
 "metadata": {
  "kernelspec": {
   "display_name": "Python 3.10.1 64-bit",
   "language": "python",
   "name": "python3"
  },
  "language_info": {
   "codemirror_mode": {
    "name": "ipython",
    "version": 3
   },
   "file_extension": ".py",
   "mimetype": "text/x-python",
   "name": "python",
   "nbconvert_exporter": "python",
   "pygments_lexer": "ipython3",
   "version": "3.10.1"
  },
  "orig_nbformat": 4,
  "vscode": {
   "interpreter": {
    "hash": "26de051ba29f2982a8de78e945f0abaf191376122a1563185a90213a26c5da77"
   }
  }
 },
 "nbformat": 4,
 "nbformat_minor": 2
}
