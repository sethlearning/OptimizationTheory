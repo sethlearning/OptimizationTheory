{
 "cells": [
  {
   "cell_type": "markdown",
   "metadata": {},
   "source": [
    "1.3.4. Определяем результат хода\n",
    "\n",
    "Тип работы: Индивидуальная работа\n",
    "\n",
    "Итак, мы задали расстановку кораблей. Для примера рассмотрим такую расстановку 2-х однопалубных и 1-го двухпалубного кораблей.\n",
    "\n",
    "Такая расстановка задается в виде такого списка с точностью до перестановки элементов списка:\n",
    "\n",
    "`boats_position = [ [('a',4)], [('d',2)], [('b',1),('c',1)] ]`\n",
    "\n",
    "Игра в самом разгаре. Уже сделано по три выстрела. Карта выстрелов вашего противника представлена в виде словаря:\n",
    "\n",
    "`shoots_map = {('a',1):1, ('a',4):1, ('d',1):1}`\n",
    "\n",
    "Элементом словаря является пара, в которой ключ это адрес клетки, а значение - количество выстрелов по данной клетке. Если ключа в словаре нет, то это означает, что противник еще не стрелял по данной клетке. \n",
    "\n",
    "Противник делает очередной ход в виде\n",
    "\n",
    "`move = (letter, number)`\n",
    "\n",
    "где letter - это одна из букв a,b,c,d, а number - это целое число от 1 до 4.\n",
    "\n",
    "Ваша задача - написать функцию `check(move, boats_position, shoots_map)`, которая для заданных: \n",
    "\n",
    "- расстановки ваших кораблей **boats_position**, \n",
    "\n",
    "- карты выстрелов противника **shoots_map**,\n",
    "\n",
    "- выбранного очередного хода противника **move** \n",
    "\n",
    "определяет результат его хода в виде исхода выстрела - строки `'miss' | 'injury' | 'killed'` (промах, ранен, убит)."
   ]
  },
  {
   "cell_type": "code",
   "execution_count": 39,
   "metadata": {},
   "outputs": [
    {
     "name": "stdout",
     "output_type": "stream",
     "text": [
      "[[('c', 3), ('d', 3)]]\n"
     ]
    },
    {
     "data": {
      "text/plain": [
       "'injury'"
      ]
     },
     "execution_count": 39,
     "metadata": {},
     "output_type": "execute_result"
    }
   ],
   "source": [
    "''' ------ модуль слушателя курса -------- '''\n",
    "\n",
    "# определение результата выстрела move для известной диспозиции кораблей boats_position\n",
    "# и карты выстрелов shoots_map\n",
    "# ВЫХОД: 'miss' | 'injury' | 'killed' (промах, ранен, убит).\n",
    "def check(move, boats_position, shoots_map):\n",
    "    import copy as cp\n",
    "\n",
    "    res = None\n",
    "    battlemap = cp.deepcopy(boats_position)\n",
    "\n",
    "    for shoot in shoots_map.keys():\n",
    "        nextshoot = False\n",
    "        for s, ship in enumerate(battlemap):\n",
    "            if nextshoot:\n",
    "                break\n",
    "            for d, deck in enumerate(ship):\n",
    "                if deck == shoot:\n",
    "                    battlemap[s].pop(d)\n",
    "                    if len(battlemap[s]) < 1:\n",
    "                        battlemap.pop(s)\n",
    "                    nextshoot = True\n",
    "                    break\n",
    "\n",
    "    print(battlemap)\n",
    "    target_found = False\n",
    "    for s, ship in enumerate(battlemap):\n",
    "        if target_found:\n",
    "            break\n",
    "        for deck in ship:\n",
    "            if deck == move:\n",
    "                if len(ship) > 1:\n",
    "                    res = 'injury'\n",
    "                else:\n",
    "                    res = 'killed'\n",
    "                target_found = True\n",
    "                break\n",
    "\n",
    "    if res is None:\n",
    "        res = 'miss'\n",
    "\n",
    "    return res\n",
    "\n",
    "\n",
    "boats_position = [ [('a',4)], [('d',2)], [('b',1),('c',1)] ]\n",
    "shoots_map = {('a',1):1, ('a',4):1, ('d',1):1}\n",
    "# shoots_map = {('a',1):1, ('a',4):1, ('d',1):1, ('b',1):1}\n",
    "# move = ('d', 2)\n",
    "move = ('b', 1)\n",
    "move = ('b', 4) # miss\n",
    "\n",
    "boats_position = [[('a',1)], [('b',1), ('c',1)], [('d',2)]]\n",
    "shoots_map = {('a',1): 1, ('a',4): 2, ('d',3): 1}\n",
    "move = ('d',2) # killed\n",
    "\n",
    "boats_position = [[('a',1)], [('d',2)], [('b',1), ('c',1)]]\n",
    "shoots_map = {('a',1): 1, ('a',4): 1, ('d',1): 1}\n",
    "move = ('c',1) # injury\n",
    "\n",
    "\n",
    "boats_position = [[('c',3), ('d',3)], [('a',4)]]\n",
    "shoots_map = {('a',4): 1, ('a',1): 1, ('a',3): 1, ('b',3): 2}\n",
    "move = ('d',3) # injury\n",
    "\n",
    "\n",
    "check(move, boats_position, shoots_map)\n",
    "\n"
   ]
  }
 ],
 "metadata": {
  "kernelspec": {
   "display_name": "Python 3.10.1 64-bit",
   "language": "python",
   "name": "python3"
  },
  "language_info": {
   "codemirror_mode": {
    "name": "ipython",
    "version": 3
   },
   "file_extension": ".py",
   "mimetype": "text/x-python",
   "name": "python",
   "nbconvert_exporter": "python",
   "pygments_lexer": "ipython3",
   "version": "3.10.1"
  },
  "orig_nbformat": 4,
  "vscode": {
   "interpreter": {
    "hash": "26de051ba29f2982a8de78e945f0abaf191376122a1563185a90213a26c5da77"
   }
  }
 },
 "nbformat": 4,
 "nbformat_minor": 2
}
