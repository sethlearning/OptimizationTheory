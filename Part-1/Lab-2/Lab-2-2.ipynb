{
 "cells": [
  {
   "cell_type": "markdown",
   "metadata": {},
   "source": [
    "1.3.2. Сортировка слиянием.\n",
    "\n",
    "Тип работы:  Индивидуальная работа\n",
    "\n",
    "---\n",
    "\n",
    "Обьединить два неупорядоченых списка чисел в один упорядоченый.\n",
    "\n",
    "---\n",
    "\n",
    "**Ввод**: две строки, содержащих неупорядоченые списки целых чисел.\n",
    "\n",
    "---\n",
    "\n",
    "**Вывод**: объединенный упорядоченый список чисел.\n",
    "\n",
    "---\n",
    "\n",
    "**Примеры**:\n",
    "\n",
    "- для списков [2, 1, 5] и [4, 7, 2] функция должна вернуть список [1, 2, 2, 4, 5, 7]\n",
    "\n",
    "- для списков [] и [3, 2, 1] функция должна вернуть список [1, 2, 3]\n",
    "\n"
   ]
  },
  {
   "cell_type": "code",
   "execution_count": 17,
   "metadata": {},
   "outputs": [
    {
     "name": "stdout",
     "output_type": "stream",
     "text": [
      "[1, 2, 2, 4, 5, 7]\n"
     ]
    }
   ],
   "source": [
    "# ввод строки, содержащей список, например \"[5, 2, 13]\"\n",
    "fst_list = input()\n",
    "sec_list = input()\n",
    "\n",
    "# КОД СТУДЕНТА...\n",
    "# fst_list = \"[2, 1, 5]\"\n",
    "# sec_list = \"[4, 7, 2]\"\n",
    "# result: [1, 2, 2, 4, 5, 7]\n",
    "\n",
    "# fst_list = \"[]\"\n",
    "# sec_list = \"[3, 2, 1]\"\n",
    "# result: [1, 2, 3]\n",
    "\n",
    "# fst_list = \"[7, 1, 3]\"\n",
    "# sec_list = \"[12, 44, 5]\"\n",
    "# result: [1, 3, 5, 7, 12, 44]\n",
    "\n",
    "# fst_list = \"[1, 7, 6]\"\n",
    "# sec_list = \"[2, 0, 5]\"\n",
    "# result: [0, 1, 2, 5, 6, 7]\n",
    "\n",
    "# fst_list = \"[16, 3, 16]\"\n",
    "# sec_list = \"[22, 4, 1]\"\n",
    "# result: [1, 3, 4, 16, 16, 22]\n",
    "\n",
    "def mergesort(lst):\n",
    "    if len(lst) < 2:\n",
    "        return lst\n",
    "\n",
    "    middle = len(lst) // 2\n",
    "    lefthalf = lst[:middle]\n",
    "    righthalf = lst[middle:]\n",
    "\n",
    "    lefthalf = mergesort(lefthalf)\n",
    "    righthalf = mergesort(righthalf)\n",
    "\n",
    "    return mergelists(lefthalf, righthalf)\n",
    "\n",
    "def mergelists(left, right):\n",
    "    lst = []\n",
    "\n",
    "    lstlength = len(left) + len(right)\n",
    "\n",
    "    while len(left):\n",
    "        if len(right) == 0 or left[0] <= right[0]:\n",
    "            lst.append(left.pop(0))\n",
    "        else:\n",
    "            lst.append(right.pop(0))\n",
    "    \n",
    "    while len(right):\n",
    "        lst.append(right.pop(0))\n",
    "\n",
    "    return lst\n",
    "\n",
    "flist = list(map(int, fst_list.strip('[]').split(', ')))\n",
    "slist = list(map(int, sec_list.strip('[]').split(', ')))\n",
    "\n",
    "result = mergesort(flist + slist)\n",
    "print(result)"
   ]
  }
 ],
 "metadata": {
  "kernelspec": {
   "display_name": "Python 3.10.1 64-bit",
   "language": "python",
   "name": "python3"
  },
  "language_info": {
   "codemirror_mode": {
    "name": "ipython",
    "version": 3
   },
   "file_extension": ".py",
   "mimetype": "text/x-python",
   "name": "python",
   "nbconvert_exporter": "python",
   "pygments_lexer": "ipython3",
   "version": "3.10.1"
  },
  "orig_nbformat": 4,
  "vscode": {
   "interpreter": {
    "hash": "26de051ba29f2982a8de78e945f0abaf191376122a1563185a90213a26c5da77"
   }
  }
 },
 "nbformat": 4,
 "nbformat_minor": 2
}
