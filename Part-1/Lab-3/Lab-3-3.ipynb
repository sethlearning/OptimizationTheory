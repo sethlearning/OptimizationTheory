{
 "cells": [
  {
   "cell_type": "markdown",
   "metadata": {},
   "source": [
    "1.4.3. Добиваем двухпалубный корабль противника\n",
    "\n",
    "Тип работы:  Индивидуальная работа\n",
    "\n",
    "Мы расставили свои корабли - три однопалубных и один двухпалубный на поле 4х4. То же самое сделал и противник.\n",
    "\n",
    "Мы сделали уже несколько ходов и вот наконец-то попали в двухпалубный корабль противника! Мы получили запрос на новый ход.\n",
    "\n",
    "Выбор нашего хода осуществляется с помощью функции\n",
    "\n",
    "```python\n",
    "def choose_act(battle_state, last_move, result):\n",
    "  if result == 'injury':\n",
    "    move = kill_boat(battle_state, last_move)\n",
    "  else:\n",
    "    ...\n",
    "  return move\n",
    "```\n",
    "\n",
    "где \n",
    "\n",
    "**last_move** - последний сделанный вами ход в виде кортежа `(letter, number)`, **letter** - это одна из букв `a,b,c,d`, а **number** - это целое число от 1 до 4. (см. 3.15. Расстановка кораблей для морского боя);\n",
    "\n",
    "**result** - результат последнего хода в виде строки 'miss' | 'injury' | 'killed' (промах, ранен, убит) - см. 3.16. Определяем результат хода.\n",
    "\n",
    "**battle_state** - это двухмерный массив numpy 4х4, который содержит результат наших выстрелов в соответствии с правилами:\n",
    "\n",
    "Пусть\n",
    "\n",
    "`battle_state[i,j] == n`\n",
    "\n",
    "тогда\n",
    "\n",
    "если `n = 0`, то мы еще не стреляли по полю (i,j)\n",
    "если `n < 0`, то мы стреляли по полю (i,j) и промахнулись\n",
    "если `n == 1`, то мы стреляли по полю (i,j) и ранили корабль противника\n",
    "если `n == 2`, то мы стреляли по полю (i,j) и корабль противника убит\n",
    "\n",
    "**ПРИМЕР**. Пусть мы имеем такое поле боя после наших четырех выстрелов\n",
    "\n",
    "battle-2\n",
    "\n",
    "Т.е. мы подбили уже 1 одиночный корабль, два раза промахнулись в (a,1) и (b,1) и ранили двухпалубный корабль ходом (a,2).\n",
    "\n",
    "Тогда на вход нашей функции мы получим такой numpy массив battle_state:\n",
    "\n",
    "`numpy.array([[-1,-1,0,0],[1,0,0,0],[0,0,0,0],[2,0,0,0]])`\n",
    "\n",
    "Ваша задача - написать функцию \n",
    "\n",
    "```python\n",
    "def kill_boat(battle_state, last_move):\n",
    "  ...\n",
    "  move = (letter,number)\n",
    "  return move\n",
    "```\n",
    "\n",
    "так, чтобы она отрабатывала случай ранения двухпалубного корабля последним ходом **last_move** и выбирала бы ход, который может потопить двухпалубный корабль противника.\n",
    "\n",
    "Для данного примера возможный ход только один - ваша функция должна возвратить ход (b,2)\n",
    "\n",
    "(см. правила расстановки кораблей в 3.15. Расстановка кораблей для морского боя)"
   ]
  },
  {
   "cell_type": "code",
   "execution_count": 7,
   "metadata": {},
   "outputs": [
    {
     "name": "stdout",
     "output_type": "stream",
     "text": [
      "last_move_i: (1, 2)\n",
      "[(1, 1), (2, 2), (1, 3)]\n",
      "(1, 1)\n",
      "('b', 2)\n"
     ]
    },
    {
     "data": {
      "text/plain": [
       "('b', 2)"
      ]
     },
     "execution_count": 7,
     "metadata": {},
     "output_type": "execute_result"
    }
   ],
   "source": [
    "''' --------- модуль слушателя курса -------- '''\n",
    "import numpy as np\n",
    "\n",
    "# функция выбора хода - добить двухпалубный корабль\n",
    "def kill_boat(battle_state, last_move):\n",
    "    '''\n",
    "    :param battle_state: двухмерный массив numpy 4х4, который содержит результат наших выстрелов\n",
    "    battle_state[i,j] < 0, то стреляли по полю (i,j) и ничего, \n",
    "    battle_state[i,j] == 0, то не стреляли; если 1 или 2 - ранили и убили\n",
    "    :param last_move: последний ваш ход (letter, number),который ранил 2-х палубный \n",
    "    :return: move=(letter, number) - выбранный ход, чтобы добить корабль\n",
    "    '''\n",
    "    move = (\"z\", 0) # пустой ход\n",
    "\n",
    "    cti = str.maketrans({'a': '1', 'b': '2', 'c': '3', 'd': '4' })\n",
    "    last_move_i = (int(last_move[0].translate(cti)), last_move[1])\n",
    "    itc = \"abcd\"\n",
    "\n",
    "    print(\"last_move_i:\", last_move_i)\n",
    "\n",
    "    move_candidates = []\n",
    "    # up\n",
    "    if (last_move_i[1] - 1) > 0:\n",
    "        move_candidates.append(tuple((last_move_i[0], last_move_i[1] - 1)))\n",
    "    # right\n",
    "    if (last_move_i[0] + 1) < 5:\n",
    "        move_candidates.append(tuple((last_move_i[0] + 1, last_move_i[1])))\n",
    "    # down\n",
    "    if (last_move_i[1] + 1) < 5:\n",
    "        move_candidates.append(tuple((last_move_i[0], last_move_i[1] + 1)))\n",
    "    # left\n",
    "    if (last_move_i[0] - 1) > 0:\n",
    "        move_candidates.append(tuple((last_move_i[0] - 1, last_move_i[1])))\n",
    "    print(move_candidates)\n",
    "\n",
    "    for mc in move_candidates:\n",
    "        # clean coordinates: [1-4] -> [0-3]\n",
    "        # also reversed, because map coordinates (move, last_move) are in the form [column, row]\n",
    "        # and battle_state is in the form [row, column]\n",
    "        coords = (mc[1]-1, mc[0]-1)\n",
    "\n",
    "        if battle_state[coords[0], coords[1]] != 0:\n",
    "            continue\n",
    "        if (coords[0]-1) >= 0:\n",
    "            if battle_state[coords[0]-1, coords[1]] == 2:\n",
    "                continue\n",
    "        if (coords[1]+1) <= 3:\n",
    "            if battle_state[coords[0], coords[1]+1] == 2:\n",
    "                continue\n",
    "        if (coords[0]+1) <= 3:\n",
    "            if battle_state[coords[0]+1, coords[1]] == 2:\n",
    "                continue\n",
    "        if (coords[1]-1) >= 0:\n",
    "            if battle_state[coords[0], coords[1]-1] == 2:\n",
    "                continue\n",
    "        move = (itc[coords[1]], mc[1])\n",
    "        break\n",
    "\n",
    "    return move\n",
    "\n",
    "battle_state = np.array([[-1,-1,0,0],[1,0,0,0],[0,0,0,0],[2,0,0,0]])\n",
    "last_move = ('a', 2)\n",
    "\n",
    "kill_boat(battle_state, last_move)"
   ]
  },
  {
   "cell_type": "code",
   "execution_count": 3,
   "metadata": {},
   "outputs": [
    {
     "data": {
      "text/plain": [
       "'a'"
      ]
     },
     "execution_count": 3,
     "metadata": {},
     "output_type": "execute_result"
    }
   ],
   "source": [
    "a = 'a'\n",
    "ord(a)\n",
    "chr(97)"
   ]
  },
  {
   "cell_type": "code",
   "execution_count": 5,
   "metadata": {},
   "outputs": [
    {
     "data": {
      "text/plain": [
       "'\\x01'"
      ]
     },
     "execution_count": 5,
     "metadata": {},
     "output_type": "execute_result"
    }
   ],
   "source": [
    "cti = str.maketrans({'a': 1, 'b': 2, 'c': 3, 'd':4 })\n",
    "itc = \"_abcd\"\n",
    "\n",
    "last_move = ('a', 2)\n",
    "last_move[0].translate(cti)\n"
   ]
  }
 ],
 "metadata": {
  "kernelspec": {
   "display_name": "Python 3.10.1 64-bit",
   "language": "python",
   "name": "python3"
  },
  "language_info": {
   "codemirror_mode": {
    "name": "ipython",
    "version": 3
   },
   "file_extension": ".py",
   "mimetype": "text/x-python",
   "name": "python",
   "nbconvert_exporter": "python",
   "pygments_lexer": "ipython3",
   "version": "3.10.1"
  },
  "orig_nbformat": 4,
  "vscode": {
   "interpreter": {
    "hash": "26de051ba29f2982a8de78e945f0abaf191376122a1563185a90213a26c5da77"
   }
  }
 },
 "nbformat": 4,
 "nbformat_minor": 2
}
