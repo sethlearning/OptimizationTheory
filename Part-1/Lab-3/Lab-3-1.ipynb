{
 "cells": [
  {
   "cell_type": "markdown",
   "metadata": {},
   "source": [
    "1.4.1. Реализуем Max pooling изображения\n",
    "\n",
    "Тип работы:  Индивидуальная работа\n",
    "\n",
    "Создать функцию maxpooling_2x2(image, mask)\n",
    "\n",
    "**Вход**: \n",
    "\n",
    "`image` - двухмерный numpy array (матрица), содержащая изображение в сером. Т.е. значения матрицы лежат в интервале от 0 до 255. Значение 0 соответствует черному цвету (отсутствию яркости), 255 - самому белому цвету. `image.shape = (2*m, 2*n)`, т.е. прямоугольная картинка имеет четное количество пикселей по горизонтали и вертикали.\n",
    "\n",
    "`mask` - одномерный numpy array (вектор), маска для вычисления скалярного умножения, `mask.shape = (m*n, )`. \n",
    "\n",
    "**Выход**:\n",
    "\n",
    "скалярное произведение вектора маски `mask` и вектора `image_vect` - результата применения к матрице `image` операции `max_pooling 2х2` и функции `flatten()` (превращение матрицы в строку).\n",
    "\n",
    "При выполнении `max_pooling 2х2` группа пикселей размера 2×2 преобразуется в один пиксель с использованием функции максимума. Преобразования затрагивают непересекающиеся квадраты размером 2x2, каждый из которых ужимается в один пиксель, при этом выбирается максимальное значение яркости в квадрате.\n",
    "\n",
    "**maxpooling**\n",
    "\n",
    "Т.е. результатом применения операции max_pooling 2x2 к матрице image размером shape = (2m, 2n). является матрица image1 размером shape = (m, n).\n",
    "\n",
    "После применения функции flatten() матрица image1 вытягивается в вектор image_vect размером (m*n, ) и скалярно умножается на вектор-маску mask.\n",
    "\n",
    "Число, полученное в результате этого скалярного умножения и должна возвращать функция maxpooling_2x2(image, mask).\n",
    "\n",
    "ПРИМЕР. Для массива image размером (4, 4) , изображенного на картинке и маски \n",
    "\n",
    "mask = numpy.array([1,-1,-1,1])\n",
    "функция maxpooling_2x2(image, mask) должна вернуть число -1.\n",
    "\n",
    "Действительно, результатом применения операции max_pooling 2x2 к матрице image является матрица image1= array([[6,8], [3,4]]) (см. рис. выше).\n",
    "\n",
    "После превращения image1 в вектор получается вектор image1= array([ 6, 8, 3, 4]), при скалярном умножении которого на вектор маски и получается число -1."
   ]
  },
  {
   "cell_type": "code",
   "execution_count": 8,
   "metadata": {},
   "outputs": [
    {
     "data": {
      "text/plain": [
       "-1"
      ]
     },
     "execution_count": 8,
     "metadata": {},
     "output_type": "execute_result"
    }
   ],
   "source": [
    "''' --------- модуль слушателя курса -------- '''\n",
    "\n",
    "import numpy as np\n",
    "\n",
    "def maxpooling_2x2(image, mask):\n",
    "    \n",
    "    array_after_max = np.full(shape=(image.shape[0]//2, image.shape[1]//2), dtype=int, fill_value=0)\n",
    "\n",
    "    for i in range(0, image.shape[0]//2):\n",
    "        ii = i*2\n",
    "        for j in range(0, image.shape[1]//2):\n",
    "            jj = j*2\n",
    "            array_after_max[i, j] = (image[ii:ii+2, jj:jj+2]).max()\n",
    "\n",
    "    flattened_array = array_after_max.flatten()\n",
    "    res = flattened_array @ mask\n",
    "    return res\n",
    "\n",
    "image = np.array([[1, 0, 2, 3], [4, 6, 6, 8], [3, 1, 1, 0], [1, 2, 2, 4]])\n",
    "mask = np.array([1, -1, -1, 1])\n",
    "\n",
    "maxpooling_2x2(image, mask)"
   ]
  }
 ],
 "metadata": {
  "kernelspec": {
   "display_name": "Python 3.10.1 64-bit",
   "language": "python",
   "name": "python3"
  },
  "language_info": {
   "codemirror_mode": {
    "name": "ipython",
    "version": 3
   },
   "file_extension": ".py",
   "mimetype": "text/x-python",
   "name": "python",
   "nbconvert_exporter": "python",
   "pygments_lexer": "ipython3",
   "version": "3.10.1"
  },
  "orig_nbformat": 4,
  "vscode": {
   "interpreter": {
    "hash": "26de051ba29f2982a8de78e945f0abaf191376122a1563185a90213a26c5da77"
   }
  }
 },
 "nbformat": 4,
 "nbformat_minor": 2
}
