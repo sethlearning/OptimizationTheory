{
 "cells": [
  {
   "cell_type": "markdown",
   "metadata": {},
   "source": [
    "# Lab-03\n",
    "\n",
    "1.2.3. Управляющие структуры в Python.\n",
    "\n",
    "Тип работы:  Индивидуальная работа\n",
    "\n",
    "---\n",
    "\n",
    "Для заданного значения переменной N необходимо:\n",
    "\n",
    "- вывести сумму всех целых числа от 0 до N-1, если N<10\n",
    "\n",
    "- вывести текст \"used numbers= 0, 1, 2, 3, ..., N-1\", если 10<=N<20\n",
    "\n",
    "- вывести текст \"very big number\", если N>=20\n",
    "\n",
    "---\n",
    "\n",
    "**Примеры**: \n",
    "\n",
    "- для N=4 ваша программа должна вывести: 6\n",
    "\n",
    "- для N=12 ваша программа должна вывести: \"used numbers= 0, 1, 2, 3, 4, 5, 6, 7, 8, 9, 10, 11\"\n",
    "\n",
    "- для N=22 ваша программа должна вывести: \"very big number\""
   ]
  },
  {
   "cell_type": "code",
   "execution_count": 14,
   "metadata": {},
   "outputs": [
    {
     "name": "stdout",
     "output_type": "stream",
     "text": [
      "very big number\n"
     ]
    }
   ],
   "source": [
    "N = input()\n",
    "\n",
    "# N = 4 # return: 6\n",
    "# N = 12 # return: used numbers= 0, 1, 2, 3, 4, 5, 6, 7, 8, 9, 10, 11\n",
    "# N = 22 # return: very big number\n",
    "\n",
    "n = int(N)\n",
    "\n",
    "if n < 10:\n",
    "    result = 0\n",
    "    for i in range(n):\n",
    "        result += i\n",
    "\n",
    "elif n < 20:\n",
    "    result = 'used numbers= '\n",
    "    for i in range(n):\n",
    "        result += str(i) + ', '\n",
    "    else:\n",
    "        result = result[:-2]\n",
    "\n",
    "else:\n",
    "    result = 'very big number'\n",
    "\n",
    "print(result)"
   ]
  }
 ],
 "metadata": {
  "kernelspec": {
   "display_name": "Python 3.10.1 64-bit",
   "language": "python",
   "name": "python3"
  },
  "language_info": {
   "codemirror_mode": {
    "name": "ipython",
    "version": 3
   },
   "file_extension": ".py",
   "mimetype": "text/x-python",
   "name": "python",
   "nbconvert_exporter": "python",
   "pygments_lexer": "ipython3",
   "version": "3.10.1"
  },
  "orig_nbformat": 4,
  "vscode": {
   "interpreter": {
    "hash": "26de051ba29f2982a8de78e945f0abaf191376122a1563185a90213a26c5da77"
   }
  }
 },
 "nbformat": 4,
 "nbformat_minor": 2
}
