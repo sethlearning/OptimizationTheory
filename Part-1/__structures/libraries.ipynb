{
 "cells": [
  {
   "cell_type": "markdown",
   "metadata": {},
   "source": [
    "# Libraries"
   ]
  },
  {
   "cell_type": "markdown",
   "metadata": {},
   "source": [
    "## copy"
   ]
  },
  {
   "cell_type": "code",
   "execution_count": null,
   "metadata": {},
   "outputs": [],
   "source": [
    "import copy\n",
    "print(*list(filter(lambda x: x if x[:2] != '__' else None, dir(copy))), sep='\\n')"
   ]
  },
  {
   "cell_type": "markdown",
   "metadata": {},
   "source": [
    "## random"
   ]
  },
  {
   "cell_type": "code",
   "execution_count": null,
   "metadata": {},
   "outputs": [],
   "source": [
    "import random\n",
    "print(*list(filter(lambda x: x if x[:2] != '__' else None, dir(random))), sep='\\n')"
   ]
  },
  {
   "cell_type": "code",
   "execution_count": 11,
   "metadata": {},
   "outputs": [
    {
     "name": "stdout",
     "output_type": "stream",
     "text": [
      "[27, 10, 75, 88, 84, 3, 73, 50, 22, 33]\n"
     ]
    }
   ],
   "source": [
    "lst = [random.randint(1, 100) for _ in range(10)]\n",
    "print(lst)"
   ]
  },
  {
   "cell_type": "markdown",
   "metadata": {},
   "source": [
    "## math"
   ]
  },
  {
   "cell_type": "code",
   "execution_count": null,
   "metadata": {},
   "outputs": [],
   "source": [
    "import math\n",
    "print(*list(filter(lambda x: x if x[:2] != '__' else None, dir(math))), sep='\\n')"
   ]
  },
  {
   "cell_type": "markdown",
   "metadata": {},
   "source": [
    "## functools"
   ]
  },
  {
   "cell_type": "code",
   "execution_count": null,
   "metadata": {},
   "outputs": [],
   "source": [
    "import functools\n",
    "print(*list(filter(lambda x: x if x[:2] != '__' else None, dir(functools))), sep='\\n')"
   ]
  },
  {
   "cell_type": "markdown",
   "metadata": {},
   "source": [
    "## itertools"
   ]
  },
  {
   "cell_type": "code",
   "execution_count": null,
   "metadata": {},
   "outputs": [],
   "source": [
    "import itertools\n",
    "print(*list(filter(lambda x: x if x[:2] != '__' else None, dir(itertools))), sep='\\n')"
   ]
  },
  {
   "cell_type": "markdown",
   "metadata": {},
   "source": [
    "## operators"
   ]
  },
  {
   "cell_type": "code",
   "execution_count": null,
   "metadata": {},
   "outputs": [],
   "source": [
    "import operator\n",
    "print(*list(filter(lambda x: x if x[:2] != '__' else None, dir(operator))), sep='\\n')"
   ]
  },
  {
   "cell_type": "code",
   "execution_count": 12,
   "metadata": {},
   "outputs": [
    {
     "name": "stdout",
     "output_type": "stream",
     "text": [
      "ChainMap\n",
      "Counter\n",
      "OrderedDict\n",
      "UserDict\n",
      "UserList\n",
      "UserString\n",
      "_Link\n",
      "_OrderedDictItemsView\n",
      "_OrderedDictKeysView\n",
      "_OrderedDictValuesView\n",
      "_chain\n",
      "_collections_abc\n",
      "_count_elements\n",
      "_eq\n",
      "_iskeyword\n",
      "_itemgetter\n",
      "_proxy\n",
      "_recursive_repr\n",
      "_repeat\n",
      "_starmap\n",
      "_sys\n",
      "_tuplegetter\n",
      "abc\n",
      "defaultdict\n",
      "deque\n",
      "namedtuple\n"
     ]
    }
   ],
   "source": [
    "import collections\n",
    "print(*list(filter(lambda x: x if x[:2] != '__' else None, dir(collections))), sep='\\n')"
   ]
  },
  {
   "cell_type": "markdown",
   "metadata": {},
   "source": [
    "## collections"
   ]
  }
 ],
 "metadata": {
  "kernelspec": {
   "display_name": "Python 3.10.1 64-bit",
   "language": "python",
   "name": "python3"
  },
  "language_info": {
   "codemirror_mode": {
    "name": "ipython",
    "version": 3
   },
   "file_extension": ".py",
   "mimetype": "text/x-python",
   "name": "python",
   "nbconvert_exporter": "python",
   "pygments_lexer": "ipython3",
   "version": "3.10.1"
  },
  "orig_nbformat": 4,
  "vscode": {
   "interpreter": {
    "hash": "26de051ba29f2982a8de78e945f0abaf191376122a1563185a90213a26c5da77"
   }
  }
 },
 "nbformat": 4,
 "nbformat_minor": 2
}
