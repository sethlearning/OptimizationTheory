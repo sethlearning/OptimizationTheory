{
 "cells": [
  {
   "cell_type": "markdown",
   "metadata": {},
   "source": [
    "# ndarray"
   ]
  },
  {
   "cell_type": "code",
   "execution_count": 3,
   "metadata": {},
   "outputs": [
    {
     "name": "stdout",
     "output_type": "stream",
     "text": [
      "[1 2 3 4 5]\n",
      "<class 'numpy.ndarray'>\n",
      "int32\n"
     ]
    }
   ],
   "source": [
    "import numpy as np\n",
    "\n",
    "a = np.array([1,2,3,4,5])\n",
    "print(a)\n",
    "print(type(a))\n",
    "\n",
    "# type of elements in the array\n",
    "print(a.dtype)"
   ]
  },
  {
   "cell_type": "code",
   "execution_count": 8,
   "metadata": {},
   "outputs": [
    {
     "name": "stdout",
     "output_type": "stream",
     "text": [
      "[b'1' b'2' b'3' b'4']\n",
      "|S1\n"
     ]
    }
   ],
   "source": [
    "import numpy as np\n",
    "\n",
    "arr = np.array([1, 2, 3, 4], dtype='S')\n",
    "\n",
    "print(arr)\n",
    "print(arr.dtype)"
   ]
  },
  {
   "cell_type": "code",
   "execution_count": 5,
   "metadata": {},
   "outputs": [
    {
     "name": "stdout",
     "output_type": "stream",
     "text": [
      "['1' '2' '3' '4']\n",
      "<U11\n"
     ]
    }
   ],
   "source": [
    "import numpy as np\n",
    "\n",
    "arr = np.array([1, '2', 3, 4])\n",
    "\n",
    "print(arr)\n",
    "print(arr.dtype)"
   ]
  },
  {
   "cell_type": "code",
   "execution_count": 9,
   "metadata": {},
   "outputs": [
    {
     "name": "stdout",
     "output_type": "stream",
     "text": [
      "[1 2 3]\n",
      "int32\n"
     ]
    }
   ],
   "source": [
    "import numpy as np\n",
    "\n",
    "arr = np.array([1.1, 2.1, 3.1])\n",
    "\n",
    "newarr = arr.astype('i')\n",
    "\n",
    "print(newarr)\n",
    "print(newarr.dtype)"
   ]
  },
  {
   "cell_type": "code",
   "execution_count": 12,
   "metadata": {},
   "outputs": [
    {
     "name": "stdout",
     "output_type": "stream",
     "text": [
      "[1 2 4]\n",
      "[1 2 4]\n",
      "[1 2 3]\n",
      "None\n",
      "[1 2 4]\n",
      "None\n"
     ]
    }
   ],
   "source": [
    "a1 = np.array([1,2,3])\n",
    "a2 = a1.view()\n",
    "a3 = a1.copy()\n",
    "\n",
    "a1[2] = 4\n",
    "\n",
    "print(a1)\n",
    "print(a2)\n",
    "print(a3)\n",
    "\n",
    "print(a1.base)\n",
    "print(a2.base)\n",
    "print(a3.base)\n",
    "\n"
   ]
  },
  {
   "cell_type": "code",
   "execution_count": 13,
   "metadata": {},
   "outputs": [
    {
     "name": "stdout",
     "output_type": "stream",
     "text": [
      "[[1 2 5 6]\n",
      " [3 4 7 8]]\n"
     ]
    }
   ],
   "source": [
    "import numpy as np\n",
    "\n",
    "arr1 = np.array([[1, 2], [3, 4]])\n",
    "\n",
    "arr2 = np.array([[5, 6], [7, 8]])\n",
    "\n",
    "arr = np.concatenate((arr1, arr2), axis=1)\n",
    "\n",
    "print(arr)"
   ]
  },
  {
   "cell_type": "code",
   "execution_count": 15,
   "metadata": {},
   "outputs": [
    {
     "name": "stdout",
     "output_type": "stream",
     "text": [
      "[[1 2]\n",
      " [3 4]\n",
      " [5 6]\n",
      " [7 8]]\n",
      "(4, 2)\n"
     ]
    }
   ],
   "source": [
    "import numpy as np\n",
    "\n",
    "arr1 = np.array([[1, 2], [3, 4]])\n",
    "\n",
    "arr2 = np.array([[5, 6], [7, 8]])\n",
    "\n",
    "arr = np.concatenate((arr1, arr2), axis=0)\n",
    "\n",
    "print(arr)\n",
    "print(arr.shape)"
   ]
  },
  {
   "cell_type": "code",
   "execution_count": 29,
   "metadata": {},
   "outputs": [
    {
     "name": "stdout",
     "output_type": "stream",
     "text": [
      "[[0.83294145 0.63006418 0.68695608]\n",
      " [0.29741979 0.08186154 0.14483717]]\n"
     ]
    }
   ],
   "source": [
    "import numpy as np\n",
    "\n",
    "ar1 = np.zeros(shape=(3,4, 5), dtype=int)\n",
    "# print(ar1)\n",
    "\n",
    "ar2 = np.ones(shape=(5, 4, 3), dtype=float)\n",
    "# print(ar2)\n",
    "ar3 = np.full(shape = (5, 6), dtype = int, fill_value=15)\n",
    "# print(ar3)\n",
    "\n",
    "em = np.eye(5, dtype=int)\n",
    "# print(em)\n",
    "\n",
    "rr = np.random.random(size=(2,3))\n",
    "print(rr)"
   ]
  },
  {
   "cell_type": "code",
   "execution_count": 56,
   "metadata": {},
   "outputs": [
    {
     "name": "stdout",
     "output_type": "stream",
     "text": [
      "[[15 15 15]\n",
      " [15 15 15]]\n",
      "[[[15]\n",
      "  [15]\n",
      "  [15]]\n",
      "\n",
      " [[15]\n",
      "  [15]\n",
      "  [15]]]\n",
      "(2, 3)\n",
      "int32\n",
      "6\n",
      "4\n",
      "24 B\n"
     ]
    }
   ],
   "source": [
    "ar4 = np.full(shape = (2,3), dtype = int, fill_value= 15)\n",
    "print(ar4)\n",
    "print(ar4[:,:,np.newaxis])\n",
    "print(ar4.shape)\n",
    "print(ar4.dtype)\n",
    "print(ar4.size)\n",
    "print(ar4.itemsize)\n",
    "print(ar4.size * ar4.itemsize, 'B')\n",
    "\n"
   ]
  },
  {
   "cell_type": "code",
   "execution_count": 65,
   "metadata": {},
   "outputs": [
    {
     "name": "stdout",
     "output_type": "stream",
     "text": [
      "[[[0.23552075 0.47970583 0.54951578 0.44002246]\n",
      "  [0.92778192 0.3815379  0.76388889 0.59679901]\n",
      "  [0.97819664 0.33936391 0.29726175 0.21233919]]\n",
      "\n",
      " [[0.37686915 0.4430862  0.79161883 0.25850384]\n",
      "  [0.6284281  0.76830713 0.46063222 0.4264124 ]\n",
      "  [0.18083882 0.75658503 0.54096105 0.80867957]]] \n",
      "\n",
      "\n",
      "[[0.23552075 0.92778192 0.97819664]\n",
      " [0.37686915 0.6284281  0.18083882]]\n",
      "[[0.47970583 0.3815379  0.33936391]\n",
      " [0.4430862  0.76830713 0.75658503]]\n",
      "[[0.54951578 0.76388889 0.29726175]\n",
      " [0.79161883 0.46063222 0.54096105]]\n",
      "[[0.44002246 0.59679901 0.21233919]\n",
      " [0.25850384 0.4264124  0.80867957]]\n"
     ]
    }
   ],
   "source": [
    "rr = np.random.random(size=(2,3,4))\n",
    "print(rr, \"\\n\\n\")\n",
    "\n",
    "for i in range(rr.shape[2]):\n",
    "    print(rr[:,:,i])"
   ]
  },
  {
   "cell_type": "code",
   "execution_count": 81,
   "metadata": {},
   "outputs": [
    {
     "name": "stdout",
     "output_type": "stream",
     "text": [
      "[[[0.21803176 0.62668017 0.34924175 0.902874  ]\n",
      "  [0.06952214 0.0944335  0.42839098 0.54157442]\n",
      "  [0.69186264 0.01667109 0.664632   0.02369762]]\n",
      "\n",
      " [[0.78629469 0.03736246 0.16418656 0.53864661]\n",
      "  [0.4709437  0.00626923 0.30604781 0.30762796]\n",
      "  [0.60002623 0.2156587  0.13223115 0.0389741 ]]] \n",
      "\n",
      "\n",
      "[[0.78629469 0.03736246 0.16418656 0.53864661]\n",
      " [0.60002623 0.2156587  0.13223115 0.0389741 ]] \n",
      "\n",
      "\n",
      "[0.03736246 0.13223115] \n",
      "\n",
      "\n",
      "[[0.03736246 0.00626923 0.2156587 ]\n",
      " [0.16418656 0.30604781 0.13223115]]\n"
     ]
    }
   ],
   "source": [
    "rr = np.random.random(size=(2,3,4))\n",
    "print(rr, \"\\n\\n\")\n",
    "\n",
    "print(rr[1, (0,2)], \"\\n\\n\")\n",
    "\n",
    "print(rr[1, (0,2), [1,2]], \"\\n\\n\")\n",
    "\n",
    "print(rr[1, :, [1,2]])"
   ]
  }
 ],
 "metadata": {
  "kernelspec": {
   "display_name": "Python 3.10.1 64-bit",
   "language": "python",
   "name": "python3"
  },
  "language_info": {
   "codemirror_mode": {
    "name": "ipython",
    "version": 3
   },
   "file_extension": ".py",
   "mimetype": "text/x-python",
   "name": "python",
   "nbconvert_exporter": "python",
   "pygments_lexer": "ipython3",
   "version": "3.10.1"
  },
  "orig_nbformat": 4,
  "vscode": {
   "interpreter": {
    "hash": "26de051ba29f2982a8de78e945f0abaf191376122a1563185a90213a26c5da77"
   }
  }
 },
 "nbformat": 4,
 "nbformat_minor": 2
}
