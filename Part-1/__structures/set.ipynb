{
 "cells": [
  {
   "cell_type": "markdown",
   "metadata": {},
   "source": [
    "# Sets"
   ]
  },
  {
   "cell_type": "code",
   "execution_count": 4,
   "metadata": {},
   "outputs": [
    {
     "name": "stdout",
     "output_type": "stream",
     "text": [
      "{1, 2, 3}\n",
      "True\n"
     ]
    }
   ],
   "source": [
    "s = {1,2,3}\n",
    "print(s)\n",
    "\n",
    "print({1,2,3} == {3,2,1})\n",
    "\n"
   ]
  },
  {
   "cell_type": "code",
   "execution_count": 5,
   "metadata": {},
   "outputs": [
    {
     "name": "stdout",
     "output_type": "stream",
     "text": [
      "{'two', 'five', 'three', 'four', 'one'}\n"
     ]
    }
   ],
   "source": [
    "s = {'one', 'two', 'three'}\n",
    "d = {'four': 4, 'five': 5}\n",
    "\n",
    "s.update(d)\n",
    "print(s)"
   ]
  },
  {
   "cell_type": "code",
   "execution_count": 9,
   "metadata": {},
   "outputs": [
    {
     "name": "stdout",
     "output_type": "stream",
     "text": [
      "False\n",
      "True\n",
      "True\n",
      "False\n"
     ]
    }
   ],
   "source": [
    "superset = {1,2,3,4,5}\n",
    "subset = {2,3,4}\n",
    "print(superset.issubset(subset))\n",
    "print(subset.issubset(superset))\n",
    "\n",
    "print(superset.issuperset(subset))\n",
    "print(subset.issuperset(superset))"
   ]
  },
  {
   "cell_type": "code",
   "execution_count": 19,
   "metadata": {},
   "outputs": [
    {
     "name": "stdout",
     "output_type": "stream",
     "text": [
      "{1, 2, 3, 4}\n",
      "{1, 2, 3, 4}\n",
      "{2, 3}\n",
      "{2, 3}\n",
      "{1}\n",
      "{1}\n",
      "{1, 4}\n",
      "{1, 4}\n"
     ]
    }
   ],
   "source": [
    "s1 = {1,2,3}\n",
    "s2 = {2,3,4}\n",
    "\n",
    "print(s1 | s2)\n",
    "print(s1.union(s2))\n",
    "\n",
    "print(s1 & s2)\n",
    "print(s1.intersection(s2))\n",
    "\n",
    "print(s1 - s2)\n",
    "print(s1.difference(s2))\n",
    "\n",
    "print(s1 ^ s2)\n",
    "print(s1.symmetric_difference(s2))"
   ]
  }
 ],
 "metadata": {
  "kernelspec": {
   "display_name": "Python 3.10.1 64-bit",
   "language": "python",
   "name": "python3"
  },
  "language_info": {
   "codemirror_mode": {
    "name": "ipython",
    "version": 3
   },
   "file_extension": ".py",
   "mimetype": "text/x-python",
   "name": "python",
   "nbconvert_exporter": "python",
   "pygments_lexer": "ipython3",
   "version": "3.10.1"
  },
  "orig_nbformat": 4,
  "vscode": {
   "interpreter": {
    "hash": "26de051ba29f2982a8de78e945f0abaf191376122a1563185a90213a26c5da77"
   }
  }
 },
 "nbformat": 4,
 "nbformat_minor": 2
}
