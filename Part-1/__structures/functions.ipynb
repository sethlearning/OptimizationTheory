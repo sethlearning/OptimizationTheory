{
 "cells": [
  {
   "cell_type": "markdown",
   "metadata": {},
   "source": [
    "# Functions"
   ]
  },
  {
   "cell_type": "code",
   "execution_count": 3,
   "metadata": {},
   "outputs": [
    {
     "name": "stdout",
     "output_type": "stream",
     "text": [
      "(1, 2, 3, 4)\n",
      "None\n"
     ]
    }
   ],
   "source": [
    "def f1(*args):\n",
    "    print(args)\n",
    "\n",
    "res = f1(1,2,3,4)\n",
    "print(res)"
   ]
  },
  {
   "cell_type": "code",
   "execution_count": 17,
   "metadata": {},
   "outputs": [
    {
     "name": "stdout",
     "output_type": "stream",
     "text": [
      "[11]\n",
      "[11, 11]\n",
      "[11, 11, 11]\n",
      "[0, 11]\n",
      "[11, 11, 11, 11]\n",
      "[11, 11, 11, 11, 11]\n",
      "[11, 11, 11, 11, 11, 11]\n",
      "([11, 11, 11, 11, 11, 11],)\n"
     ]
    }
   ],
   "source": [
    "def f2(alist = []):\n",
    "    alist.append(11)\n",
    "    return alist\n",
    "\n",
    "print(f2())\n",
    "print(f2())\n",
    "print(f2())\n",
    "print(f2([0]))\n",
    "print(f2())\n",
    "print(f2())\n",
    "print(f2())\n",
    "print(f2.__defaults__)"
   ]
  },
  {
   "cell_type": "code",
   "execution_count": 12,
   "metadata": {},
   "outputs": [
    {
     "name": "stdout",
     "output_type": "stream",
     "text": [
      "6\n",
      "6\n",
      "6\n",
      "12\n",
      "6\n",
      "6\n",
      "6\n"
     ]
    }
   ],
   "source": [
    "def f3(i = 5):\n",
    "    i += 1\n",
    "    return i\n",
    "\n",
    "print(f3())\n",
    "print(f3())\n",
    "print(f3())\n",
    "print(f3(11))\n",
    "print(f3())\n",
    "print(f3())\n",
    "print(f3())\n"
   ]
  },
  {
   "cell_type": "code",
   "execution_count": 16,
   "metadata": {},
   "outputs": [
    {
     "name": "stdout",
     "output_type": "stream",
     "text": [
      "!\n",
      "!\n",
      "A!\n",
      "!\n",
      "!\n"
     ]
    }
   ],
   "source": [
    "def f4(s = ''):\n",
    "    s += '!'\n",
    "    return s\n",
    "\n",
    "print(f4())\n",
    "print(f4())\n",
    "print(f4('A'))\n",
    "print(f4())\n",
    "print(f4())"
   ]
  },
  {
   "cell_type": "code",
   "execution_count": 23,
   "metadata": {},
   "outputs": [
    {
     "name": "stdout",
     "output_type": "stream",
     "text": [
      "6\n",
      "5\n"
     ]
    }
   ],
   "source": [
    "def f5(a):\n",
    "    a += 1\n",
    "    print(a)\n",
    "\n",
    "a = 5\n",
    "f5(a)\n",
    "print(a)"
   ]
  },
  {
   "cell_type": "code",
   "execution_count": 25,
   "metadata": {},
   "outputs": [
    {
     "name": "stdout",
     "output_type": "stream",
     "text": [
      "6\n",
      "6\n"
     ]
    }
   ],
   "source": [
    "def f6():\n",
    "    global a\n",
    "    a += 1\n",
    "    print(a)\n",
    "\n",
    "a = 5\n",
    "f6()\n",
    "print(a)"
   ]
  },
  {
   "cell_type": "code",
   "execution_count": 38,
   "metadata": {},
   "outputs": [
    {
     "name": "stdout",
     "output_type": "stream",
     "text": [
      "{'one': 11, 'two': 22, 'three': 33}\n",
      "one : 11\n",
      "two : 22\n",
      "three : 33\n"
     ]
    }
   ],
   "source": [
    "def f7(**d):\n",
    "    print(d)\n",
    "\n",
    "    for key, value in d.items():\n",
    "        print(key, ':', value)\n",
    "\n",
    "dd = {'one': 11, 'two': 22, 'three': 33}\n",
    "\n",
    "f7(**dd)"
   ]
  },
  {
   "cell_type": "code",
   "execution_count": 40,
   "metadata": {},
   "outputs": [
    {
     "name": "stdout",
     "output_type": "stream",
     "text": [
      "1 2 3\n"
     ]
    }
   ],
   "source": [
    "s = '123'\n",
    "print(*s)\n"
   ]
  },
  {
   "cell_type": "code",
   "execution_count": 52,
   "metadata": {},
   "outputs": [
    {
     "name": "stdout",
     "output_type": "stream",
     "text": [
      "Hi, John!\n",
      "Hello, John!\n",
      "Yo, John!\n",
      "f2\n"
     ]
    },
    {
     "ename": "TypeError",
     "evalue": "f1.<locals>.f2() missing 1 required positional argument: 'name'",
     "output_type": "error",
     "traceback": [
      "\u001b[1;31m---------------------------------------------------------------------------\u001b[0m",
      "\u001b[1;31mTypeError\u001b[0m                                 Traceback (most recent call last)",
      "\u001b[1;32md:\\git\\learn\\OptimisationTheory\\structures\\functions.ipynb Cell 10\u001b[0m in \u001b[0;36m<cell line: 16>\u001b[1;34m()\u001b[0m\n\u001b[0;32m     <a href='vscode-notebook-cell:/d%3A/git/learn/OptimisationTheory/structures/functions.ipynb#X12sZmlsZQ%3D%3D?line=11'>12</a>\u001b[0m \u001b[39mprint\u001b[39m(f5(\u001b[39m'\u001b[39m\u001b[39mJohn\u001b[39m\u001b[39m'\u001b[39m))\n\u001b[0;32m     <a href='vscode-notebook-cell:/d%3A/git/learn/OptimisationTheory/structures/functions.ipynb#X12sZmlsZQ%3D%3D?line=13'>14</a>\u001b[0m \u001b[39mprint\u001b[39m(f5\u001b[39m.\u001b[39m\u001b[39m__name__\u001b[39m)\n\u001b[1;32m---> <a href='vscode-notebook-cell:/d%3A/git/learn/OptimisationTheory/structures/functions.ipynb#X12sZmlsZQ%3D%3D?line=15'>16</a>\u001b[0m f5()\n",
      "\u001b[1;31mTypeError\u001b[0m: f1.<locals>.f2() missing 1 required positional argument: 'name'"
     ]
    }
   ],
   "source": [
    "def f1(g = 'Hi'):\n",
    "    def f2(name, gr = g):\n",
    "        return f'{gr}, {name}!'\n",
    "    return f2\n",
    "\n",
    "f3 = f1()\n",
    "f4 = f1('Hello')\n",
    "f5 = f1('Yo')\n",
    "\n",
    "print(f3('John'))\n",
    "print(f4('John'))\n",
    "print(f5('John'))\n",
    "\n",
    "print(f5.__name__)\n",
    "\n"
   ]
  },
  {
   "cell_type": "code",
   "execution_count": 55,
   "metadata": {},
   "outputs": [
    {
     "name": "stdout",
     "output_type": "stream",
     "text": [
      "Hello\n"
     ]
    }
   ],
   "source": [
    "def f7():\n",
    "    print(\"Hello\")\n",
    "\n",
    "f = f7\n",
    "type(f)\n",
    "\n",
    "f()"
   ]
  }
 ],
 "metadata": {
  "kernelspec": {
   "display_name": "Python 3.10.1 64-bit",
   "language": "python",
   "name": "python3"
  },
  "language_info": {
   "codemirror_mode": {
    "name": "ipython",
    "version": 3
   },
   "file_extension": ".py",
   "mimetype": "text/x-python",
   "name": "python",
   "nbconvert_exporter": "python",
   "pygments_lexer": "ipython3",
   "version": "3.10.1"
  },
  "orig_nbformat": 4,
  "vscode": {
   "interpreter": {
    "hash": "26de051ba29f2982a8de78e945f0abaf191376122a1563185a90213a26c5da77"
   }
  }
 },
 "nbformat": 4,
 "nbformat_minor": 2
}
