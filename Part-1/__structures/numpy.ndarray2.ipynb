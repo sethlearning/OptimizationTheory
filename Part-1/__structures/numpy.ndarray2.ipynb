{
 "cells": [
  {
   "cell_type": "code",
   "execution_count": 7,
   "metadata": {},
   "outputs": [
    {
     "name": "stdout",
     "output_type": "stream",
     "text": [
      "\n",
      "+\n",
      "[[8 8 8 8]\n",
      " [8 8 8 8]\n",
      " [8 8 8 8]]\n",
      "\n",
      "-\n",
      "[[2 2 2 2]\n",
      " [2 2 2 2]\n",
      " [2 2 2 2]]\n",
      "\n",
      "*\n",
      "[[15 15 15 15]\n",
      " [15 15 15 15]\n",
      " [15 15 15 15]]\n",
      "\n",
      "/\n",
      "[[1.66666667 1.66666667 1.66666667 1.66666667]\n",
      " [1.66666667 1.66666667 1.66666667 1.66666667]\n",
      " [1.66666667 1.66666667 1.66666667 1.66666667]]\n"
     ]
    }
   ],
   "source": [
    "import numpy as np\n",
    "a1 = np.full(shape=(3,4), dtype=int, fill_value=5)\n",
    "a2 = np.full(shape=(3,4), dtype=int, fill_value=3)\n",
    "\n",
    "print(\"\\n+\\n\", a1 + a2, sep='')\n",
    "print(\"\\n-\\n\", a1 - a2, sep='')\n",
    "print(\"\\n*\\n\", a1 * a2, sep='')\n",
    "print(\"\\n/\\n\", a1 / a2, sep='')"
   ]
  },
  {
   "cell_type": "code",
   "execution_count": 9,
   "metadata": {},
   "outputs": [
    {
     "name": "stdout",
     "output_type": "stream",
     "text": [
      "\n",
      "+2\n",
      "[[7 7 7 7]\n",
      " [7 7 7 7]\n",
      " [7 7 7 7]]\n",
      "\n",
      "-2\n",
      "[[3 3 3 3]\n",
      " [3 3 3 3]\n",
      " [3 3 3 3]]\n",
      "\n",
      "*2\n",
      "[[10 10 10 10]\n",
      " [10 10 10 10]\n",
      " [10 10 10 10]]\n",
      "\n",
      "/2\n",
      "[[2.5 2.5 2.5 2.5]\n",
      " [2.5 2.5 2.5 2.5]\n",
      " [2.5 2.5 2.5 2.5]]\n"
     ]
    }
   ],
   "source": [
    "import numpy as np\n",
    "a1 = np.full(shape=(3,4), dtype=int, fill_value=5)\n",
    "a2 = np.full(shape=(3,4), dtype=int, fill_value=3)\n",
    "\n",
    "print(\"\\n+2\\n\", a1 + 2, sep='')\n",
    "print(\"\\n-2\\n\", a1 - 2, sep='')\n",
    "print(\"\\n*2\\n\", a1 * 2, sep='')\n",
    "print(\"\\n/2\\n\", a1 / 2, sep='')\n"
   ]
  },
  {
   "cell_type": "code",
   "execution_count": 16,
   "metadata": {},
   "outputs": [
    {
     "name": "stdout",
     "output_type": "stream",
     "text": [
      "\n",
      "@2\n",
      "[[60 60 60]\n",
      " [60 60 60]\n",
      " [60 60 60]]\n",
      "\n",
      "[[60 60 60]\n",
      " [60 60 60]\n",
      " [60 60 60]]\n"
     ]
    }
   ],
   "source": [
    "import numpy as np\n",
    "a1 = np.full(shape=(3,4), dtype=int, fill_value=5)\n",
    "a2 = np.full(shape=(3,4), dtype=int, fill_value=3)\n",
    "\n",
    "print(\"\\n@2\\n\", a1 @ a2.T, \"\\n\", sep='')\n",
    "\n",
    "print(np.dot(a1, a2.T))\n"
   ]
  },
  {
   "cell_type": "code",
   "execution_count": 19,
   "metadata": {},
   "outputs": [
    {
     "name": "stdout",
     "output_type": "stream",
     "text": [
      "[[ 1  2  3  4]\n",
      " [ 5  6  7  8]\n",
      " [ 9 10 11 12]] \n",
      "\n",
      "[10 20 30 40] \n",
      "\n",
      "[[11 22 33 44]\n",
      " [15 26 37 48]\n",
      " [19 30 41 52]]\n"
     ]
    }
   ],
   "source": [
    "import numpy as np\n",
    "\n",
    "a1 = np.array([[1, 2, 3, 4], [5, 6, 7, 8], [9, 10, 11, 12]])\n",
    "print(a1, \"\\n\")\n",
    "v1 = np.array([10, 20, 30, 40])\n",
    "print(v1, \"\\n\")\n",
    "\n",
    "print(a1 + v1)"
   ]
  },
  {
   "cell_type": "code",
   "execution_count": 20,
   "metadata": {},
   "outputs": [
    {
     "name": "stdout",
     "output_type": "stream",
     "text": [
      "[[ 1  2  3  4]\n",
      " [ 5  6  7  8]\n",
      " [ 9 10 11 12]] \n",
      "\n",
      "[[10]\n",
      " [20]\n",
      " [30]] \n",
      "\n",
      "[[11 12 13 14]\n",
      " [25 26 27 28]\n",
      " [39 40 41 42]]\n"
     ]
    }
   ],
   "source": [
    "import numpy as np\n",
    "\n",
    "a1 = np.array([[1, 2, 3, 4], [5, 6, 7, 8], [9, 10, 11, 12]])\n",
    "print(a1, \"\\n\")\n",
    "v1 = np.array([[10], [20], [30]])\n",
    "print(v1, \"\\n\")\n",
    "\n",
    "print(a1 + v1)"
   ]
  },
  {
   "cell_type": "code",
   "execution_count": 34,
   "metadata": {},
   "outputs": [
    {
     "name": "stdout",
     "output_type": "stream",
     "text": [
      "[False False  True False]\n",
      "f = [False False  True  True]\n",
      "[3 4]\n",
      "[5 4]\n"
     ]
    }
   ],
   "source": [
    "import numpy as np\n",
    "\n",
    "a1 = np.array([1, 2, 3, 4])\n",
    "a2 = np.array([5, 4, 3, 2])\n",
    "\n",
    "print(a1 == a2)\n",
    "\n",
    "f = a1 >= a2\n",
    "print(\"f =\", f)\n",
    "print(a1[f])\n",
    "print(a2[~f])\n",
    "\n"
   ]
  },
  {
   "cell_type": "code",
   "execution_count": 39,
   "metadata": {},
   "outputs": [
    {
     "name": "stdout",
     "output_type": "stream",
     "text": [
      "[10  2 10  4]\n",
      "[10  2 30  4]\n"
     ]
    }
   ],
   "source": [
    "import numpy as np\n",
    "\n",
    "a1 = np.array([1, 2, 3, 4])\n",
    "a1[a1 % 2 == 1] = 10\n",
    "print(a1)\n",
    "\n",
    "a1 = np.array([1, 2, 3, 4])\n",
    "a1[a1 % 2 == 1] *= 10\n",
    "print(a1)"
   ]
  },
  {
   "cell_type": "code",
   "execution_count": 41,
   "metadata": {},
   "outputs": [
    {
     "name": "stdout",
     "output_type": "stream",
     "text": [
      "[False False  True False]\n",
      "[ True False  True  True]\n"
     ]
    }
   ],
   "source": [
    "import numpy as np\n",
    "\n",
    "l1 = np.array([1,0,1,0], dtype=bool)\n",
    "l2 = np.array([0,0,1,1], dtype=bool)\n",
    "\n",
    "print(np.logical_and(l1, l2))\n",
    "print(np.logical_or(l1, l2))"
   ]
  }
 ],
 "metadata": {
  "kernelspec": {
   "display_name": "Python 3.10.1 64-bit",
   "language": "python",
   "name": "python3"
  },
  "language_info": {
   "codemirror_mode": {
    "name": "ipython",
    "version": 3
   },
   "file_extension": ".py",
   "mimetype": "text/x-python",
   "name": "python",
   "nbconvert_exporter": "python",
   "pygments_lexer": "ipython3",
   "version": "3.10.1"
  },
  "orig_nbformat": 4,
  "vscode": {
   "interpreter": {
    "hash": "26de051ba29f2982a8de78e945f0abaf191376122a1563185a90213a26c5da77"
   }
  }
 },
 "nbformat": 4,
 "nbformat_minor": 2
}
