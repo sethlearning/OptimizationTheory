{
 "cells": [
  {
   "cell_type": "code",
   "execution_count": 6,
   "metadata": {},
   "outputs": [
    {
     "name": "stdout",
     "output_type": "stream",
     "text": [
      "0.16641297548598188\n",
      "[0.76478052 0.21548398]\n",
      "[[0.98425536 0.04701667 0.07441447]\n",
      " [0.23717923 0.0432773  0.84906106]]\n"
     ]
    }
   ],
   "source": [
    "import numpy as np\n",
    "\n",
    "print(np.random.sample())\n",
    "print(np.random.sample((2,)))\n",
    "print(np.random.sample((2,3)))"
   ]
  },
  {
   "cell_type": "code",
   "execution_count": 36,
   "metadata": {},
   "outputs": [
    {
     "name": "stdout",
     "output_type": "stream",
     "text": [
      "(100, 10)\n",
      "[0, 1, 2, 4, 5, 13, 14, 17, 19, 20, 22, 23, 24, 25, 27, 28, 29, 30, 33, 34, 36, 37, 38, 40, 41, 42, 43, 44, 46, 47, 48, 49, 50, 51, 52, 55, 58, 59, 63, 64, 65, 66, 67, 68, 69, 71, 72, 76, 77, 78, 81, 84, 86, 87, 89, 92, 93, 95, 96, 99]\n",
      "(60, 10)\n",
      "(40, 10)\n"
     ]
    }
   ],
   "source": [
    "r = np.random.random(size=(100,10))\n",
    "print(r.shape)\n",
    "\n",
    "nums = np.random.choice(len(r), int(0.6 * len(r)), replace=False)\n",
    "print(sorted(nums))\n",
    "\n",
    "first = r[nums]\n",
    "print(first.shape)\n",
    "\n",
    "notnums = list(set(range(len(r))) - set(nums))\n",
    "second = r[notnums]\n",
    "print(second.shape)"
   ]
  },
  {
   "cell_type": "code",
   "execution_count": 33,
   "metadata": {},
   "outputs": [
    {
     "name": "stdout",
     "output_type": "stream",
     "text": [
      "[ 1 23 15  7  5  3  4 19 22 21  6  4 22 10 21]\n",
      "[23 13 25  6 13 19  1 19 13  5 13 12 23 23 22]\n",
      "[[21  6  3 13  4  2 16 22  8 22]\n",
      " [15  8  9 11  8  7 24  7  7  8]\n",
      " [10 23 18 23 20  5 11 12 16  9]\n",
      " [ 8  8 13  9  6 10  7 13  5 15]\n",
      " [ 9  2 21 10 13  1 23  5 11  6]]\n"
     ]
    },
    {
     "name": "stderr",
     "output_type": "stream",
     "text": [
      "C:\\Users\\SergeyVasin\\AppData\\Local\\Temp\\ipykernel_7316\\2224495323.py:2: DeprecationWarning: This function is deprecated. Please call randint(1, 25 + 1) instead\n",
      "  print(np.random.random_integers(1, 25, 15))\n"
     ]
    }
   ],
   "source": [
    "print(np.random.randint(1, 25, 15))\n",
    "print(np.random.random_integers(1, 25, 15))\n",
    "\n",
    "print(np.random.randint(1, 25, (5,10)))"
   ]
  },
  {
   "cell_type": "code",
   "execution_count": 34,
   "metadata": {},
   "outputs": [
    {
     "name": "stdout",
     "output_type": "stream",
     "text": [
      "[[ 2.16079465  9.36594221 20.98268374 19.86096348 13.95416607 10.13748254\n",
      "  13.2336462   5.04109547  8.03592902  5.57817917]\n",
      " [ 3.85957801  6.96285572 16.10080147 13.9773441  13.87068895  3.18715726\n",
      "  23.86358147  3.79702633 12.544565   13.57100915]\n",
      " [ 4.95484082 17.61725611  8.04008217 24.23492028  2.33447429  8.73152364\n",
      "  17.87351915  6.33872902  4.2530771   4.8120475 ]\n",
      " [16.33563238  3.39039916 24.47565325  8.93902663 20.53521137  6.74496367\n",
      "   4.63757366  6.21703354 14.98976619 16.40430984]\n",
      " [ 3.17029265 22.86483361 10.19901784  3.47021766 13.65866082 17.54185679\n",
      "  20.65475723  1.95236656 17.99887978 22.88919254]]\n"
     ]
    }
   ],
   "source": [
    "print(np.random.uniform(1, 25, (5,10)))\n"
   ]
  },
  {
   "cell_type": "code",
   "execution_count": 41,
   "metadata": {},
   "outputs": [
    {
     "name": "stdout",
     "output_type": "stream",
     "text": [
      "[ 0  1  2  3  4  5  6  7  8  9 10 11 12 13 14 15 16 17 18 19 20 21 22 23\n",
      " 24 25 26 27 28 29 30 31 32 33 34 35 36 37 38 39 40 41 42 43 44 45 46 47\n",
      " 48 49 50 51 52 53 54 55 56 57 58 59 60 61 62 63 64 65 66 67 68 69 70 71\n",
      " 72 73 74 75 76 77 78 79 80 81 82 83 84 85 86 87 88 89 90 91 92 93 94 95\n",
      " 96 97 98 99]\n",
      "[59 30 67 46 22 91 69 64  8 25 50 48  4 68 23 13 89 61 55 98 18 62 79 32\n",
      " 28 14 49 29 95 47 88  3 33 97 76 93 38 60 77 34 84 35 53 41 20 39 56 66\n",
      " 58 27  0 36 52 75 65 82 73  7 24 37 85 70 54 94 17 45 80 72 86 42 40  6\n",
      " 10 19 21 12  2 83 16 57  5 63 11 78 92 74 87 90  1 43 71 44 96  9 15 81\n",
      " 26 31 51 99]\n",
      "(60, 10)\n",
      "(40, 10)\n"
     ]
    }
   ],
   "source": [
    "r = np.random.random(size=(100,10))\n",
    "\n",
    "b = int(0.6 * len(r))\n",
    "\n",
    "nums = np.array(range(len(r)))\n",
    "print(nums)\n",
    "\n",
    "np.random.shuffle(nums)\n",
    "print(nums)\n",
    "\n",
    "first = r[nums[:b]]\n",
    "second = r[nums[b:]]\n",
    "\n",
    "print(first.shape)\n",
    "print(second.shape)"
   ]
  },
  {
   "cell_type": "code",
   "execution_count": 63,
   "metadata": {},
   "outputs": [
    {
     "name": "stdout",
     "output_type": "stream",
     "text": [
      "[0.65358959 0.11500694 0.95028286 0.4821914  0.87247454 0.21233268\n",
      " 0.04070962 0.39719446 0.2331322  0.84174072]\n",
      "[0.60133682 0.84495957 0.06837826 0.73653622 0.97122398 0.01446231\n",
      " 0.41560459 0.82385223 0.55452873 0.32876375]\n"
     ]
    }
   ],
   "source": [
    "np.random.seed(1000)\n",
    "print(np.random.random(10))\n",
    "np.random.seed()\n",
    "print(np.random.random(10))"
   ]
  }
 ],
 "metadata": {
  "kernelspec": {
   "display_name": "Python 3.10.1 64-bit",
   "language": "python",
   "name": "python3"
  },
  "language_info": {
   "codemirror_mode": {
    "name": "ipython",
    "version": 3
   },
   "file_extension": ".py",
   "mimetype": "text/x-python",
   "name": "python",
   "nbconvert_exporter": "python",
   "pygments_lexer": "ipython3",
   "version": "3.10.1"
  },
  "orig_nbformat": 4,
  "vscode": {
   "interpreter": {
    "hash": "26de051ba29f2982a8de78e945f0abaf191376122a1563185a90213a26c5da77"
   }
  }
 },
 "nbformat": 4,
 "nbformat_minor": 2
}
