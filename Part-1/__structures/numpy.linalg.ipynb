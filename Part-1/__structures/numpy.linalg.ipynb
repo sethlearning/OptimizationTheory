{
 "cells": [
  {
   "cell_type": "code",
   "execution_count": 8,
   "metadata": {},
   "outputs": [
    {
     "name": "stdout",
     "output_type": "stream",
     "text": [
      "[[2 4 0 4 1]\n",
      " [2 4 1 1 0]\n",
      " [1 1 1 2 2]\n",
      " [0 1 3 2 4]\n",
      " [2 2 2 0 2]]\n",
      "[[-0.6   0.4   1.6  -0.6  -0.1 ]\n",
      " [ 0.9  -0.6  -1.9   0.4   0.65]\n",
      " [-1.7   1.8   2.7  -0.2  -1.45]\n",
      " [-0.7   0.8   1.7  -0.2  -0.95]\n",
      " [ 1.4  -1.6  -2.4   0.4   1.4 ]]\n",
      "[[ 1.  0.  0.  0.  0.]\n",
      " [-0.  1.  0.  0.  0.]\n",
      " [ 0.  0.  1.  0.  0.]\n",
      " [ 0.  0.  0.  1.  0.]\n",
      " [ 0.  0.  0.  0.  1.]]\n",
      "19.99999999999999\n"
     ]
    }
   ],
   "source": [
    "import numpy as np\n",
    "from numpy import linalg as lna\n",
    "\n",
    "a1 = np.array([[2,4,0,4,1],[2,4,1,1,0],[1,1,1,2,2],[0,1,3,2,4],[2,2,2,0,2]])\n",
    "a2 = lna.inv(a1)\n",
    "\n",
    "print(a1)\n",
    "print(a2)\n",
    "print(np.round(a1 @ a2, decimals=2))\n",
    "\n",
    "print(lna.det(a1))"
   ]
  },
  {
   "cell_type": "code",
   "execution_count": 35,
   "metadata": {},
   "outputs": [
    {
     "name": "stdout",
     "output_type": "stream",
     "text": [
      "[[2 4 0 4 1]\n",
      " [2 4 1 1 0]\n",
      " [1 1 1 2 2]\n",
      " [0 1 3 2 4]\n",
      " [2 2 2 0 2]]\n",
      "[1. 1. 1. 1. 1.]\n",
      "[ 0.7  -0.55  1.15  0.65 -0.8 ]\n",
      "(array([ 0.7 , -0.55,  1.15,  0.65, -0.8 ]), array([], dtype=float64), 5, array([9.16608227, 4.74575513, 2.90119199, 1.00954799, 0.15697753]))\n"
     ]
    },
    {
     "data": {
      "text/plain": [
       "tuple"
      ]
     },
     "execution_count": 35,
     "metadata": {},
     "output_type": "execute_result"
    }
   ],
   "source": [
    "a1 = np.array([[2,4,0,4,1],[2,4,1,1,0],[1,1,1,2,2],[0,1,3,2,4],[2,2,2,0,2]])\n",
    "b = np.ones((a1.shape[0],))\n",
    "\n",
    "print(a1)\n",
    "print(b)\n",
    "\n",
    "x = lna.solve(a1, b)\n",
    "print(x)\n",
    "\n",
    "x2 = lna.lstsq(a1, b, rcond=None)\n",
    "print(x2)\n"
   ]
  },
  {
   "cell_type": "code",
   "execution_count": 23,
   "metadata": {},
   "outputs": [
    {
     "name": "stdout",
     "output_type": "stream",
     "text": [
      "[[1. 0. 0. 0.]\n",
      " [0. 1. 0. 0.]\n",
      " [0. 0. 1. 0.]\n",
      " [0. 0. 0. 1.]]\n",
      "[[1. 1. 1. 1.]]\n",
      "[[1.]\n",
      " [1.]\n",
      " [1.]\n",
      " [1.]]\n",
      "[[1. 0. 0. 0. 1.]\n",
      " [0. 1. 0. 0. 1.]\n",
      " [0. 0. 1. 0. 1.]\n",
      " [0. 0. 0. 1. 1.]]\n",
      "[[1. 0. 0. 0.]\n",
      " [0. 1. 0. 0.]\n",
      " [0. 0. 1. 0.]\n",
      " [0. 0. 0. 1.]\n",
      " [1. 1. 1. 1.]]\n"
     ]
    }
   ],
   "source": [
    "a1 = np.eye(4)\n",
    "v = np.ones((1, a1.shape[1]))\n",
    "h = np.ones((a1.shape[0],1))\n",
    "print(a1)\n",
    "print(v)\n",
    "print(h)\n",
    "print(np.hstack([a1, h]))\n",
    "print(np.vstack([a1, v]))"
   ]
  },
  {
   "cell_type": "code",
   "execution_count": 40,
   "metadata": {},
   "outputs": [
    {
     "name": "stdout",
     "output_type": "stream",
     "text": [
      "19.99999999999999\n",
      "[-1.  1.  3.  3.]\n"
     ]
    }
   ],
   "source": [
    "a1 = np.array([[2,4,0,4,1],[2,4,1,1,0],[1,1,1,2,2],[0,1,3,2,4],[2,2,2,0,2]])\n",
    "\n",
    "print(lna.det(a1))\n",
    "\n",
    "\n",
    "a2 = np.array([[1,-1,-1,0],[-1,2,-1,-1],[-1,-1,2,-1],[0,-1,-1,1]])\n",
    "print(lna.eigvals(a2))"
   ]
  }
 ],
 "metadata": {
  "kernelspec": {
   "display_name": "Python 3.10.1 64-bit",
   "language": "python",
   "name": "python3"
  },
  "language_info": {
   "codemirror_mode": {
    "name": "ipython",
    "version": 3
   },
   "file_extension": ".py",
   "mimetype": "text/x-python",
   "name": "python",
   "nbconvert_exporter": "python",
   "pygments_lexer": "ipython3",
   "version": "3.10.1"
  },
  "orig_nbformat": 4,
  "vscode": {
   "interpreter": {
    "hash": "26de051ba29f2982a8de78e945f0abaf191376122a1563185a90213a26c5da77"
   }
  }
 },
 "nbformat": 4,
 "nbformat_minor": 2
}
