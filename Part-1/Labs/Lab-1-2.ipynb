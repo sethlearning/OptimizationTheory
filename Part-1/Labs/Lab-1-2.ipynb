{
 "cells": [
  {
   "cell_type": "markdown",
   "metadata": {},
   "source": [
    "## Практикум 1.2. Оценка вектора градиента\n",
    "\n",
    "Требуется реализовать функцию оценки градиента (вектора частных производных):\n",
    "\n",
    "def eval_grad(f, r, dx=1e-5):\n",
    "**ВХОД**:\n",
    "- f - функция n переменных; n=2, 3, ..\n",
    "- r = (r[0], .., r[n-1]) - начальная точка (кортеж размерности n);\n",
    "- dx - используемый шаг для оценки производной вдоль каждого из направлений;\n",
    "\n",
    "ВЫХОД:\n",
    "- вектор градиента g = (g[0], .., g[n-1]) в виде np.array() (с точностью до 4-го знака после запятой)\n",
    "\n",
    "---\n",
    "\n",
    "**ПРИМЕР 1**\n",
    "\n",
    "ВХОД \n",
    "f(r) = r[0]**2 + 4 * r[1]**2\n",
    "r = (-3.0, 2.0)\n",
    "\n",
    "ВЫХОД\n",
    "array([-6., 16.])\n",
    "---\n",
    "\n",
    "**ПРИМЕР 2**\n",
    "\n",
    "ВХОД \n",
    "f(r) = r[0]**2 + 2 * r[1]**2 + 3 * r[2]**2\n",
    "r = (-3.0, 2.0, 1.0)\n",
    "\n",
    "ВЫХОД\n",
    "array([-6., 4., 2.])"
   ]
  },
  {
   "cell_type": "code",
   "execution_count": 21,
   "metadata": {},
   "outputs": [],
   "source": [
    "import numpy as np\n",
    "\n",
    "# Этот модуль программирует обучающийся!\n",
    "def eval_grad(f, r, dx=1e-5):\n",
    "    \"\"\" функция оценки вектора градиента\n",
    "    f - адрес функции нескольких переменных f(r)\n",
    "    r - tuple \"\"\"\n",
    "    dfdx = []\n",
    "    # здесь ваш код \n",
    "    \n",
    "    for i in range(len(r)):\n",
    "        x = []\n",
    "        for j in range(len(r)):\n",
    "            if i == j:\n",
    "                x.append(r[j] + dx)\n",
    "            else:\n",
    "                x.append(r[j])\n",
    "        dfdx.append(np.round((f(x) - f(r)) / dx, 4))\n",
    "\n",
    "    return np.array(dfdx)"
   ]
  },
  {
   "cell_type": "markdown",
   "metadata": {},
   "source": [
    "#### Test"
   ]
  },
  {
   "cell_type": "code",
   "execution_count": 22,
   "metadata": {},
   "outputs": [
    {
     "data": {
      "text/plain": [
       "array([-6., 16.])"
      ]
     },
     "execution_count": 22,
     "metadata": {},
     "output_type": "execute_result"
    }
   ],
   "source": [
    "def f(r):\n",
    "    return r[0]**2 + 4 * r[1]**2\n",
    "r = (-3.0, 2.0)\n",
    "# array([-6., 16.])\n",
    "\n",
    "eval_grad(f, r)"
   ]
  },
  {
   "cell_type": "code",
   "execution_count": 23,
   "metadata": {},
   "outputs": [
    {
     "data": {
      "text/plain": [
       "array([-6.,  8.,  6.])"
      ]
     },
     "execution_count": 23,
     "metadata": {},
     "output_type": "execute_result"
    }
   ],
   "source": [
    "def f(r):\n",
    "    return r[0]**2 + 2 * r[1]**2 + 3 * r[2]**2\n",
    "r = (-3.0, 2.0, 1.0)\n",
    "# array([-6., 4., 2.])\n",
    "\n",
    "eval_grad(f, r)"
   ]
  }
 ],
 "metadata": {
  "kernelspec": {
   "display_name": "Python 3.10.7 64-bit",
   "language": "python",
   "name": "python3"
  },
  "language_info": {
   "codemirror_mode": {
    "name": "ipython",
    "version": 3
   },
   "file_extension": ".py",
   "mimetype": "text/x-python",
   "name": "python",
   "nbconvert_exporter": "python",
   "pygments_lexer": "ipython3",
   "version": "3.10.7"
  },
  "orig_nbformat": 4,
  "vscode": {
   "interpreter": {
    "hash": "26de051ba29f2982a8de78e945f0abaf191376122a1563185a90213a26c5da77"
   }
  }
 },
 "nbformat": 4,
 "nbformat_minor": 2
}
