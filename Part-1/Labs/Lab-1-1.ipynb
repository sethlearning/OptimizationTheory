{
 "cells": [
  {
   "cell_type": "markdown",
   "metadata": {},
   "source": [
    "## Практикум 2.1. Оптимизация ФОП\n",
    "\n",
    "**Задание**\n",
    "\n",
    "Дана функция одной переменной `f(a) = a4+ k1*a3 - k2*a2+ a - 1`  и начальная точка  `x0`.\n",
    "\n",
    "Необходимо найти точку минимума с заданной точностью по производной `epsg`.\n",
    "\n",
    "Для этого вы должны:\n",
    "\n",
    "1. Задать оптимизируемую функцию как функцию от параметров **k1**, **k2**:\n",
    "`optfun(x, k1, k2)`\n",
    "\n",
    "2. Реализовать простой градиентный спуск в точку минимума как функцию параметров **x0**, **epsg**, **alfa**, **k1**, **k2**, **maxiter**:\n",
    "\n",
    "`gradsteps(x0, epsg, alfa, k1, k2, maxiter)`\n",
    "\n",
    "На выходе функция оптимизации `gradsteps(x0, epsg, alfa, k1, k2, maxiter)` должна возвращать список всех полученных приближений,\n",
    "начиная с начального значения x0 и завершая полученным решением задачи. \n",
    "\n",
    "**maxiter** - ограничивает кол-во итераций, т.е. список не должен превышать `maxiter + 1` элемент.\n",
    "\n",
    "Например, результатом обращения `gradsteps(x0=4, epsg=0.5, alfa=0.01, k1=3, k2=20, maxiter=100)`\n",
    "\n",
    "должен быть список:\n",
    "\n",
    "[4,   1.59,   1.828,   2.004,   2.112,   2.169,   2.195,   2.206]"
   ]
  },
  {
   "cell_type": "code",
   "execution_count": 31,
   "metadata": {},
   "outputs": [],
   "source": [
    "import numpy as np\n",
    "np.set_printoptions(suppress=True)"
   ]
  },
  {
   "cell_type": "code",
   "execution_count": 32,
   "metadata": {},
   "outputs": [],
   "source": [
    "# --- Эту функцию программирует обучающийся!!! ----\n",
    "def optfun(x, k1=3, k2=20):\n",
    "    # задаем вычисление оптимизируемой функции \n",
    "    f = x**4 + k1*x**3 - k2*x**2 + x - 1\n",
    "    return f\n",
    " \n",
    "# --- Эту функцию программирует обучающийся!!! ----\n",
    "# maxiter - ограничивает кол-во итераций, \n",
    "# т.е. список не должен превышать maxiter+1 элемент !\n",
    "def gradsteps(x0, epsg=0.1, alfa=0.01, k1=3, k2=20, maxiter=100):\n",
    "    # организуем градиентный спуск \n",
    "    xlist = [x0]\n",
    "    nf = 0\n",
    "    dx = 1e-7\n",
    "    dfdx = (optfun(x0 + dx, k1, k2) - optfun(x0, k1, k2)) / dx\n",
    "    while abs(dfdx) > epsg:\n",
    "        x0 = x0 - alfa*dfdx\n",
    "        dfdx = (optfun(x0 + dx, k1, k2) - optfun(x0, k1, k2)) / dx\n",
    "        xlist.append(x0)\n",
    "        nf += 1\n",
    "        if nf > 100:\n",
    "            break\n",
    "    return xlist"
   ]
  },
  {
   "cell_type": "markdown",
   "metadata": {},
   "source": [
    "#### Tests"
   ]
  },
  {
   "cell_type": "code",
   "execution_count": 33,
   "metadata": {},
   "outputs": [],
   "source": [
    "dx = 1e-7\n",
    "def dfx(x, k1, k2):\n",
    "    return (optfun(x + dx, k1, k2) - optfun(x, k1, k2)) / dx\n"
   ]
  },
  {
   "cell_type": "code",
   "execution_count": 34,
   "metadata": {},
   "outputs": [
    {
     "name": "stdout",
     "output_type": "stream",
     "text": [
      "[4.    1.59  1.828 2.004 2.112 2.169 2.195 2.206]\n"
     ]
    }
   ],
   "source": [
    "# test 0\n",
    "# [4,   1.59,   1.828,   2.004,   2.112,   2.169,   2.195,   2.206]\n",
    "res = gradsteps(x0=4, epsg=0.5, alfa=0.01, k1=3, k2=20, maxiter=100)\n",
    "print(np.round(res, 3))"
   ]
  },
  {
   "cell_type": "code",
   "execution_count": 35,
   "metadata": {},
   "outputs": [
    {
     "data": {
      "text/plain": [
       "-127"
      ]
     },
     "execution_count": 35,
     "metadata": {},
     "output_type": "execute_result"
    }
   ],
   "source": [
    "def fu(x):\n",
    "    return x**4 + x**3 - 10*x**2 + x - 1\n",
    "def dfu(x):\n",
    "    return 4*x**3 + 3*x**2 - 20*x + 1\n",
    "\n",
    "dfu(-4)"
   ]
  },
  {
   "cell_type": "code",
   "execution_count": 36,
   "metadata": {},
   "outputs": [
    {
     "name": "stdout",
     "output_type": "stream",
     "text": [
      "[[  -4.      27.    -127.   ]\n",
      " [  -1.46   -22.344   24.146]\n",
      " [  -1.943  -33.777   21.846]\n",
      " [  -2.38   -41.418   11.674]\n",
      " [  -2.613  -43.114    2.365]\n",
      " [  -2.661  -43.173    0.112]]\n"
     ]
    }
   ],
   "source": [
    "# test 1\n",
    "# 1, 10, -4, 0.5, 0.02\n",
    "# [-4.0, -1.46, -1.94292512, -2.3798357878958205, -2.6133086694230263, -2.660612372136513]\n",
    "x0 = -4; epsg = 0.5; alfa = 0.02; k1 = 1; k2 = 10\n",
    "\n",
    "res = gradsteps(x0=x0, epsg=epsg, alfa=alfa, k1=k1, k2=k2, maxiter=100)\n",
    "\n",
    "result = [[r, optfun(r, k1, k2), dfx(r, k1, k2)] for r in res]\n",
    "print(np.round(result, 3))"
   ]
  },
  {
   "cell_type": "code",
   "execution_count": 37,
   "metadata": {},
   "outputs": [
    {
     "name": "stdout",
     "output_type": "stream",
     "text": [
      "[[  -5.     244.    -324.   ]\n",
      " [   1.48   -13.384   -9.062]\n",
      " [   1.661  -14.735   -5.608]\n",
      " [   1.773  -15.208   -2.725]\n",
      " [   1.828  -15.313   -1.105]\n",
      " [   1.85   -15.33    -0.406]]\n"
     ]
    }
   ],
   "source": [
    "# test 2\n",
    "# 1, 10, -5, 0.5, 0.02\n",
    "# [-5.0, 1.4800000000000004, 1.6612326400000004, 1.7733845784004223, 1.8278764776818137, 1.849984935289558]\n",
    "x0 = -5; epsg = 0.5; alfa = 0.02; k1 = 1; k2 = 10\n",
    "\n",
    "res = gradsteps(x0=x0, epsg=epsg, alfa=alfa, k1=k1, k2=k2, maxiter=100)\n",
    "\n",
    "result = [[r, optfun(r, k1, k2), dfx(r, k1, k2)] for r in res]\n",
    "print(np.round(result, 3))\n"
   ]
  },
  {
   "cell_type": "code",
   "execution_count": 38,
   "metadata": {},
   "outputs": [
    {
     "name": "stdout",
     "output_type": "stream",
     "text": [
      "[[  -4.    -117.     -39.   ]\n",
      " [  -3.61  -124.348   -0.691]\n",
      " [  -3.603 -124.35    -0.119]]\n"
     ]
    }
   ],
   "source": [
    "# test 3\n",
    "# 2, 15, -4, 0.5, 0.01\n",
    "x0 = -4; epsg = 0.5; alfa = 0.01; k1 = 2; k2 = 15\n",
    "\n",
    "res = gradsteps(x0=x0, epsg=epsg, alfa=alfa, k1=k1, k2=k2, maxiter=100)\n",
    "\n",
    "result = [[r, optfun(r, k1, k2), dfx(r, k1, k2)] for r in res]\n",
    "print(np.round(result, 3))\n"
   ]
  },
  {
   "cell_type": "code",
   "execution_count": 39,
   "metadata": {},
   "outputs": [
    {
     "name": "stdout",
     "output_type": "stream",
     "text": [
      "[[  -5.      -6.    -199.   ]\n",
      " [  -3.01  -112.368   36.577]\n",
      " [  -3.376 -122.388   16.769]\n",
      " [  -3.543 -124.213    4.672]\n",
      " [  -3.59  -124.345    0.941]\n",
      " [  -3.6   -124.35     0.17 ]\n",
      " [  -3.601 -124.351    0.03 ]]\n"
     ]
    }
   ],
   "source": [
    "# test 4\n",
    "# 2, 15, -5, 0.1, 0.01\n",
    "x0 = -5; epsg = 0.1; alfa = 0.01; k1 = 2; k2 = 15\n",
    "\n",
    "res = gradsteps(x0=x0, epsg=epsg, alfa=alfa, k1=k1, k2=k2, maxiter=100)\n",
    "\n",
    "result = [[r, optfun(r, k1, k2), dfx(r, k1, k2)] for r in res]\n",
    "print(np.round(result, 3))\n"
   ]
  },
  {
   "cell_type": "code",
   "execution_count": 40,
   "metadata": {},
   "outputs": [
    {
     "name": "stdout",
     "output_type": "stream",
     "text": [
      "[[   5.     504.     526.   ]\n",
      " [  -0.26    -2.66    11.938]\n",
      " [  -0.379   -4.401   17.252]\n",
      " [  -0.552   -8.055   25.145]\n",
      " [  -0.803  -15.85    36.869]\n",
      " [  -1.172  -32.589   53.805]\n",
      " [  -1.71   -67.649   75.719]\n",
      " [  -2.467 -133.218   94.4  ]\n",
      " [  -3.411 -220.822   83.397]\n",
      " [  -4.245 -270.416   26.975]\n",
      " [  -4.515 -273.78    -3.09 ]\n",
      " [  -4.484 -273.817    0.679]\n",
      " [  -4.491 -273.819   -0.142]\n",
      " [  -4.489 -273.819    0.03 ]]\n"
     ]
    }
   ],
   "source": [
    "# test 5\n",
    "# 3, 20, 5, 0.1, 0.01\n",
    "x0 = 5; epsg = 0.1; alfa = 0.01; k1 = 3; k2 = 20\n",
    "\n",
    "res = gradsteps(x0=x0, epsg=epsg, alfa=alfa, k1=k1, k2=k2, maxiter=100)\n",
    "\n",
    "result = [[r, optfun(r, k1, k2), dfx(r, k1, k2)] for r in res]\n",
    "print(np.round(result, 3))"
   ]
  }
 ],
 "metadata": {
  "kernelspec": {
   "display_name": "Python 3.10.7 64-bit",
   "language": "python",
   "name": "python3"
  },
  "language_info": {
   "codemirror_mode": {
    "name": "ipython",
    "version": 3
   },
   "file_extension": ".py",
   "mimetype": "text/x-python",
   "name": "python",
   "nbconvert_exporter": "python",
   "pygments_lexer": "ipython3",
   "version": "3.10.7"
  },
  "orig_nbformat": 4,
  "vscode": {
   "interpreter": {
    "hash": "26de051ba29f2982a8de78e945f0abaf191376122a1563185a90213a26c5da77"
   }
  }
 },
 "nbformat": 4,
 "nbformat_minor": 2
}
