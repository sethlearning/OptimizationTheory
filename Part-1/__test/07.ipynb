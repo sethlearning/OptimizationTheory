{
 "cells": [
  {
   "cell_type": "code",
   "execution_count": 3,
   "metadata": {},
   "outputs": [
    {
     "ename": "ValueError",
     "evalue": "Expected 1D or 2D array, got 3D array instead",
     "output_type": "error",
     "traceback": [
      "\u001b[1;31m---------------------------------------------------------------------------\u001b[0m",
      "\u001b[1;31mValueError\u001b[0m                                Traceback (most recent call last)",
      "\u001b[1;32md:\\git\\learn\\OptimisationTheory\\test\\07.ipynb Cell 1\u001b[0m in \u001b[0;36m<cell line: 4>\u001b[1;34m()\u001b[0m\n\u001b[0;32m      <a href='vscode-notebook-cell:/d%3A/git/learn/OptimisationTheory/test/07.ipynb#W0sZmlsZQ%3D%3D?line=0'>1</a>\u001b[0m \u001b[39mimport\u001b[39;00m \u001b[39mnumpy\u001b[39;00m \u001b[39mas\u001b[39;00m \u001b[39mnp\u001b[39;00m\n\u001b[0;32m      <a href='vscode-notebook-cell:/d%3A/git/learn/OptimisationTheory/test/07.ipynb#W0sZmlsZQ%3D%3D?line=2'>3</a>\u001b[0m Amat \u001b[39m=\u001b[39m np\u001b[39m.\u001b[39marange(\u001b[39m12\u001b[39m)\u001b[39m.\u001b[39mreshape(\u001b[39m3\u001b[39m, \u001b[39m4\u001b[39m)\n\u001b[1;32m----> <a href='vscode-notebook-cell:/d%3A/git/learn/OptimisationTheory/test/07.ipynb#W0sZmlsZQ%3D%3D?line=3'>4</a>\u001b[0m np\u001b[39m.\u001b[39;49msavetxt(\u001b[39m'\u001b[39;49m\u001b[39mAmat.csv\u001b[39;49m\u001b[39m'\u001b[39;49m, Amat[:,:,np\u001b[39m.\u001b[39;49mnewaxis], delimiter\u001b[39m=\u001b[39;49m\u001b[39m'\u001b[39;49m\u001b[39m,\u001b[39;49m\u001b[39m'\u001b[39;49m)\n",
      "File \u001b[1;32m<__array_function__ internals>:180\u001b[0m, in \u001b[0;36msavetxt\u001b[1;34m(*args, **kwargs)\u001b[0m\n",
      "File \u001b[1;32mc:\\Program Files\\Python310\\lib\\site-packages\\numpy\\lib\\npyio.py:1512\u001b[0m, in \u001b[0;36msavetxt\u001b[1;34m(fname, X, fmt, delimiter, newline, header, footer, comments, encoding)\u001b[0m\n\u001b[0;32m   1510\u001b[0m \u001b[39m# Handle 1-dimensional arrays\u001b[39;00m\n\u001b[0;32m   1511\u001b[0m \u001b[39mif\u001b[39;00m X\u001b[39m.\u001b[39mndim \u001b[39m==\u001b[39m \u001b[39m0\u001b[39m \u001b[39mor\u001b[39;00m X\u001b[39m.\u001b[39mndim \u001b[39m>\u001b[39m \u001b[39m2\u001b[39m:\n\u001b[1;32m-> 1512\u001b[0m     \u001b[39mraise\u001b[39;00m \u001b[39mValueError\u001b[39;00m(\n\u001b[0;32m   1513\u001b[0m         \u001b[39m\"\u001b[39m\u001b[39mExpected 1D or 2D array, got \u001b[39m\u001b[39m%d\u001b[39;00m\u001b[39mD array instead\u001b[39m\u001b[39m\"\u001b[39m \u001b[39m%\u001b[39m X\u001b[39m.\u001b[39mndim)\n\u001b[0;32m   1514\u001b[0m \u001b[39melif\u001b[39;00m X\u001b[39m.\u001b[39mndim \u001b[39m==\u001b[39m \u001b[39m1\u001b[39m:\n\u001b[0;32m   1515\u001b[0m     \u001b[39m# Common case -- 1d array of numbers\u001b[39;00m\n\u001b[0;32m   1516\u001b[0m     \u001b[39mif\u001b[39;00m X\u001b[39m.\u001b[39mdtype\u001b[39m.\u001b[39mnames \u001b[39mis\u001b[39;00m \u001b[39mNone\u001b[39;00m:\n",
      "\u001b[1;31mValueError\u001b[0m: Expected 1D or 2D array, got 3D array instead"
     ]
    }
   ],
   "source": [
    "import numpy as np\n",
    "\n",
    "Amat = np.arange(12).reshape(3, 4)\n",
    "np.savetxt('Amat.csv', Amat[:,:,np.newaxis], delimiter=',')\n"
   ]
  }
 ],
 "metadata": {
  "kernelspec": {
   "display_name": "Python 3.10.1 64-bit",
   "language": "python",
   "name": "python3"
  },
  "language_info": {
   "codemirror_mode": {
    "name": "ipython",
    "version": 3
   },
   "file_extension": ".py",
   "mimetype": "text/x-python",
   "name": "python",
   "nbconvert_exporter": "python",
   "pygments_lexer": "ipython3",
   "version": "3.10.1"
  },
  "orig_nbformat": 4,
  "vscode": {
   "interpreter": {
    "hash": "26de051ba29f2982a8de78e945f0abaf191376122a1563185a90213a26c5da77"
   }
  }
 },
 "nbformat": 4,
 "nbformat_minor": 2
}
