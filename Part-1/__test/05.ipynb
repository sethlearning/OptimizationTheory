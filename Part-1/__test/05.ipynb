{
 "cells": [
  {
   "cell_type": "code",
   "execution_count": 8,
   "metadata": {},
   "outputs": [
    {
     "name": "stdout",
     "output_type": "stream",
     "text": [
      "9\n"
     ]
    }
   ],
   "source": [
    "# 1\n",
    "def f1(x):\n",
    "   return x + 1\n",
    "\n",
    "def f2(x):\n",
    "   return x + 1.0\n",
    "  \n",
    "def f3(x, y):\n",
    "   return x + y +2\n",
    "\n",
    "def f4(x, y):\n",
    "   return x < y\n",
    "\n",
    "def f5(x, y, z):\n",
    "   return x <= y and y <= z\n",
    "\n",
    "\n",
    "num = 8\n",
    "print(f1(num))"
   ]
  },
  {
   "cell_type": "code",
   "execution_count": 9,
   "metadata": {},
   "outputs": [
    {
     "name": "stdout",
     "output_type": "stream",
     "text": [
      "True\n"
     ]
    }
   ],
   "source": [
    "# 2\n",
    "def f1(x):\n",
    "   return x + 1\n",
    "\n",
    "def f2(x):\n",
    "   if(x > 5):\n",
    "       y = x+1\n",
    "   else:\n",
    "       y=x\n",
    "   return y\n",
    "  \n",
    "def f3(x, y):\n",
    "   return x + y - 1\n",
    "\n",
    "def f4(x, y):\n",
    "   return x > y\n",
    "\n",
    "def f5(x, y, z):\n",
    "   return x <= y and y <= z\n",
    "\n",
    "\n",
    "num = 7\n",
    "print(f5(f1(num), f2(num+1), f3(num, num+1)))"
   ]
  },
  {
   "cell_type": "code",
   "execution_count": 10,
   "metadata": {},
   "outputs": [
    {
     "name": "stdout",
     "output_type": "stream",
     "text": [
      "<function f1 at 0x000001F1EFE7E200>\n"
     ]
    }
   ],
   "source": [
    "# 4\n",
    "def f1(x, y, z):\n",
    "     if x:\n",
    "         return y\n",
    "     else:\n",
    "         return z\n",
    "\n",
    "def f2(q, r):\n",
    "    return f1(q>r, q, r)\n",
    "\n",
    "num = 3\n",
    "print(f1(num > 1, f1, f2))"
   ]
  },
  {
   "cell_type": "code",
   "execution_count": 11,
   "metadata": {},
   "outputs": [
    {
     "name": "stdout",
     "output_type": "stream",
     "text": [
      "3\n"
     ]
    }
   ],
   "source": [
    "# 5\n",
    "def f1(x):\n",
    "   return x + 1\n",
    "\n",
    "def f2(x):\n",
    "   if(x > 5):\n",
    "       y = x+1\n",
    "   else:\n",
    "       y=x\n",
    "   return y\n",
    "  \n",
    "def f3(x, y):\n",
    "   return x + y +2\n",
    "\n",
    "def f4(x, y):\n",
    "   return x > y\n",
    "\n",
    "def f5(x, y, z):\n",
    "   return x <= y and y <= z\n",
    "\n",
    "num = 7\n",
    "print(f3(f4(num, num+1), f5(num, num+1, num+2)))"
   ]
  },
  {
   "cell_type": "code",
   "execution_count": 12,
   "metadata": {},
   "outputs": [
    {
     "name": "stdout",
     "output_type": "stream",
     "text": [
      "0\n"
     ]
    }
   ],
   "source": [
    "# 6\n",
    "n1 = 1\n",
    "\n",
    "def f(x):\n",
    "    return x + n1\n",
    "\n",
    "n1 = 1\n",
    "print(f(-1))"
   ]
  },
  {
   "cell_type": "code",
   "execution_count": 14,
   "metadata": {},
   "outputs": [
    {
     "name": "stdout",
     "output_type": "stream",
     "text": [
      "17\n"
     ]
    }
   ],
   "source": [
    "# 6\n",
    "def f1(x, y = 1):\n",
    "   def f2(x):\n",
    "      return x + 1\n",
    "   return f2(y + 15)\n",
    "          \n",
    "print(f1(9))"
   ]
  },
  {
   "cell_type": "code",
   "execution_count": 15,
   "metadata": {},
   "outputs": [
    {
     "data": {
      "text/plain": [
       "'Russia - forward'"
      ]
     },
     "execution_count": 15,
     "metadata": {},
     "output_type": "execute_result"
    }
   ],
   "source": [
    "# 7\n",
    "str1 = 'velikolepno!'\n",
    "str2 = 'russia - forward'\n",
    "str2 = str2.capitalize()\n",
    "str2"
   ]
  },
  {
   "cell_type": "code",
   "execution_count": 16,
   "metadata": {},
   "outputs": [
    {
     "data": {
      "text/plain": [
       "'VELIKOLEPNO!'"
      ]
     },
     "execution_count": 16,
     "metadata": {},
     "output_type": "execute_result"
    }
   ],
   "source": [
    "# 8\n",
    "str1 = 'velikolepno!'\n",
    "str2 = 'russia - forward'\n",
    "str1.upper()"
   ]
  },
  {
   "cell_type": "code",
   "execution_count": 17,
   "metadata": {},
   "outputs": [
    {
     "data": {
      "text/plain": [
       "1"
      ]
     },
     "execution_count": 17,
     "metadata": {},
     "output_type": "execute_result"
    }
   ],
   "source": [
    "# 9\n",
    "str1 = 'velikolepno!'\n",
    "str2 = 'russia - forward'\n",
    "str1.index('e')"
   ]
  },
  {
   "cell_type": "code",
   "execution_count": 18,
   "metadata": {},
   "outputs": [
    {
     "data": {
      "text/plain": [
       "2"
      ]
     },
     "execution_count": 18,
     "metadata": {},
     "output_type": "execute_result"
    }
   ],
   "source": [
    "# 10\n",
    "str1 = 'velikolepno!'\n",
    "str2 = 'russia - forward'\n",
    "str1.count('e')"
   ]
  }
 ],
 "metadata": {
  "kernelspec": {
   "display_name": "Python 3.10.1 64-bit",
   "language": "python",
   "name": "python3"
  },
  "language_info": {
   "codemirror_mode": {
    "name": "ipython",
    "version": 3
   },
   "file_extension": ".py",
   "mimetype": "text/x-python",
   "name": "python",
   "nbconvert_exporter": "python",
   "pygments_lexer": "ipython3",
   "version": "3.10.1"
  },
  "orig_nbformat": 4,
  "vscode": {
   "interpreter": {
    "hash": "26de051ba29f2982a8de78e945f0abaf191376122a1563185a90213a26c5da77"
   }
  }
 },
 "nbformat": 4,
 "nbformat_minor": 2
}
