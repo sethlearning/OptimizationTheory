{
 "cells": [
  {
   "cell_type": "code",
   "execution_count": null,
   "metadata": {},
   "outputs": [],
   "source": [
    "# 1\n",
    "import numpy as np\n",
    "a = np.array([1,2,3])\n",
    "np.full(shape=(2,3), fill_value=a)"
   ]
  },
  {
   "cell_type": "code",
   "execution_count": null,
   "metadata": {},
   "outputs": [],
   "source": [
    "#2\n",
    "Amat = np.array([[1,2],[3,4], [5,6]])\n",
    "print(Amat.shape)"
   ]
  },
  {
   "cell_type": "code",
   "execution_count": null,
   "metadata": {},
   "outputs": [],
   "source": [
    "# 3\n",
    "Amat = np.array([[1,2,3,4],[3,4,5,6], [5,6,7,8]])\n",
    "print(Amat[:, [1,2]])"
   ]
  },
  {
   "cell_type": "code",
   "execution_count": null,
   "metadata": {},
   "outputs": [],
   "source": [
    "# 4\n",
    "Emat = np.eye(N=3)\n",
    "Smat = Emat[:,:]\n",
    "Emat += 1\n",
    "\n",
    "print(Emat)\n",
    "print(id(Emat))\n",
    "print(Smat)\n",
    "print(id(Smat))\n",
    "\n",
    "print(id(Emat) == id(Smat))\n",
    "print(Smat[0,0])\n",
    "\n",
    "print(Emat.base)\n",
    "print(Smat.base)"
   ]
  },
  {
   "cell_type": "code",
   "execution_count": 54,
   "metadata": {},
   "outputs": [
    {
     "name": "stdout",
     "output_type": "stream",
     "text": [
      "[[ 1  3  5  7]\n",
      " [ 5  5  7 13]\n",
      " [ 5  7  9 11]]\n",
      "13\n"
     ]
    }
   ],
   "source": [
    "# 5\n",
    "Amat = np.array([[1,2,3,4],[5,4,5,10], [5,6,7,8]])\n",
    "bvect = np.array(range(4))\n",
    "A1mat = Amat + bvect\n",
    "\n",
    "print(A1mat)\n",
    "print(A1mat[1,3])"
   ]
  },
  {
   "cell_type": "code",
   "execution_count": 55,
   "metadata": {},
   "outputs": [
    {
     "name": "stdout",
     "output_type": "stream",
     "text": [
      "[False  True False  True False]\n",
      "[[ 4  5]\n",
      " [10 11]]\n",
      "[14 16]\n"
     ]
    },
    {
     "data": {
      "text/plain": [
       "14"
      ]
     },
     "execution_count": 55,
     "metadata": {},
     "output_type": "execute_result"
    }
   ],
   "source": [
    "# 6\n",
    "Atab = np.array([[1,2,0], [4,5,1], [7,8,0], [10, 11, 1], [2,2,0]])\n",
    "print(Atab[:,2]==1)\n",
    "\n",
    "print((Atab[Atab[:,2]==1,0:2]))\n",
    "print(sum(Atab[Atab[:,2]==1,0:2]))\n",
    "sum(Atab[Atab[:,2]==1,0:2])[0]"
   ]
  },
  {
   "cell_type": "code",
   "execution_count": 56,
   "metadata": {},
   "outputs": [
    {
     "data": {
      "text/plain": [
       "3.0"
      ]
     },
     "execution_count": 56,
     "metadata": {},
     "output_type": "execute_result"
    }
   ],
   "source": [
    "# 7\n",
    "Atab = np.array([[1,2,0], [10,5,1], [7,5,0], [10, 11, 1], [2,2,0]])\n",
    "Atab[Atab[:,2]==0,0:2].mean(axis=0)[1]"
   ]
  },
  {
   "cell_type": "code",
   "execution_count": 57,
   "metadata": {},
   "outputs": [
    {
     "name": "stdout",
     "output_type": "stream",
     "text": [
      "[[ 5  2  0]\n",
      " [ 0  5  1]\n",
      " [ 7  7  0]\n",
      " [10 11  1]\n",
      " [ 4  2  0]]\n",
      "[[5 2 0]\n",
      " [7 7 0]\n",
      " [4 2 0]]\n",
      "[2 0 1]\n",
      "[[4 2 0]\n",
      " [5 2 0]\n",
      " [7 7 0]]\n",
      "7\n"
     ]
    }
   ],
   "source": [
    "# 8\n",
    "Atab = np.array([[5,2,0], [0,5,1], [7,7,0], [10, 11, 1], [4,2,0]])\n",
    "print(Atab)\n",
    "Btab = Atab[Atab[:,2] == 0]\n",
    "print(Btab)\n",
    "print(Btab[:,0].argsort())\n",
    "Btab = Btab[Btab[:,0].argsort()]\n",
    "print(Btab)\n",
    "print(Btab[-1,0])\n",
    "\n"
   ]
  },
  {
   "cell_type": "code",
   "execution_count": 58,
   "metadata": {},
   "outputs": [
    {
     "name": "stdout",
     "output_type": "stream",
     "text": [
      "[[1. 0. 0. 0. 0. 0.]\n",
      " [0. 1. 0. 0. 0. 0.]\n",
      " [0. 0. 1. 0. 0. 0.]\n",
      " [0. 0. 0. 1. 0. 0.]\n",
      " [0. 0. 0. 0. 1. 0.]\n",
      " [0. 0. 0. 0. 0. 1.]]\n",
      "[[1. 1. 1. 1. 1. 1.]\n",
      " [1. 1. 1. 1. 1. 1.]\n",
      " [1. 1. 1. 1. 1. 1.]\n",
      " [1. 1. 1. 1. 1. 1.]\n",
      " [1. 1. 1. 1. 1. 1.]\n",
      " [1. 1. 1. 1. 1. 1.]]\n",
      "[[10.  9.  9.  9.  9.  9.]\n",
      " [ 9. 10.  9.  9.  9.  9.]\n",
      " [ 9.  9. 10.  9.  9.  9.]\n",
      " [ 9.  9.  9. 10.  9.  9.]\n",
      " [ 9.  9.  9.  9. 10.  9.]\n",
      " [ 9.  9.  9.  9.  9. 10.]]\n",
      "[ 1. 55.  1.  1.  1.  1.]\n",
      "54.99999999999997\n"
     ]
    }
   ],
   "source": [
    "# 9\n",
    "from numpy import linalg\n",
    "\n",
    "Em = np.eye(6)\n",
    "print(Em)\n",
    "\n",
    "Bm = np.ones(shape=(6,6))\n",
    "print(Bm)\n",
    "\n",
    "Cm = Em + 9 * Bm\n",
    "print(Cm)\n",
    "\n",
    "print(linalg.eigvals(Cm))\n",
    "print(max(linalg.eigvals(Cm)))"
   ]
  },
  {
   "cell_type": "code",
   "execution_count": 59,
   "metadata": {},
   "outputs": [
    {
     "name": "stdout",
     "output_type": "stream",
     "text": [
      "100000\n",
      "20.01329926160044\n"
     ]
    }
   ],
   "source": [
    "from statistics import mean\n",
    "\n",
    "\n",
    "a1 = np.random.normal(loc=4, scale=2, size= 100_000)\n",
    "print(a1.size)\n",
    "a2 = a1**2\n",
    "\n",
    "print(a2.mean())"
   ]
  }
 ],
 "metadata": {
  "kernelspec": {
   "display_name": "Python 3.10.1 64-bit",
   "language": "python",
   "name": "python3"
  },
  "language_info": {
   "codemirror_mode": {
    "name": "ipython",
    "version": 3
   },
   "file_extension": ".py",
   "mimetype": "text/x-python",
   "name": "python",
   "nbconvert_exporter": "python",
   "pygments_lexer": "ipython3",
   "version": "3.10.1"
  },
  "orig_nbformat": 4,
  "vscode": {
   "interpreter": {
    "hash": "26de051ba29f2982a8de78e945f0abaf191376122a1563185a90213a26c5da77"
   }
  }
 },
 "nbformat": 4,
 "nbformat_minor": 2
}
