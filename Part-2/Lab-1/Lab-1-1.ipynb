{
 "cells": [
  {
   "cell_type": "markdown",
   "metadata": {},
   "source": [
    "2.1.1. Формируем матрицу обучающей выборки (VPL)\n",
    "\n",
    "Тип работы:  Индивидуальная работа\n",
    "\n",
    "**ЗАДАНИЕ**. Реализовать функцию form_matrix(query_seq, t_window, t_step), формирующую матрицу - выборку  вырезанных из последовательности наблюдений окон данных заданной ширины.\n",
    "\n",
    "**Вход**:\n",
    "\n",
    "`query_seq = numpy.array()`, последовательность целых чисел - количество запросов в день; данные полученные за последние n дней;\n",
    "\n",
    "`t_window` - ширина окна, количество последовательных данных, формирующих окно данных для анализа\n",
    "\n",
    "`t_step` - шаг, с которым формируется окно данных.\n",
    "\n",
    "**Выход**:\n",
    "\n",
    "`M` - матрица (numpy.array), содержащая в каждой строке окно данных по порядку их формирования: \n",
    "\n",
    "- количество строк в матрице должно совпадать с количеством окон данных заданной ширины, которые можно вырезать из последовательности;\n",
    "\n",
    "- количество столбцов должно совпадать с шириной окна t_window.\n",
    "\n",
    "**Пример**:\n",
    "\n",
    "Пусть мы получили следующую последовательность данных за последние n=10 дней:\n",
    "\n",
    "`query_seq = numpy.array([24, 5, 0, 0, 5, 15, 3, 0, 9, 12])`\n",
    "\n",
    "Для значений параметров:\n",
    "\n",
    "`t_window = 5`\n",
    "`t_step = 2`\n",
    "\n",
    "имеем следующий выход функции form_matrix(query_seq, t_window, t_step):\n",
    "\n",
    "```\n",
    "array([[24, 5, 0, 0, 5],\n",
    "       [ 0,  0,  5, 15,  3],\n",
    "       [ 5, 15,  3,  0,  9]])\n",
    "```"
   ]
  },
  {
   "cell_type": "code",
   "execution_count": 11,
   "metadata": {},
   "outputs": [
    {
     "data": {
      "text/plain": [
       "array([[24,  5,  0,  0,  5, 15],\n",
       "       [ 0,  0,  5, 15,  3,  0],\n",
       "       [ 5, 15,  3,  0,  9, 12]])"
      ]
     },
     "execution_count": 11,
     "metadata": {},
     "output_type": "execute_result"
    }
   ],
   "source": [
    "import numpy as np\n",
    "\n",
    "def form_matrix(query_seq, t_window, t_step):\n",
    "    \"\"\"Вход:\n",
    "    query_seq = numpy.array(), последовательность целых чисел - количество запросов в день; данные полученные за последние n дней;\n",
    "    t_window - ширина окна, количество последовательных данных, формирующих окно данных для анализа\n",
    "    t_step - шаг, с которым формируется окно данных.\n",
    "    \n",
    "    Выход:\n",
    "    M - матрица (numpy.array), содержащая в каждой строке окно данных по порядку их формирования: \n",
    "    - количество строк в матрице должно совпадать с количеством окон данных заданной ширины, которые можно вырезать из последовательности;\n",
    "    - количество столбцов должно совпадать с шириной окна t_window.\"\"\"\n",
    "\n",
    "    batch_count = (len(query_seq) - t_window) // 2 + 1\n",
    "    lst = [query_seq[i: i+t_window] for i in range(0, len(query_seq) - t_window + 1, t_step)]\n",
    "    # print(batch_count)\n",
    "\n",
    "    M = np.array(lst)\n",
    "    return M\n",
    "\n",
    "query_seq = np.array([24, 5, 0, 0, 5, 15, 3, 0, 9, 12])\n",
    "t_window = 5\n",
    "t_step = 2\n",
    "\n",
    "query_seq = np.array([24, 5, 0, 0, 5, 15, 3, 0, 9, 12, 13])\n",
    "t_window = 6\n",
    "t_step = 2\n",
    "\n",
    "form_matrix(query_seq, t_window, t_step)\n"
   ]
  },
  {
   "cell_type": "code",
   "execution_count": null,
   "metadata": {},
   "outputs": [],
   "source": []
  }
 ],
 "metadata": {
  "kernelspec": {
   "display_name": "Python 3.10.1 64-bit",
   "language": "python",
   "name": "python3"
  },
  "language_info": {
   "codemirror_mode": {
    "name": "ipython",
    "version": 3
   },
   "file_extension": ".py",
   "mimetype": "text/x-python",
   "name": "python",
   "nbconvert_exporter": "python",
   "pygments_lexer": "ipython3",
   "version": "3.10.1"
  },
  "orig_nbformat": 4,
  "vscode": {
   "interpreter": {
    "hash": "26de051ba29f2982a8de78e945f0abaf191376122a1563185a90213a26c5da77"
   }
  }
 },
 "nbformat": 4,
 "nbformat_minor": 2
}
