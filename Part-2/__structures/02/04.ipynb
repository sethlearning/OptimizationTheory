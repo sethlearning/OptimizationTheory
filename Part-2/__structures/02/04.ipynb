{
 "cells": [
  {
   "cell_type": "code",
   "execution_count": 4,
   "metadata": {},
   "outputs": [],
   "source": [
    "import numpy as np\n",
    "import matplotlib.pyplot as plt\n",
    "plt.style.use('ggplot')\n",
    "\n",
    "from mpl_toolkits import mplot3d"
   ]
  },
  {
   "cell_type": "code",
   "execution_count": 5,
   "metadata": {},
   "outputs": [
    {
     "name": "stdout",
     "output_type": "stream",
     "text": [
      "19.57 6.633 24.96\n"
     ]
    }
   ],
   "source": [
    "user = np.array([10, 0, 0, 20, 0, 5])\n",
    "\n",
    "user1 = np.array([20, 3, 0, 35, 0, 12])\n",
    "user2 = np.array([9, 0, 3, 15, 0, 2])\n",
    "user3 = np.array([2, 5, 3, 0, 10, 0])\n",
    "\n",
    "dist_1 = np.linalg.norm(user - user1, ord=2)\n",
    "dist_2 = np.linalg.norm(user - user2, ord=2)\n",
    "dist_3 = np.linalg.norm(user - user3, ord=2)\n",
    "\n",
    "print(round(dist_1, 3), round(dist_2, 3), round(dist_3, 3))"
   ]
  },
  {
   "cell_type": "code",
   "execution_count": 6,
   "metadata": {},
   "outputs": [
    {
     "name": "stdout",
     "output_type": "stream",
     "text": [
      "0.376 0.718 0.287\n"
     ]
    }
   ],
   "source": [
    "k = 0.05\n",
    "ker = lambda d: np.exp(-k * d)\n",
    "\n",
    "print(round(ker(dist_1), 3), round(ker(dist_2), 3), round(ker(dist_3), 3))"
   ]
  },
  {
   "cell_type": "code",
   "execution_count": 7,
   "metadata": {},
   "outputs": [
    {
     "name": "stdout",
     "output_type": "stream",
     "text": [
      "0.994 0.977 0.074\n"
     ]
    }
   ],
   "source": [
    "cos_1 = user @ user1 / np.linalg.norm(user, ord = 2) / np.linalg.norm(user1, ord=2)\n",
    "cos_2 = user @ user2 / np.linalg.norm(user, ord = 2) / np.linalg.norm(user2, ord=2)\n",
    "cos_3 = user @ user3 / np.linalg.norm(user, ord = 2) / np.linalg.norm(user3, ord=2)\n",
    "\n",
    "print(round(cos_1, 3), round(cos_2, 3), round(cos_3, 3))\n"
   ]
  },
  {
   "cell_type": "code",
   "execution_count": 12,
   "metadata": {},
   "outputs": [
    {
     "name": "stdout",
     "output_type": "stream",
     "text": [
      "users = \n",
      " [[10  0  0 20  0  5]\n",
      " [20  3  0 35  0 12]\n",
      " [ 9  0  3 15  0  2]\n",
      " [ 2  5  3  0 10  0]]\n",
      "users similarity = \n",
      " [[1.    0.994 0.977 0.074]\n",
      " [0.994 1.    0.968 0.111]\n",
      " [0.977 0.968 1.    0.129]\n",
      " [0.074 0.111 0.129 1.   ]]\n"
     ]
    }
   ],
   "source": [
    "from sklearn.metrics.pairwise import cosine_similarity as cosine_sim\n",
    "\n",
    "users = np.vstack([user, user1, user2, user3])\n",
    "print(f'users = \\n {users}')\n",
    "\n",
    "S = cosine_sim(users)\n",
    "print(f'users similarity = \\n {np.round(S, 3)}')"
   ]
  }
 ],
 "metadata": {
  "kernelspec": {
   "display_name": "Python 3.10.1 64-bit",
   "language": "python",
   "name": "python3"
  },
  "language_info": {
   "codemirror_mode": {
    "name": "ipython",
    "version": 3
   },
   "file_extension": ".py",
   "mimetype": "text/x-python",
   "name": "python",
   "nbconvert_exporter": "python",
   "pygments_lexer": "ipython3",
   "version": "3.10.1"
  },
  "orig_nbformat": 4,
  "vscode": {
   "interpreter": {
    "hash": "26de051ba29f2982a8de78e945f0abaf191376122a1563185a90213a26c5da77"
   }
  }
 },
 "nbformat": 4,
 "nbformat_minor": 2
}
