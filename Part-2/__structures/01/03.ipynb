{
 "cells": [
  {
   "cell_type": "code",
   "execution_count": 2,
   "metadata": {},
   "outputs": [],
   "source": [
    "import numpy as np\n",
    "import matplotlib.pyplot as plt\n",
    "plt.style.use('ggplot')"
   ]
  },
  {
   "cell_type": "code",
   "execution_count": 12,
   "metadata": {},
   "outputs": [
    {
     "name": "stdout",
     "output_type": "stream",
     "text": [
      "30 30 30\n",
      "9\n",
      "[14  0  0  6 30  0 62 10  0  7  7  0  0  0  2  3 15 15  9  0  0 10  0  5\n",
      "  5  0  0  5 45  4]\n",
      "[[14  0  0  6 30  0 62 10  0  7  7  0  0  0]\n",
      " [ 0  6 30  0 62 10  0  7  7  0  0  0  2  3]\n",
      " [30  0 62 10  0  7  7  0  0  0  2  3 15 15]\n",
      " [62 10  0  7  7  0  0  0  2  3 15 15  9  0]\n",
      " [ 0  7  7  0  0  0  2  3 15 15  9  0  0 10]\n",
      " [ 7  0  0  0  2  3 15 15  9  0  0 10  0  5]\n",
      " [ 0  0  2  3 15 15  9  0  0 10  0  5  5  0]\n",
      " [ 2  3 15 15  9  0  0 10  0  5  5  0  0  5]\n",
      " [15 15  9  0  0 10  0  5  5  0  0  5 45  4]]\n",
      "(9, 14, 3)\n"
     ]
    },
    {
     "data": {
      "text/plain": [
       "array([[14,  0,  0,  6, 30,  0, 62, 10,  0,  7,  7,  0,  0,  0],\n",
       "       [ 0,  6, 30,  0, 62, 10,  0,  7,  7,  0,  0,  0,  2,  3]])"
      ]
     },
     "execution_count": 12,
     "metadata": {},
     "output_type": "execute_result"
    }
   ],
   "source": [
    "Query = np.array([14, 0, 0, 6, 30, 0, 62, 10, 0, 7, 7, 0, 0, 0, 2, 3, 15, 15, 9, 0, 0, 10, 0, 5, 5, 0, 0, 5, 45, 4])\n",
    "\n",
    "SuccessQ = np.array([0, 0, 0, 0, 0, 0, 24, 4, 0, 4, 4, 0, 0, 0, 0, 2, 7, 9, 9, 0, 0, 2, 0, 4, 2, 0, 0, 5, 34, 2])\n",
    "\n",
    "FailureQ = np.array([14, 0, 0, 0, 0, 0, 0, 0, 0, 2, 0, 0, 0, 0, 0, 0, 3, 2, 0, 0, 0, 4, 0, 0, 0, 0, 0, 0, 4, 2])\n",
    "\n",
    "print(len(Query), len(SuccessQ), len(FailureQ))\n",
    "\n",
    "t_window = 14\n",
    "t_step = 2\n",
    "\n",
    "Q_len = len(Query)\n",
    "\n",
    "Samples_Q = (Q_len - t_window + 2) // t_step\n",
    "print(Samples_Q)\n",
    "\n",
    "\n",
    "def form_window_data(data, t_window, t_step):\n",
    "    window_list = [data[i : i + t_window] for i in range(0, len(data) - t_window + 2, t_step)]\n",
    "    return np.array(window_list)\n",
    "\n",
    "print(Query)\n",
    "print(form_window_data(Query, t_window, t_step))\n",
    "\n",
    "Query_w = form_window_data(Query, t_window, t_step)\n",
    "SuccessQ_w = form_window_data(SuccessQ, t_window, t_step)\n",
    "FailureQ_w = form_window_data(FailureQ, t_window, t_step)\n",
    "\n",
    "data = np.concatenate([Query_w[:, :, np.newaxis], SuccessQ_w[:, :, np.newaxis], FailureQ_w[:, :, np.newaxis]], axis=2)\n",
    "\n",
    "print(data.shape)\n"
   ]
  },
  {
   "cell_type": "code",
   "execution_count": 18,
   "metadata": {},
   "outputs": [
    {
     "name": "stdout",
     "output_type": "stream",
     "text": [
      "[[14  0  0  6 30  0 62 10  0  7  7  0  0  0]\n",
      " [ 0  6 30  0 62 10  0  7  7  0  0  0  2  3]]\n",
      "[ True False False  True  True False  True  True False  True  True False\n",
      " False False]\n",
      "[ 0.    0.    0.   38.71 40.   57.14 57.14]\n"
     ]
    }
   ],
   "source": [
    "print(data[0:2,:,0])\n",
    "\n",
    "nonzero_data = data[0, :, 0] > 0\n",
    "print(nonzero_data)\n",
    "\n",
    "SuccessQ_prct = 100 * data[0, nonzero_data, 1] / data[0, nonzero_data, 0]\n",
    "print(np.round(SuccessQ_prct, 2))"
   ]
  },
  {
   "cell_type": "code",
   "execution_count": 20,
   "metadata": {},
   "outputs": [
    {
     "name": "stdout",
     "output_type": "stream",
     "text": [
      "(9, 3, 14)\n"
     ]
    }
   ],
   "source": [
    "data2 = np.concatenate([Query_w[:, np.newaxis, :], SuccessQ_w[:, np.newaxis, :], FailureQ_w[:, np.newaxis, :]], axis=1)\n",
    "print(data2.shape)"
   ]
  }
 ],
 "metadata": {
  "kernelspec": {
   "display_name": "Python 3.10.1 64-bit",
   "language": "python",
   "name": "python3"
  },
  "language_info": {
   "codemirror_mode": {
    "name": "ipython",
    "version": 3
   },
   "file_extension": ".py",
   "mimetype": "text/x-python",
   "name": "python",
   "nbconvert_exporter": "python",
   "pygments_lexer": "ipython3",
   "version": "3.10.1"
  },
  "orig_nbformat": 4,
  "vscode": {
   "interpreter": {
    "hash": "26de051ba29f2982a8de78e945f0abaf191376122a1563185a90213a26c5da77"
   }
  }
 },
 "nbformat": 4,
 "nbformat_minor": 2
}
