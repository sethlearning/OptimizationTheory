{
 "cells": [
  {
   "cell_type": "code",
   "execution_count": 4,
   "metadata": {},
   "outputs": [
    {
     "name": "stdout",
     "output_type": "stream",
     "text": [
      "A = \n",
      " [[1 1 1]\n",
      " [2 2 2]]\n",
      "B = \n",
      " [[1 2 3]\n",
      " [4 5 6]]\n"
     ]
    }
   ],
   "source": [
    "import numpy as np\n",
    "\n",
    "A = np.array([[1, 1, 1], [2, 2, 2]])\n",
    "B = np.array([[1, 2, 3], [4, 5, 6]])\n",
    "\n",
    "print(f'A = \\n {A}')\n",
    "print(f'B = \\n {B}')"
   ]
  },
  {
   "cell_type": "code",
   "execution_count": 5,
   "metadata": {},
   "outputs": [
    {
     "name": "stdout",
     "output_type": "stream",
     "text": [
      "A + B = \n",
      " [[2 3 4]\n",
      " [6 7 8]]\n",
      "A * B = \n",
      " [[ 1  2  3]\n",
      " [ 8 10 12]]\n"
     ]
    }
   ],
   "source": [
    "\n",
    "C = A + B\n",
    "print(f'A + B = \\n {C}')\n",
    "\n",
    "D = A * B\n",
    "print(f'A * B = \\n {D}')\n"
   ]
  },
  {
   "cell_type": "code",
   "execution_count": 7,
   "metadata": {},
   "outputs": [
    {
     "name": "stdout",
     "output_type": "stream",
     "text": [
      "A + 2 = \n",
      " [[3 3 3]\n",
      " [4 4 4]]\n",
      "A * 2 = \n",
      " [[2 2 2]\n",
      " [4 4 4]]\n"
     ]
    }
   ],
   "source": [
    "# A + 2\n",
    "print(f'A + 2 = \\n {A + 2}')\n",
    "# A * 2\n",
    "print(f'A * 2 = \\n {A * 2}')"
   ]
  },
  {
   "cell_type": "code",
   "execution_count": 14,
   "metadata": {},
   "outputs": [
    {
     "name": "stdout",
     "output_type": "stream",
     "text": [
      "A + T = \n",
      " [[11 21 31]\n",
      " [12 22 32]]\n",
      "A * T = \n",
      " [[10 20 30]\n",
      " [20 40 60]]\n",
      "T = [[10]\n",
      " [20]]\n",
      "A + T = \n",
      " [[11 11 11]\n",
      " [22 22 22]]\n",
      "A * T = \n",
      " [[10 10 10]\n",
      " [40 40 40]]\n"
     ]
    }
   ],
   "source": [
    "T = np.array([10, 20, 30])\n",
    "print(f'A + T = \\n {A + T}')\n",
    "print(f'A * T = \\n {A * T}')\n",
    "\n",
    "T = np.array([[10], [20]])\n",
    "\n",
    "print(f'T = {T}')\n",
    "print(f'A + T = \\n {A + T}')\n",
    "print(f'A * T = \\n {A * T}')\n"
   ]
  },
  {
   "cell_type": "code",
   "execution_count": 21,
   "metadata": {},
   "outputs": [
    {
     "name": "stdout",
     "output_type": "stream",
     "text": [
      "A = \n",
      "[[ 1 -2]\n",
      " [ 0  3]\n",
      " [ 2 -1]]\n",
      "B = \n",
      "[[ 2  1]\n",
      " [ 9 -3]]\n",
      "A @ B = \n",
      "[[-16   7]\n",
      " [ 27  -9]\n",
      " [ -5   5]]\n"
     ]
    }
   ],
   "source": [
    "A = np.array([[1, -2], [0, 3], [2, -1]])\n",
    "B = np.array([[2, 1], [9, -3]])\n",
    "\n",
    "print(f'A = \\n{A}')\n",
    "print(f'B = \\n{B}')\n",
    "\n",
    "C = A @ B\n",
    "print(f'A @ B = \\n{C}')"
   ]
  },
  {
   "cell_type": "code",
   "execution_count": 25,
   "metadata": {},
   "outputs": [
    {
     "name": "stdout",
     "output_type": "stream",
     "text": [
      "x = [ 1 -1  2  3]\n",
      "W = \n",
      " [[-3  1  1  2]\n",
      " [-5  2  1  1]]\n",
      "z = [ 4 -2]\n",
      "y = [ 1 -1]\n"
     ]
    }
   ],
   "source": [
    "# расчет выхода слоя нейронов\n",
    "# x = np.array([[1], [-1], [2], [3]]) # - формально так, но можно и \n",
    "x = np.array([1, -1, 2, 3])\n",
    "print(f'x = {x}')\n",
    "\n",
    "W = np.array([[-3, 1, 1, 2], [-5, 2, 1, 1]])\n",
    "print(f'W = \\n {W}')\n",
    "\n",
    "z = np.dot(W, x)\n",
    "y = np.sign(z)\n",
    "\n",
    "print(f'z = {z}')\n",
    "print(f'y = {y}')\n",
    "\n"
   ]
  },
  {
   "cell_type": "code",
   "execution_count": 30,
   "metadata": {},
   "outputs": [
    {
     "name": "stdout",
     "output_type": "stream",
     "text": [
      "[ -1 -21]\n"
     ]
    }
   ],
   "source": [
    "# practice\n",
    "W = np.array([[-60, 1, 1, 2, 2, 3],\n",
    "              [-80, 1, 1, 2, 2, 3]])\n",
    "\n",
    "x = np.array([1, 10, 8, 7, 6, 5])\n",
    "\n",
    "z = W @ x\n",
    "print(z)\n",
    "\n"
   ]
  }
 ],
 "metadata": {
  "kernelspec": {
   "display_name": "Python 3.10.1 64-bit",
   "language": "python",
   "name": "python3"
  },
  "language_info": {
   "codemirror_mode": {
    "name": "ipython",
    "version": 3
   },
   "file_extension": ".py",
   "mimetype": "text/x-python",
   "name": "python",
   "nbconvert_exporter": "python",
   "pygments_lexer": "ipython3",
   "version": "3.10.7"
  },
  "orig_nbformat": 4,
  "vscode": {
   "interpreter": {
    "hash": "26de051ba29f2982a8de78e945f0abaf191376122a1563185a90213a26c5da77"
   }
  }
 },
 "nbformat": 4,
 "nbformat_minor": 2
}
