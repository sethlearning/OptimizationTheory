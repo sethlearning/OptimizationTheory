{
 "cells": [
  {
   "cell_type": "markdown",
   "metadata": {},
   "source": [
    "# Text"
   ]
  },
  {
   "cell_type": "markdown",
   "metadata": {},
   "source": [
    "Практикум 2.1. Оптимизация методом покоординатного спуска\n",
    "\n",
    "Тип работы:  Индивидуальная работа\n",
    "\n",
    "Данное задание выполняется после того, как вы успешно справились с заданиями по реализации алгоритма градиентного спуска вдоль направления:\n",
    "`def opt1D(f1, x0, alpha, epsg=0.1, maxsteps=10)`\n",
    "\n",
    "и вычисления градиента функции нескольких переменных\n",
    "`def eval_grad(f, r0, dx=1e-8)`\n",
    "\n",
    "Теперь требуется написать функцию, которая будет использовать обе эти функции и будет реализовать метод покоординатного спуска (см. лекционный материал)\n",
    "\n",
    "`def coord2D(f, r0, alpha=0.01, epsg=0.1, maxsteps=100)`\n",
    "\n",
    "**ВХОД**:\n",
    "- `f` - функция n переменных; n=2, 3, ..\n",
    "- `r0 = (r01, .., r0n)` - начальная точка (кортеж размерности n);\n",
    "- `alpha` - коэффициент шага градиентного спуска вдоль направления;\n",
    "- `epsg` - требуемая точность искомого приближения т.минимума по производной;\n",
    "- `maxsteps` - максимальное количество итераций;\n",
    "\n",
    "**ВЫХОД**:\n",
    "- `r = (r1, .., rn)` в виде **np.array()** (с точностью до 4-го знака после запятой) - приближение, найденное методом покоординатного спуска или с заданной точностью по градиенту (**|g(r)| < epsg**) или после **maxsteps** шагов.\n",
    "\n",
    "Под шагом в данном случае подразумевается поиск вдоль направления. Т.е. поиск вдоль оси OX будет одним шагом, вдоль оси OY будет другим шагом, ...\n",
    "\n",
    "ВАЖНО!\n",
    "> Точность, с которой нужно находить минимум вдоль выбранного направления должна быть меньше, чем epsg; поэтому берем ее равной 0.5*epsg.\n",
    "> При одномерном спуске вдоль направления всегда задавайте ограничение по кол-ву шагов = 10 (maxsteps=10) !\n",
    "\n",
    "---\n",
    "\n",
    "**ПРИМЕР 1**\n",
    "\n",
    "**ВХОД**\n",
    "\n",
    "`f(r) = r[0]**2+4*r[1]**2`\n",
    "\n",
    "`r0 = (-3.0, 2.0)`\n",
    "\n",
    "`rlist = coord2D(f, r0, alpha=0.1, maxsteps=10)`\n",
    "\n",
    "`print(rlist[-1])`\n",
    "\n",
    "**ВЫХОД**\n",
    "\n",
    "`array([-0.0366  0.0009])`\n",
    "\n",
    "---\n",
    "\n",
    "**ПРИМЕР 2**\n",
    "\n",
    "**ВХОД**\n",
    "\n",
    "`f(r) = .5*(1 - x[0])**2 + (x[1] - x[0]**2)**2`\n",
    "\n",
    "`r0 = (-1.0, 2.0)`\n",
    "\n",
    "`rlist = coord2D(f, r0, alpha=0.1, maxsteps=10)`\n",
    "\n",
    "`print(rlist[-1])`\n",
    "\n",
    "**ВЫХОД**\n",
    "\n",
    "`array([-0.5483  0.7067])`\n"
   ]
  },
  {
   "cell_type": "markdown",
   "metadata": {},
   "source": [
    "# Code"
   ]
  },
  {
   "cell_type": "code",
   "execution_count": 6,
   "metadata": {},
   "outputs": [],
   "source": [
    "import inspect\n",
    "\n",
    "# реализация метода покоординатного спуска\n",
    "def coord2D(f, r0, alpha = 0.01, epsg= 0.1, maxsteps = 10):\n",
    "\n",
    "    print(inspect.getsource(f))\n",
    "    print(f'r0: {r0}')\n",
    "    print(f'alpha: {alpha}')\n",
    "    print(f'epsg: {epsg}')\n",
    "    print(f'maxsteps: {maxsteps}')\n"
   ]
  },
  {
   "cell_type": "code",
   "execution_count": 5,
   "metadata": {},
   "outputs": [
    {
     "name": "stdout",
     "output_type": "stream",
     "text": [
      "def f(x):\n",
      "    return f**2\n",
      "\n"
     ]
    }
   ],
   "source": [
    "import inspect\n",
    "def f(x):\n",
    "    return f**2\n",
    "print(inspect.getsource(f))"
   ]
  },
  {
   "cell_type": "markdown",
   "metadata": {},
   "source": [
    "# Tests"
   ]
  },
  {
   "cell_type": "code",
   "execution_count": 7,
   "metadata": {},
   "outputs": [
    {
     "name": "stdout",
     "output_type": "stream",
     "text": [
      "def f(r):\n",
      "    return r[0]**2+4*r[1]**2\n",
      "\n",
      "r0: (-3.0, 2.0)\n",
      "alpha: 0.1\n",
      "epsg: 0.1\n",
      "maxsteps: 10\n"
     ]
    }
   ],
   "source": [
    "printv = True\n",
    "\n",
    "def f(r):\n",
    "    return r[0]**2+4*r[1]**2\n",
    "\n",
    "r0 = (-3.0, 2.0)\n",
    "rlist = coord2D(f, r0, alpha=0.1, epsg=0.1, maxsteps=10)\n",
    "rlist\n",
    "# print(rlist[-1])\n",
    "\n",
    "\n",
    "# array([-0.0366  0.0009])"
   ]
  },
  {
   "cell_type": "code",
   "execution_count": 25,
   "metadata": {},
   "outputs": [
    {
     "data": {
      "text/plain": [
       "[(-1.0, 2.0),\n",
       " (-1.2488, 2.0),\n",
       " (-1.2488, 1.6068),\n",
       " (-1.0563, 1.6068),\n",
       " (-1.0563, 1.1684),\n",
       " (-0.7842, 1.1684),\n",
       " (-0.7842, 0.6744),\n",
       " (0.0013, 0.6744),\n",
       " (0.0013, 0.0724),\n",
       " (0.5247, 0.0724),\n",
       " (0.5247, 0.2535)]"
      ]
     },
     "execution_count": 25,
     "metadata": {},
     "output_type": "execute_result"
    }
   ],
   "source": [
    "def f(x):\n",
    "    return 0.5*(1 - x[0])**2 + (x[1] - x[0]**2)**2\n",
    "r0 = (-1.0, 2.0)\n",
    "rlist = coord2D(f, r0, alpha=0.1, maxsteps=10)\n",
    "rlist\n",
    "\n",
    "# print(rlist[-1])\n",
    "# array([-0.5483  0.7067])"
   ]
  },
  {
   "cell_type": "markdown",
   "metadata": {},
   "source": [
    "# Tests 2"
   ]
  },
  {
   "cell_type": "code",
   "execution_count": null,
   "metadata": {},
   "outputs": [],
   "source": [
    "1\n",
    "-3.0, 2.0\n",
    "0.1, 4"
   ]
  }
 ],
 "metadata": {
  "kernelspec": {
   "display_name": "Python 3.10.7 64-bit",
   "language": "python",
   "name": "python3"
  },
  "language_info": {
   "codemirror_mode": {
    "name": "ipython",
    "version": 3
   },
   "file_extension": ".py",
   "mimetype": "text/x-python",
   "name": "python",
   "nbconvert_exporter": "python",
   "pygments_lexer": "ipython3",
   "version": "3.10.7"
  },
  "orig_nbformat": 4,
  "vscode": {
   "interpreter": {
    "hash": "26de051ba29f2982a8de78e945f0abaf191376122a1563185a90213a26c5da77"
   }
  }
 },
 "nbformat": 4,
 "nbformat_minor": 2
}
