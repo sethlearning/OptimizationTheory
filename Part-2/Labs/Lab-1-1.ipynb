{
 "cells": [
  {
   "cell_type": "markdown",
   "metadata": {},
   "source": [
    "## Практикум 2.2 Оптимизация ФНП методом градиентного спуска\n",
    "\n",
    "Тип работы:  Индивидуальная работа\n",
    "\n",
    "Дана функция нескольких переменных f(r) (например f1(r) = r04+ 2*r12) и начальная точка  r0 = (x0,y0,..).\n",
    "\n",
    "Необходимо найти точку минимума с заданной точностью по производной epsg.\n",
    "\n",
    "Для этого вы должны \n",
    "\n",
    "1. Реализовать функцию вычисления вектора - градиента функции `f` в заданной точке `r` как функцию `gradfun(f,r)` параметров `f` и `r`.\n",
    "\n",
    "   Текущее приближение r представляется в виде кортежа Python. \n",
    "\n",
    "2. Реализовать простой градиентный спуск в точку минимума как функцию параметров `f, r0, epsg, alfa, maxiter`\n",
    "\n",
    "   `gradsteps(f, r0, epsg, alfa,maxiter)`\n",
    "\n",
    "Начальное приближение `r0` представляется в виде кортежа Python.\n",
    "\n",
    "На выходе функция `gradfun(f,r)` должна возвращать вектор градиента в виде массива numpy. \n",
    "\n",
    "На выходе функция `gradsteps(f, r0, epsg, alfa, maxiter)` должна возвращать список всех полученных приближений (каждое приближение - кортеж),\n",
    "начиная с начального значения r0 и завершая последним приближением - решением задачи с заданной точностью по градиенту или по количеству итераций.\n",
    "Заданная точность по градиенту определяется из условия \"евклидова длина вектора градиента gradfun(f,r) меньше заданной точности epsg\"\n",
    "\n",
    "`maxiter` - ограничивает кол-во итераций, т.е. список не должен превышать `maxiter + 1` элемент. \n",
    "\n",
    "Например, \n",
    "\n",
    "результатом обращения `gradfun(f=f1, r=(1, 0))` должен быть `array([ 4.,  0.])`;\n",
    "\n",
    "результатом обращения `gradsteps(f1, r0=(1, 1), epsg=0.5, alfa=0.1, maxiter=10)` должен быть список (с точностью до 4-х знаков)\n",
    "\n",
    "`[(1, 1),  (0.6, 0.6),  (0.5136, 0.3600),  (0.4594, 0.2160),  (0.4206, 0.1296),  (0.3908, 0.07776)]`\n",
    "\n"
   ]
  },
  {
   "cell_type": "code",
   "execution_count": 27,
   "metadata": {},
   "outputs": [],
   "source": [
    "import numpy as np\n",
    "\n",
    "# --- Эту функцию программирует обучающийся!!! ----\n",
    "# функция вычисления градиента функции f в точке r\n",
    "# на выходе - вектор градиента в виде numpy array\n",
    "def gradfun(f, r, dx=1e-7):\n",
    "    # задаем вычисление градиента функции f\n",
    "    dfdx = []\n",
    "    x = np.array(r)\n",
    "    for i in range(len(x)):\n",
    "        mdx = [0 for _ in range(len(x))]\n",
    "        mdx[i] = dx\n",
    "        dfdx.append(np.round((f(x+mdx) - f(x)) / dx, 4))\n",
    "    return np.array(dfdx)\n",
    " \n",
    "def gradlengthfun(grad):\n",
    "    gradlength = 0\n",
    "    for i in range(len(grad)):\n",
    "        gradlength += grad[i]**2\n",
    "    else:\n",
    "        gradlength = np.sqrt(gradlength)\n",
    "    return gradlength\n",
    "\n",
    "# --- Эту функцию программирует обучающийся!!! ----\n",
    "# maxiter - ограничивает кол-во итераций, \n",
    "# т.е. список не должен превышать maxiter+1 элемент !\n",
    "def gradsteps(f, r0, epsg=0.1, alfa=0.01, maxiter=100):\n",
    "    # организуем градиентный спуск \n",
    "    xlist = [r0]\n",
    "    iter = 0\n",
    "    grad = gradfun(f, r0)\n",
    "    gradlength = gradlengthfun(grad)\n",
    "\n",
    "    while (gradlength > epsg) and (iter < maxiter):\n",
    "        r0 -= alfa*grad\n",
    "        xlist.append(tuple(np.round(r0, 4)))\n",
    "        grad = gradfun(f, r0)\n",
    "        gradlength = gradlengthfun(grad)\n",
    "        iter += 1\n",
    "\n",
    "    return xlist"
   ]
  },
  {
   "cell_type": "markdown",
   "metadata": {},
   "source": [
    "#### Test"
   ]
  },
  {
   "cell_type": "code",
   "execution_count": 28,
   "metadata": {},
   "outputs": [
    {
     "name": "stdout",
     "output_type": "stream",
     "text": [
      "[4. 0.]\n"
     ]
    }
   ],
   "source": [
    "def f1(x):\n",
    "    return x[0]**4 + 2*x[1]**2\n",
    "\n",
    "r = (1, 0)\n",
    "print(gradfun(f1, r))\n"
   ]
  },
  {
   "cell_type": "code",
   "execution_count": 29,
   "metadata": {},
   "outputs": [
    {
     "data": {
      "text/plain": [
       "[(1, 1),\n",
       " (0.6, 0.6),\n",
       " (0.5136, 0.36),\n",
       " (0.4594, 0.216),\n",
       " (0.4206, 0.1296),\n",
       " (0.3909, 0.0778)]"
      ]
     },
     "execution_count": 29,
     "metadata": {},
     "output_type": "execute_result"
    }
   ],
   "source": [
    "r = (1, 1)\n",
    "gradsteps(f1, r, epsg=0.5, alfa=0.1, maxiter=10)"
   ]
  }
 ],
 "metadata": {
  "kernelspec": {
   "display_name": "Python 3.10.7 64-bit",
   "language": "python",
   "name": "python3"
  },
  "language_info": {
   "codemirror_mode": {
    "name": "ipython",
    "version": 3
   },
   "file_extension": ".py",
   "mimetype": "text/x-python",
   "name": "python",
   "nbconvert_exporter": "python",
   "pygments_lexer": "ipython3",
   "version": "3.10.7"
  },
  "orig_nbformat": 4,
  "vscode": {
   "interpreter": {
    "hash": "26de051ba29f2982a8de78e945f0abaf191376122a1563185a90213a26c5da77"
   }
  }
 },
 "nbformat": 4,
 "nbformat_minor": 2
}
