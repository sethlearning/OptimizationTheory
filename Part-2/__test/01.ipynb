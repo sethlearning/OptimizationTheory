{
 "cells": [
  {
   "cell_type": "markdown",
   "metadata": {},
   "source": [
    "# 1"
   ]
  },
  {
   "cell_type": "code",
   "execution_count": 18,
   "metadata": {},
   "outputs": [],
   "source": [
    "import numpy as np\n",
    "import matplotlib.pyplot as plt\n",
    "%matplotlib inline\n",
    "\n",
    "from PIL import Image, ImageDraw"
   ]
  },
  {
   "cell_type": "code",
   "execution_count": 6,
   "metadata": {},
   "outputs": [
    {
     "name": "stdout",
     "output_type": "stream",
     "text": [
      "A: \n",
      " [[ 1  2  3]\n",
      " [-4 -3 -2]]\n",
      "B: \n",
      " [[-1 -2 -3]\n",
      " [ 4  5  6]]\n",
      "10A: \n",
      " [[ 10  20  30]\n",
      " [-40 -30 -20]]\n",
      "10B: \n",
      " [[-10 -20 -30]\n",
      " [ 40  50  60]]\n",
      "C: \n",
      " [[ 0  0  0]\n",
      " [ 0 20 40]]\n"
     ]
    }
   ],
   "source": [
    "A = np.array([[1, 2, 3], [-4, -3, -2]])\n",
    "B = np.array([[-1, -2, -3], [4, 5, 6]])\n",
    "\n",
    "C = 10*A + 10*B\n",
    "\n",
    "print(f\"A: \\n {A}\")\n",
    "print(f\"B: \\n {B}\")\n",
    "\n",
    "print(f\"10A: \\n {10 * A}\")\n",
    "print(f\"10B: \\n {10 * B}\")\n",
    "\n",
    "\n",
    "\n",
    "print(f\"C: \\n {C}\")"
   ]
  },
  {
   "cell_type": "code",
   "execution_count": 10,
   "metadata": {},
   "outputs": [
    {
     "name": "stdout",
     "output_type": "stream",
     "text": [
      "A: \n",
      " [[ 1  2  3]\n",
      " [-4  5 -2]]\n",
      "BT: \n",
      " [[ 1 -2 -3]\n",
      " [ 4  5  6]]\n",
      "B: \n",
      " [[ 1  4]\n",
      " [-2  5]\n",
      " [-3  6]]\n",
      "C: \n",
      " [[-12  32]\n",
      " [ -8  -3]]\n"
     ]
    }
   ],
   "source": [
    "A = np.array([[1, 2, 3], [-4, 5, -2]])\n",
    "BT = np.array([[1, -2, -3], [4, 5, 6]])\n",
    "\n",
    "B = BT.T\n",
    "print(f\"A: \\n {A}\")\n",
    "print(f\"BT: \\n {BT}\")\n",
    "print(f\"B: \\n {B}\")\n",
    "\n",
    "C = A @ B\n",
    "print(f\"C: \\n {C}\")"
   ]
  },
  {
   "cell_type": "code",
   "execution_count": 20,
   "metadata": {},
   "outputs": [
    {
     "name": "stdout",
     "output_type": "stream",
     "text": [
      "<class 'numpy.ndarray'> (32, 32, 3)\n"
     ]
    },
    {
     "data": {
      "image/png": "[encoded data removed]",
      "text/plain": [
       "<Figure size 640x480 with 1 Axes>"
      ]
     },
     "metadata": {},
     "output_type": "display_data"
    }
   ],
   "source": [
    "def board(num, size):\n",
    "    rgb_array = np.zeros((size * num, size * num, 3), dtype=np.uint8)\n",
    "    for i in range(num):\n",
    "        for j in range(num):\n",
    "            if (i + j) % 2:\n",
    "                p1 = (i * size, j * size)\n",
    "                p2 = ((i + 1) * size, (j + 1) * size)\n",
    "                rgb_array[p1[0]:p2[0], p1[1]:p2[1], :] = np.array([255, 255, 255])\n",
    "    rgb_array = np.zeros((size * num, size * num, 3), dtype=np.uint8)\n",
    "\n",
    "    return rgb_array\n",
    "\n",
    "im_array = board(4, 8)\n",
    "\n",
    "print(type(im_array), im_array.shape)\n",
    "\n",
    "plt.imshow(im_array)\n",
    "# f, ax = plt.subplots(figsize=(11,5))\n",
    "# ax.axis(\"Off\")\n",
    "# ax.imshow(im)\n",
    "plt.show()"
   ]
  },
  {
   "cell_type": "markdown",
   "metadata": {},
   "source": [
    "# 2"
   ]
  },
  {
   "cell_type": "code",
   "execution_count": 23,
   "metadata": {},
   "outputs": [
    {
     "name": "stdout",
     "output_type": "stream",
     "text": [
      "A: \n",
      " [[ 1  2  3]\n",
      " [-4 -3 -2]]\n",
      "B: \n",
      " [[-1 -2 -3]\n",
      " [ 4  5  6]]\n",
      "-4A: \n",
      " [[ -4  -8 -12]\n",
      " [ 16  12   8]]\n",
      "8B: \n",
      " [[ -8 -16 -24]\n",
      " [ 32  40  48]]\n",
      "C: \n",
      " [[-12 -24 -36]\n",
      " [ 48  52  56]]\n"
     ]
    }
   ],
   "source": [
    "A = np.array([[1, 2, 3], [-4, -3, -2]])\n",
    "B = np.array([[-1, -2, -3], [4, 5, 6]])\n",
    "\n",
    "print(f'A: \\n {A}')\n",
    "print(f'B: \\n {B}')\n",
    "\n",
    "print(f'-4A: \\n {-4 * A}')\n",
    "print(f'8B: \\n {8 * B}')\n",
    "\n",
    "C = -4 * A + 8 * B\n",
    "print(f'C: \\n {C}')\n",
    "\n",
    "\n"
   ]
  },
  {
   "cell_type": "code",
   "execution_count": 25,
   "metadata": {},
   "outputs": [
    {
     "name": "stdout",
     "output_type": "stream",
     "text": [
      "A: \n",
      " [[ 1  2  3]\n",
      " [-4  8 -2]]\n",
      "B: \n",
      " [[ 9  4]\n",
      " [-2  5]\n",
      " [-3  6]]\n",
      "C: \n",
      " [[ -7  50  19]\n",
      " [-22  36 -16]\n",
      " [-27  42 -21]]\n"
     ]
    }
   ],
   "source": [
    "A = np.array([[1, 2, 3], [-4, 8, -2]])\n",
    "BT = np.array([[9, -2, -3], [4, 5, 6]])\n",
    "\n",
    "B = BT.T\n",
    "\n",
    "C = B @ A\n",
    "\n",
    "print(f'A: \\n {A}')\n",
    "print(f'B: \\n {B}')\n",
    "print(f'C: \\n {C}')\n"
   ]
  },
  {
   "cell_type": "markdown",
   "metadata": {},
   "source": [
    "# 3"
   ]
  },
  {
   "cell_type": "code",
   "execution_count": 26,
   "metadata": {},
   "outputs": [
    {
     "name": "stdout",
     "output_type": "stream",
     "text": [
      "C: \n",
      " [[-13 -26 -39]\n",
      " [ 52  51  50]]\n"
     ]
    }
   ],
   "source": [
    "A = np.array([[1, 2, 3], [-4, -3, -2]])\n",
    "B = np.array([[-1, -2, -3], [4, 5, 6]])\n",
    "\n",
    "C = -7 * A + 6 * B\n",
    "\n",
    "print(f'C: \\n {C}')"
   ]
  },
  {
   "cell_type": "code",
   "execution_count": 29,
   "metadata": {},
   "outputs": [
    {
     "name": "stdout",
     "output_type": "stream",
     "text": [
      "A: \n",
      " [[ 1  2  3]\n",
      " [-4  9 -2]]\n",
      "B: \n",
      " [[ 8  4]\n",
      " [-2  5]\n",
      " [-3  6]]\n",
      "C: \n",
      " [[ -8  52  16]\n",
      " [-22  41 -16]\n",
      " [-27  48 -21]]\n"
     ]
    }
   ],
   "source": [
    "A = np.array([[1, 2, 3], [-4, 9, -2]])\n",
    "BT = np.array([[8, -2, -3], [4, 5, 6]])\n",
    "\n",
    "B = BT.T\n",
    "\n",
    "C = B @ A\n",
    "\n",
    "\n",
    "print(f'A: \\n {A}')\n",
    "print(f'B: \\n {B}')\n",
    "print(f'C: \\n {C}')"
   ]
  },
  {
   "cell_type": "markdown",
   "metadata": {},
   "source": [
    "# 4"
   ]
  },
  {
   "cell_type": "code",
   "execution_count": 30,
   "metadata": {},
   "outputs": [
    {
     "name": "stdout",
     "output_type": "stream",
     "text": [
      "A: \n",
      " [[ 1  2  3]\n",
      " [-4 -3 -2]]\n",
      "B: \n",
      " [[-1 -2 -3]\n",
      " [ 4  5  6]]\n",
      "C: \n",
      " [[-12 -24 -36]\n",
      " [ 48  40  32]]\n"
     ]
    }
   ],
   "source": [
    "A = np.array([[1, 2, 3], [-4, -3, -2]])\n",
    "B = np.array([[-1, -2, -3], [4, 5, 6]])\n",
    "\n",
    "C = -10 * A + 2 * B\n",
    "\n",
    "print(f'A: \\n {A}')\n",
    "print(f'B: \\n {B}')\n",
    "print(f'C: \\n {C}')"
   ]
  },
  {
   "cell_type": "code",
   "execution_count": 31,
   "metadata": {},
   "outputs": [
    {
     "name": "stdout",
     "output_type": "stream",
     "text": [
      "A: \n",
      " [[ 1  2  3]\n",
      " [-4  3 -2]]\n",
      "B: \n",
      " [[ 9  4]\n",
      " [-2  5]\n",
      " [-3  6]]\n",
      "C: \n",
      " [[ -4  32]\n",
      " [-36 -13]]\n"
     ]
    }
   ],
   "source": [
    "A = np.array([[1, 2, 3], [-4, 3, -2]])\n",
    "BT = np.array([[9, -2, -3], [4, 5, 6]])\n",
    "\n",
    "B = BT.T\n",
    "\n",
    "C = A @ B\n",
    "\n",
    "print(f'A: \\n {A}')\n",
    "print(f'B: \\n {B}')\n",
    "print(f'C: \\n {C}')"
   ]
  },
  {
   "cell_type": "markdown",
   "metadata": {},
   "source": [
    "# 5"
   ]
  },
  {
   "cell_type": "code",
   "execution_count": 32,
   "metadata": {},
   "outputs": [
    {
     "name": "stdout",
     "output_type": "stream",
     "text": [
      "A: \n",
      " [[ 1  2  3]\n",
      " [-4 -3 -2]]\n",
      "B: \n",
      " [[-1 -2 -3]\n",
      " [ 4  5  6]]\n",
      "C: \n",
      " [[ -6 -12 -18]\n",
      " [ 24  36  48]]\n"
     ]
    }
   ],
   "source": [
    "A = np.array([[1, 2, 3], [-4, -3, -2]])\n",
    "B = np.array([[-1, -2, -3], [4, 5, 6]])\n",
    "\n",
    "C = 3 * A + 9 * B\n",
    "\n",
    "print(f'A: \\n {A}')\n",
    "print(f'B: \\n {B}')\n",
    "print(f'C: \\n {C}')\n"
   ]
  },
  {
   "cell_type": "code",
   "execution_count": 33,
   "metadata": {},
   "outputs": [
    {
     "name": "stdout",
     "output_type": "stream",
     "text": [
      "A: \n",
      " [[  1   2   3]\n",
      " [ -4 -10  -2]]\n",
      "B: \n",
      " [[ 5  4]\n",
      " [-2  5]\n",
      " [-3  6]]\n",
      "C: \n",
      " [[ -8  32]\n",
      " [  6 -78]]\n"
     ]
    }
   ],
   "source": [
    "A = np.array([[1, 2, 3], [-4, -10, -2]])\n",
    "BT = np.array([[5, -2, -3], [4, 5, 6]])\n",
    "\n",
    "B = BT.T\n",
    "\n",
    "C = A @ B\n",
    "\n",
    "print(f'A: \\n {A}')\n",
    "print(f'B: \\n {B}')\n",
    "print(f'C: \\n {C}')\n"
   ]
  }
 ],
 "metadata": {
  "kernelspec": {
   "display_name": "Python 3.10.1 64-bit",
   "language": "python",
   "name": "python3"
  },
  "language_info": {
   "codemirror_mode": {
    "name": "ipython",
    "version": 3
   },
   "file_extension": ".py",
   "mimetype": "text/x-python",
   "name": "python",
   "nbconvert_exporter": "python",
   "pygments_lexer": "ipython3",
   "version": "3.10.1"
  },
  "orig_nbformat": 4,
  "vscode": {
   "interpreter": {
    "hash": "26de051ba29f2982a8de78e945f0abaf191376122a1563185a90213a26c5da77"
   }
  }
 },
 "nbformat": 4,
 "nbformat_minor": 2
}
