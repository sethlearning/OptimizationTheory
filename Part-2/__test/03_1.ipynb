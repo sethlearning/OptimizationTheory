{
 "cells": [
  {
   "cell_type": "code",
   "execution_count": 4,
   "metadata": {},
   "outputs": [],
   "source": [
    "import numpy as np\n",
    "import math"
   ]
  },
  {
   "cell_type": "code",
   "execution_count": 15,
   "metadata": {},
   "outputs": [
    {
     "name": "stdout",
     "output_type": "stream",
     "text": [
      "-65.35804976194714\n",
      "-65.36\n"
     ]
    }
   ],
   "source": [
    "a = 36*math.cos(9)-79*math.sin(9)\n",
    "print(a)\n",
    "print(np.round(a,2))"
   ]
  },
  {
   "cell_type": "code",
   "execution_count": 22,
   "metadata": {},
   "outputs": [
    {
     "name": "stdout",
     "output_type": "stream",
     "text": [
      "[ 3.38  -0.672]\n",
      "[ 0.98080325 -0.19499994] 0.9999999999999999\n"
     ]
    }
   ],
   "source": [
    "#  f(x,y) =2,7* x2 -6,9*х + y4+1\n",
    "g = lambda x, y: np.array([5.4*x - 6.9, 4*y**3])\n",
    "\n",
    "# def grad_desc(g, r, alpha=0.01, eps_g = 0.1, maxiters=100):\n",
    "#     iter = 0\n",
    "#     trace = [r]\n",
    "#     while np.linalg.norm(g(r[0], r[1])) > eps_g and iter < maxiters:\n",
    "#         r = r - alpha*g(r[0], r[1])\n",
    "#         trace.append(r)\n",
    "#         iter += 1\n",
    "#     return trace\n",
    "def grad_desc(g, r, alpha=0.01, eps_g = 0.1, maxiters=100):\n",
    "    r = r - alpha*g(r[0], r[1])\n",
    "    return r\n",
    "\n",
    "r0 = np.array([0.8, 0.7])\n",
    "x0, y0 = r0\n",
    "alpha = 1\n",
    "trace = grad_desc(g, r0, alpha)\n",
    "# trace = np.array(trace).T\n",
    "print(trace)\n",
    "\n",
    "d = np.linalg.norm(trace)\n",
    "r1 = trace / d\n",
    "print(r1, np.linalg.norm(r1))\n"
   ]
  }
 ],
 "metadata": {
  "kernelspec": {
   "display_name": "Python 3.10.1 64-bit",
   "language": "python",
   "name": "python3"
  },
  "language_info": {
   "codemirror_mode": {
    "name": "ipython",
    "version": 3
   },
   "file_extension": ".py",
   "mimetype": "text/x-python",
   "name": "python",
   "nbconvert_exporter": "python",
   "pygments_lexer": "ipython3",
   "version": "3.10.1"
  },
  "orig_nbformat": 4,
  "vscode": {
   "interpreter": {
    "hash": "26de051ba29f2982a8de78e945f0abaf191376122a1563185a90213a26c5da77"
   }
  }
 },
 "nbformat": 4,
 "nbformat_minor": 2
}
