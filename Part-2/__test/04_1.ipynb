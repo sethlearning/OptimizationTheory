{
 "cells": [
  {
   "cell_type": "code",
   "execution_count": 1,
   "metadata": {},
   "outputs": [],
   "source": [
    "import numpy as np"
   ]
  },
  {
   "cell_type": "code",
   "execution_count": 2,
   "metadata": {},
   "outputs": [
    {
     "name": "stdout",
     "output_type": "stream",
     "text": [
      "0.44932896411722156\n"
     ]
    }
   ],
   "source": [
    "# 4 - Распределение Пуассона\n",
    "# p = 4/5 * np.exp(-4/5)\n",
    "p = np.exp(-4/5)\n",
    "print(p)"
   ]
  },
  {
   "cell_type": "code",
   "execution_count": 3,
   "metadata": {},
   "outputs": [
    {
     "name": "stdout",
     "output_type": "stream",
     "text": [
      "0.18887560283756183\n"
     ]
    }
   ],
   "source": [
    "# 8 - Экспоненциальный закон\n",
    "p = np.exp(-15/9)\n",
    "print(p)"
   ]
  },
  {
   "cell_type": "code",
   "execution_count": 4,
   "metadata": {},
   "outputs": [
    {
     "name": "stdout",
     "output_type": "stream",
     "text": [
      "0.5435644431995963\n"
     ]
    }
   ],
   "source": [
    "# 9 - Энтропия в битах\n",
    "e = np.log2(8)/8 + np.log2(8/7)*7/8\n",
    "print(e)"
   ]
  },
  {
   "cell_type": "code",
   "execution_count": 5,
   "metadata": {},
   "outputs": [
    {
     "name": "stdout",
     "output_type": "stream",
     "text": [
      "1.5324768712979722\n",
      "0.5108256237659907\n"
     ]
    }
   ],
   "source": [
    "# 10 - BCEloss - бинарная кросс-энтропия\n",
    "e = np.log(10/8) + np.log(10/3) + np.log(10/9)\n",
    "print(e)\n",
    "print(e/3)"
   ]
  }
 ],
 "metadata": {
  "kernelspec": {
   "display_name": "Python 3.10.1 64-bit",
   "language": "python",
   "name": "python3"
  },
  "language_info": {
   "codemirror_mode": {
    "name": "ipython",
    "version": 3
   },
   "file_extension": ".py",
   "mimetype": "text/x-python",
   "name": "python",
   "nbconvert_exporter": "python",
   "pygments_lexer": "ipython3",
   "version": "3.10.7"
  },
  "orig_nbformat": 4,
  "vscode": {
   "interpreter": {
    "hash": "26de051ba29f2982a8de78e945f0abaf191376122a1563185a90213a26c5da77"
   }
  }
 },
 "nbformat": 4,
 "nbformat_minor": 2
}
