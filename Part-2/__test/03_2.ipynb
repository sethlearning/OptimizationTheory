{
 "cells": [
  {
   "cell_type": "code",
   "execution_count": 2,
   "metadata": {},
   "outputs": [],
   "source": [
    "import numpy as np\n",
    "import math"
   ]
  },
  {
   "cell_type": "code",
   "execution_count": 3,
   "metadata": {},
   "outputs": [
    {
     "name": "stdout",
     "output_type": "stream",
     "text": [
      "32.54421381837226\n",
      "32.54\n"
     ]
    }
   ],
   "source": [
    "a = 24*math.cos(6)-34*math.sin(6)\n",
    "print(a)\n",
    "print(np.round(a,2))"
   ]
  },
  {
   "cell_type": "code",
   "execution_count": 8,
   "metadata": {},
   "outputs": [
    {
     "name": "stdout",
     "output_type": "stream",
     "text": [
      "[-2.5    2.916] 3.8409707106407365\n",
      "[-0.65087713  0.75918309] 0.9999999999999998\n",
      "[0.75087713 0.14081691]\n"
     ]
    }
   ],
   "source": [
    "#  f(x,y) =2,7* x2 -6,9*х + y4+1\n",
    "# f(x,y) =9,0* x2 -4,3*х + y4+1\n",
    "g = lambda x, y: np.array([18*x - 4.3, 4*y**3])\n",
    "\n",
    "def grad_desc(g, r, alpha=0.01, eps_g = 0.1, maxiters=100):\n",
    "    # r = r - alpha*g(r[0], r[1])\n",
    "    # return r\n",
    "    return alpha*g(r[0], r[1])\n",
    "\n",
    "r0 = np.array([0.1, 0.9])\n",
    "x0, y0 = r0\n",
    "alpha = 1\n",
    "step = grad_desc(g, r0, alpha)\n",
    "print(step, np.linalg.norm(step))\n",
    "\n",
    "d = np.linalg.norm(step)\n",
    "r1 = step / d\n",
    "print(r1, np.linalg.norm(r1))\n",
    "\n",
    "print(r0 - r1)\n"
   ]
  }
 ],
 "metadata": {
  "kernelspec": {
   "display_name": "Python 3.10.1 64-bit",
   "language": "python",
   "name": "python3"
  },
  "language_info": {
   "codemirror_mode": {
    "name": "ipython",
    "version": 3
   },
   "file_extension": ".py",
   "mimetype": "text/x-python",
   "name": "python",
   "nbconvert_exporter": "python",
   "pygments_lexer": "ipython3",
   "version": "3.10.1"
  },
  "orig_nbformat": 4,
  "vscode": {
   "interpreter": {
    "hash": "26de051ba29f2982a8de78e945f0abaf191376122a1563185a90213a26c5da77"
   }
  }
 },
 "nbformat": 4,
 "nbformat_minor": 2
}
