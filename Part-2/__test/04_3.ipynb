{
 "cells": [
  {
   "cell_type": "code",
   "execution_count": 1,
   "metadata": {},
   "outputs": [],
   "source": [
    "import numpy as np"
   ]
  },
  {
   "cell_type": "code",
   "execution_count": 2,
   "metadata": {},
   "outputs": [
    {
     "name": "stdout",
     "output_type": "stream",
     "text": [
      "0.5488116360940265\n"
     ]
    }
   ],
   "source": [
    "# 4 - Распределение Пуассона\n",
    "p = np.exp(-3/5)\n",
    "print(p)"
   ]
  },
  {
   "cell_type": "code",
   "execution_count": 4,
   "metadata": {},
   "outputs": [
    {
     "name": "stdout",
     "output_type": "stream",
     "text": [
      "0.44932896411722156\n",
      "0.44932896411722156\n"
     ]
    }
   ],
   "source": [
    "# 8 - Экспоненциальный закон\n",
    "p = np.exp(-12/15)\n",
    "p2 = np.exp(-4/5)\n",
    "print(p)\n",
    "print(p2)"
   ]
  },
  {
   "cell_type": "code",
   "execution_count": 5,
   "metadata": {},
   "outputs": [
    {
     "name": "stdout",
     "output_type": "stream",
     "text": [
      "0.2974722489192896\n"
     ]
    }
   ],
   "source": [
    "# 9 - Энтропия в битах\n",
    "e = np.log2(19)/19 + np.log2(19/18)*18/19\n",
    "print(e)"
   ]
  },
  {
   "cell_type": "code",
   "execution_count": 6,
   "metadata": {},
   "outputs": [
    {
     "name": "stdout",
     "output_type": "stream",
     "text": [
      "0.9885043611621707\n",
      "0.32950145372072354\n"
     ]
    }
   ],
   "source": [
    "# 10 - BCEloss - бинарная кросс-энтропия\n",
    "e = np.log2(1/0.8) + np.log2(1/0.9) + np.log2(1/0.7)\n",
    "print(e)\n",
    "print(e/3)"
   ]
  }
 ],
 "metadata": {
  "kernelspec": {
   "display_name": "Python 3.10.1 64-bit",
   "language": "python",
   "name": "python3"
  },
  "language_info": {
   "codemirror_mode": {
    "name": "ipython",
    "version": 3
   },
   "file_extension": ".py",
   "mimetype": "text/x-python",
   "name": "python",
   "nbconvert_exporter": "python",
   "pygments_lexer": "ipython3",
   "version": "3.10.7"
  },
  "orig_nbformat": 4,
  "vscode": {
   "interpreter": {
    "hash": "26de051ba29f2982a8de78e945f0abaf191376122a1563185a90213a26c5da77"
   }
  }
 },
 "nbformat": 4,
 "nbformat_minor": 2
}
