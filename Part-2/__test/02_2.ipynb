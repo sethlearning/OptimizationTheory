{
 "cells": [
  {
   "cell_type": "code",
   "execution_count": 2,
   "metadata": {},
   "outputs": [],
   "source": [
    "import numpy as np"
   ]
  },
  {
   "cell_type": "code",
   "execution_count": 3,
   "metadata": {},
   "outputs": [
    {
     "name": "stdout",
     "output_type": "stream",
     "text": [
      "12\n",
      "6\n",
      "8\n",
      "12.0\n",
      "6.0\n",
      "8.0\n"
     ]
    }
   ],
   "source": [
    "# 2 - наименьшее манхэттенское расстояние\n",
    "\n",
    "# a=( -3; -2),  b=( 8; -1), c=( 1; 0) \n",
    "a = np.array([-3, -2])\n",
    "b = np.array([8, -1])\n",
    "c = np.array([1, 0])\n",
    "\n",
    "\n",
    "print(np.sum(np.abs(a - b)))\n",
    "print(np.sum(np.abs(a - c)))\n",
    "print(np.sum(np.abs(b - c)))\n",
    "\n",
    "print(np.linalg.norm(a - b, ord = 1))\n",
    "print(np.linalg.norm(a - c, ord = 1))\n",
    "print(np.linalg.norm(b - c, ord = 1))"
   ]
  },
  {
   "cell_type": "code",
   "execution_count": 4,
   "metadata": {},
   "outputs": [
    {
     "name": "stdout",
     "output_type": "stream",
     "text": [
      "11.0\n",
      "8.54400374531753\n",
      "8.0\n"
     ]
    }
   ],
   "source": [
    "# 3 - наибольшая норма вектора: единичная, квадратичная (евклидова), бесконечная\n",
    "\n",
    "# a=( -3; 8)\n",
    "\n",
    "a = np.array([-3, 8])\n",
    "\n",
    "print(np.linalg.norm(a, ord=1))\n",
    "print(np.linalg.norm(a, ord=2))\n",
    "print(np.linalg.norm(a, ord=np.Inf))"
   ]
  },
  {
   "cell_type": "code",
   "execution_count": 5,
   "metadata": {},
   "outputs": [
    {
     "data": {
      "text/plain": [
       "0.16492681813275975"
      ]
     },
     "execution_count": 5,
     "metadata": {},
     "output_type": "execute_result"
    }
   ],
   "source": [
    "# 5 - косинус ушла между векторами\n",
    "\n",
    "#  a=( -3,2; -2; 5), b=( 3,4; -3; 2)\n",
    "\n",
    "a = np.array([-3.2, -2, 5])\n",
    "b = np.array([3.4, -3, 2])\n",
    "\n",
    "# np.arccos(a @ a / np.linalg.norm(a) / np.linalg.norm(b)) * 180 / np.pi\n",
    "\n",
    "a @ b / np.linalg.norm(a) / np.linalg.norm(b)"
   ]
  },
  {
   "cell_type": "code",
   "execution_count": 17,
   "metadata": {},
   "outputs": [
    {
     "name": "stdout",
     "output_type": "stream",
     "text": [
      "[21.8  5.   4. ]\n",
      "22.720915474513784\n",
      "516.24\n"
     ]
    }
   ],
   "source": [
    "# 6 - квадрат длины вектора с\n",
    "\n",
    "# a=( 3,4; -2; 5), b=( -5,0; -3; 2)\n",
    "\n",
    "a = np.array([3.4, -2, 5])\n",
    "b = np.array([-5.0, -3, 2])\n",
    "\n",
    "c = 2*a - 3*b\n",
    "\n",
    "print(c)\n",
    "print(np.linalg.norm(c))\n",
    "print(c[0]**2 + c[1]**2 + c[2]**2)"
   ]
  },
  {
   "cell_type": "code",
   "execution_count": 8,
   "metadata": {},
   "outputs": [
    {
     "name": "stdout",
     "output_type": "stream",
     "text": [
      "AB: 0.75\n",
      "AC: 0.79\n"
     ]
    }
   ],
   "source": [
    "# 7 - наибольшая близость профиля покупателя: ядро и евклидово пространство\n",
    "\n",
    "# bigger is better\n",
    "# a=(3: 11, 5: 2, 11: 25, 20: 10)\n",
    "# b=(3: 9, 7: 2, 10: 15, 20: 8)\n",
    "# c=(3: 21, 6: 2, 11: 5, 20: 17)\n",
    "\n",
    "from cmath import exp\n",
    "\n",
    "\n",
    "a = np.array([0, 0, 0, 11, 0, 2, 0, 0, 0, 0, 0, 25, 0, 0, 0, 0, 0, 0, 0, 0, 10])\n",
    "b = np.array([0, 0, 0, 9, 0, 0, 0, 2, 0, 0, 15, 0, 0, 0, 0, 0, 0, 0, 0, 0, 8])\n",
    "c = np.array([0, 0, 0, 21, 0, 0, 2, 0, 0, 0, 0, 5, 0, 0, 0, 0, 0, 0, 0, 0, 17])\n",
    "\n",
    "# sim(x, y) = ker(dist(x,y)) = exp(-0.01*dist(x,y)).\n",
    "\n",
    "dist_ab = np.linalg.norm(a - b, ord=2)\n",
    "dist_ac = np.linalg.norm(a - c, ord=2)\n",
    "\n",
    "print(f'AB: {round(np.exp(-0.01 * dist_ab), 2)}')\n",
    "print(f'AC: {round(np.exp(-0.01 * dist_ac), 2)}')\n"
   ]
  },
  {
   "cell_type": "code",
   "execution_count": 9,
   "metadata": {},
   "outputs": [
    {
     "name": "stdout",
     "output_type": "stream",
     "text": [
      "0.3\n",
      "0.62\n",
      "[[1.   0.3  0.62]\n",
      " [0.3  1.   0.6 ]\n",
      " [0.62 0.6  1.  ]]\n"
     ]
    }
   ],
   "source": [
    "# 8 - наибольшая близость профиля покупателя - cosine-similarity\n",
    "\n",
    "# a=(3: 11, 5: 2, 11: 25, 20: 10)\n",
    "# b=(3: 6, 7: 2, 10: 15, 20: 10)\n",
    "# c=(3: 21, 6: 2, 11: 5, 20: 26) \n",
    "\n",
    "a = np.array([0, 0, 0, 11, 0, 2, 0, 0, 0, 0, 0, 25, 0, 0, 0, 0, 0, 0, 0, 0, 10])\n",
    "b = np.array([0, 0, 0, 6, 0, 0, 0, 2, 0, 0, 15, 0, 0, 0, 0, 0, 0, 0, 0, 0, 10])\n",
    "c = np.array([0, 0, 0, 21, 0, 0, 2, 0, 0, 0, 0, 5, 0, 0, 0, 0, 0, 0, 0, 0, 26])\n",
    "# sim(x, y) = cos(x,y).\n",
    "\n",
    "cos_ab = a @ b / np.linalg.norm(a, ord = 2) / np.linalg.norm(b, ord=2)\n",
    "cos_ac = a @ c / np.linalg.norm(a, ord = 2) / np.linalg.norm(c, ord=2)\n",
    "\n",
    "print(round(cos_ab, 2))\n",
    "print(round(cos_ac, 2))\n",
    "\n",
    "from sklearn.metrics.pairwise import cosine_similarity as cos_sim\n",
    "users = np.vstack([a, b, c])\n",
    "print(np.round(cos_sim(users), 2))\n"
   ]
  },
  {
   "cell_type": "code",
   "execution_count": 13,
   "metadata": {},
   "outputs": [
    {
     "name": "stdout",
     "output_type": "stream",
     "text": [
      "[ 0.6 -0.5  0.6  3.9]\n",
      "[-0.6  0.5  0.4  0.1]\n",
      "MSE = 0.19499999999999998\n",
      "MSE = 0.19499999999999998\n",
      "MSE = 0.19\n"
     ]
    }
   ],
   "source": [
    "# 9 - MSE\n",
    "\n",
    "# (-1.0, 0.0), (0.0, 0.0), (1.0, 1.0), (2.0, 4.0).\n",
    "# (-1.0, 0.0), (0.0, 0.0), (1.0, 1.0), (2.0, 4.0).\n",
    "# ym(x)= a0 + a1*x2\n",
    "# ym(x)= a0 + a1*x2\n",
    "# (a0, a1) = (-0,5; 1,1).\n",
    "\n",
    "x_list = np.array([-1, 0, 1, 2])\n",
    "y_list = np.array([0, 0, 1, 4])\n",
    "\n",
    "coeffs = np.array([-0.5, 1.1])\n",
    "\n",
    "# def f(x):\n",
    "#     return coeffs[0] + coeffs[1] * x**2\n",
    "\n",
    "y_m = lambda x: coeffs @ np.array([np.ones_like(x), x**2])\n",
    "\n",
    "y_model = y_m(x_list)\n",
    "\n",
    "# print(np.array([np.ones_like(x_list), x_list**2]))\n",
    "print(y_model)\n",
    "\n",
    "err = y_list - y_model\n",
    "print(err)\n",
    "\n",
    "from sklearn.metrics import mean_squared_error\n",
    "print(f'MSE = {np.mean(err * err)}')\n",
    "\n",
    "print(f'MSE = {mean_squared_error(y_list, y_model)}')\n",
    "print(f'MSE = {np.round(mean_squared_error(y_list, y_model),2 )}')"
   ]
  },
  {
   "cell_type": "code",
   "execution_count": 15,
   "metadata": {},
   "outputs": [
    {
     "name": "stdout",
     "output_type": "stream",
     "text": [
      "[ 0.9 -0.1  0.9  3.9]\n",
      "[-0.9  0.1  0.1  0.1]\n",
      "MAE = 0.30000000000000004\n",
      "MAE = 0.30000000000000004\n",
      "MAE = 0.3\n"
     ]
    }
   ],
   "source": [
    "# 10 - MAE\n",
    "\n",
    "# (-1.0, 0.0), (0.0, 0.0), (1.0, 1.0), (2.0, 4.0).\n",
    "# (-1.0, 0.0), (0.0, 0.0), (1.0, 1.0), (2.0, 4.0).\n",
    "# ym(x)= a0 + a1*x2\n",
    "# ym(x)= a0 + a1*x2.\n",
    "# (a0, a1) = (0,1; 1,1).\n",
    "# (a0, a1) = (-0,1; 1).\n",
    "\n",
    "x_list = np.array([-1, 0, 1, 2])\n",
    "y_list = np.array([0, 0, 1, 4])\n",
    "\n",
    "coeffs = np.array([-0.1, 1])\n",
    "\n",
    "# def f(x):\n",
    "#     return coeffs[0] + coeffs[1] * x**2\n",
    "\n",
    "y_m = lambda x: coeffs @ np.array([np.ones_like(x), x**2])\n",
    "\n",
    "y_model = y_m(x_list)\n",
    "\n",
    "# print(np.array([np.ones_like(x_list), x_list**2]))\n",
    "print(y_model)\n",
    "\n",
    "err = y_list - y_model\n",
    "print(err)\n",
    "\n",
    "print(f'MAE = {np.mean(np.abs(err))}')\n",
    "\n",
    "\n",
    "from sklearn.metrics import mean_absolute_error\n",
    "print(f'MAE = {mean_absolute_error(y_list, y_model)}')\n",
    "print(f'MAE = {np.round(mean_absolute_error(y_list, y_model), 2)}')"
   ]
  }
 ],
 "metadata": {
  "kernelspec": {
   "display_name": "Python 3.10.1 64-bit",
   "language": "python",
   "name": "python3"
  },
  "language_info": {
   "codemirror_mode": {
    "name": "ipython",
    "version": 3
   },
   "file_extension": ".py",
   "mimetype": "text/x-python",
   "name": "python",
   "nbconvert_exporter": "python",
   "pygments_lexer": "ipython3",
   "version": "3.10.1"
  },
  "orig_nbformat": 4,
  "vscode": {
   "interpreter": {
    "hash": "26de051ba29f2982a8de78e945f0abaf191376122a1563185a90213a26c5da77"
   }
  }
 },
 "nbformat": 4,
 "nbformat_minor": 2
}
