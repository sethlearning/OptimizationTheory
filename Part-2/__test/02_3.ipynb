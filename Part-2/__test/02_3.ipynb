{
 "cells": [
  {
   "cell_type": "code",
   "execution_count": 1,
   "metadata": {},
   "outputs": [],
   "source": [
    "import numpy as np"
   ]
  },
  {
   "cell_type": "code",
   "execution_count": 2,
   "metadata": {},
   "outputs": [
    {
     "name": "stdout",
     "output_type": "stream",
     "text": [
      "10\n",
      "8\n",
      "4\n",
      "10.0\n",
      "8.0\n",
      "4.0\n"
     ]
    }
   ],
   "source": [
    "# 2 - наименьшее манхэттенское расстояние\n",
    "\n",
    "# a=( -5; -2),  b=( 4; -1), c=( 1; 0) \n",
    "a = np.array([-5, -2])\n",
    "b = np.array([4, -1])\n",
    "c = np.array([1, 0])\n",
    "\n",
    "\n",
    "print(np.sum(np.abs(a - b)))\n",
    "print(np.sum(np.abs(a - c)))\n",
    "print(np.sum(np.abs(b - c)))\n",
    "\n",
    "print(np.linalg.norm(a - b, ord = 1))\n",
    "print(np.linalg.norm(a - c, ord = 1))\n",
    "print(np.linalg.norm(b - c, ord = 1))"
   ]
  },
  {
   "cell_type": "code",
   "execution_count": 3,
   "metadata": {},
   "outputs": [
    {
     "name": "stdout",
     "output_type": "stream",
     "text": [
      "10.0\n",
      "9.055385138137417\n",
      "9.0\n"
     ]
    }
   ],
   "source": [
    "# 3 - наибольшая норма вектора: единичная, квадратичная (евклидова), бесконечная\n",
    "\n",
    "# a=( 1; 9)\n",
    "\n",
    "a = np.array([1, 9])\n",
    "\n",
    "print(np.linalg.norm(a, ord=1))\n",
    "print(np.linalg.norm(a, ord=2))\n",
    "print(np.linalg.norm(a, ord=np.Inf))"
   ]
  },
  {
   "cell_type": "code",
   "execution_count": 5,
   "metadata": {},
   "outputs": [
    {
     "data": {
      "text/plain": [
       "0.7136150486534852"
      ]
     },
     "execution_count": 5,
     "metadata": {},
     "output_type": "execute_result"
    }
   ],
   "source": [
    "# 5 - косинус ушла между векторами\n",
    "\n",
    "# a=( -0,6; -2; 5), b=( 1,5; -3; 2)\n",
    "\n",
    "a = np.array([-0.6, -2, 5])\n",
    "b = np.array([1.5, -3, 2])\n",
    "\n",
    "# np.arccos(a @ a / np.linalg.norm(a) / np.linalg.norm(b)) * 180 / np.pi\n",
    "\n",
    "a @ b / np.linalg.norm(a) / np.linalg.norm(b)"
   ]
  },
  {
   "cell_type": "code",
   "execution_count": 10,
   "metadata": {},
   "outputs": [
    {
     "name": "stdout",
     "output_type": "stream",
     "text": [
      "[-16.6   5.    4. ]\n",
      "17.79213309302738\n",
      "316.56000000000006\n",
      "316.6\n"
     ]
    }
   ],
   "source": [
    "# 6 - квадрат длины вектора с\n",
    "\n",
    "# a=( -3,2; -2; 5), b=( 3,4; -3; 2)\n",
    "\n",
    "a = np.array([-3.2, -2, 5])\n",
    "b = np.array([3.4, -3, 2])\n",
    "\n",
    "c = 2*a - 3*b\n",
    "\n",
    "print(c)\n",
    "print(np.linalg.norm(c))\n",
    "print(c[0]**2 + c[1]**2 + c[2]**2)\n",
    "print(np.round(c[0]**2 + c[1]**2 + c[2]**2, 1))"
   ]
  },
  {
   "cell_type": "code",
   "execution_count": 12,
   "metadata": {},
   "outputs": [
    {
     "name": "stdout",
     "output_type": "stream",
     "text": [
      "AB: 0.74\n",
      "AC: 0.79\n"
     ]
    }
   ],
   "source": [
    "# 7 - наибольшая близость профиля покупателя: ядро и евклидово пространство\n",
    "\n",
    "# bigger is better\n",
    "# a=(3: 11, 5: 2, 11: 25, 20: 10)\n",
    "# b=(3: 9, 7: 2, 10: 15, 20: 6)\n",
    "# c=(3: 21, 6: 2, 11: 5, 20: 16)\n",
    "\n",
    "from cmath import exp\n",
    "\n",
    "\n",
    "a = np.array([0, 0, 0, 11, 0, 2, 0, 0, 0, 0, 0, 25, 0, 0, 0, 0, 0, 0, 0, 0, 10])\n",
    "b = np.array([0, 0, 0, 9, 0, 0, 0, 2, 0, 0, 15, 0, 0, 0, 0, 0, 0, 0, 0, 0, 6])\n",
    "c = np.array([0, 0, 0, 21, 0, 0, 2, 0, 0, 0, 0, 5, 0, 0, 0, 0, 0, 0, 0, 0, 16])\n",
    "\n",
    "# sim(x, y) = ker(dist(x,y)) = exp(-0.01*dist(x,y)).\n",
    "\n",
    "dist_ab = np.linalg.norm(a - b, ord=2)\n",
    "dist_ac = np.linalg.norm(a - c, ord=2)\n",
    "\n",
    "print(f'AB: {round(np.exp(-0.01 * dist_ab), 2)}')\n",
    "print(f'AC: {round(np.exp(-0.01 * dist_ac), 2)}')\n"
   ]
  },
  {
   "cell_type": "code",
   "execution_count": 14,
   "metadata": {},
   "outputs": [
    {
     "name": "stdout",
     "output_type": "stream",
     "text": [
      "0.32\n",
      "0.61\n",
      "[[1.   0.32 0.61]\n",
      " [0.32 1.   0.61]\n",
      " [0.61 0.61 1.  ]]\n"
     ]
    }
   ],
   "source": [
    "# 8 - наибольшая близость профиля покупателя - cosine-similarity\n",
    "\n",
    "# a=(3: 11, 5: 2, 11: 25, 20: 10)\n",
    "# b=(3: 8, 7: 2, 10: 15, 20: 9)\n",
    "# c=(3: 21, 6: 2, 11: 5, 20: 30)\n",
    "\n",
    "a = np.array([0, 0, 0, 11, 0, 2, 0, 0, 0, 0, 0, 25, 0, 0, 0, 0, 0, 0, 0, 0, 10])\n",
    "b = np.array([0, 0, 0, 8, 0, 0, 0, 2, 0, 0, 15, 0, 0, 0, 0, 0, 0, 0, 0, 0, 9])\n",
    "c = np.array([0, 0, 0, 21, 0, 0, 2, 0, 0, 0, 0, 5, 0, 0, 0, 0, 0, 0, 0, 0, 30])\n",
    "# sim(x, y) = cos(x,y).\n",
    "\n",
    "cos_ab = a @ b / np.linalg.norm(a, ord = 2) / np.linalg.norm(b, ord=2)\n",
    "cos_ac = a @ c / np.linalg.norm(a, ord = 2) / np.linalg.norm(c, ord=2)\n",
    "\n",
    "print(round(cos_ab, 2))\n",
    "print(round(cos_ac, 2))\n",
    "\n",
    "from sklearn.metrics.pairwise import cosine_similarity as cos_sim\n",
    "users = np.vstack([a, b, c])\n",
    "print(np.round(cos_sim(users), 2))\n"
   ]
  },
  {
   "cell_type": "code",
   "execution_count": 16,
   "metadata": {},
   "outputs": [
    {
     "name": "stdout",
     "output_type": "stream",
     "text": [
      "[ 0.9 -0.1  0.9  3.9]\n",
      "[-0.9  0.1  0.1  0.1]\n",
      "MSE = 0.21000000000000002\n",
      "MSE = 0.21000000000000002\n",
      "MSE = 0.21\n"
     ]
    }
   ],
   "source": [
    "# 9 - MSE\n",
    "\n",
    "# (-1.0, 0.0), (0.0, 0.0), (1.0, 1.0), (2.0, 4.0).\n",
    "# (-1.0, 0.0), (0.0, 0.0), (1.0, 1.0), (2.0, 4.0).\n",
    "# (-1.0, 0.0), (0.0, 0.0), (1.0, 1.0), (2.0, 4.0).\n",
    "# ym(x)= a0 + a1*x2\n",
    "# ym(x)= a0 + a1*x2\n",
    "# ym(x)= a0 + a1*x2\n",
    "# (a0, a1) = (-0,1; 1).\n",
    "\n",
    "x_list = np.array([-1, 0, 1, 2])\n",
    "y_list = np.array([0, 0, 1, 4])\n",
    "\n",
    "coeffs = np.array([-0.1, 1])\n",
    "\n",
    "# def f(x):\n",
    "#     return coeffs[0] + coeffs[1] * x**2\n",
    "\n",
    "y_m = lambda x: coeffs @ np.array([np.ones_like(x), x**2])\n",
    "\n",
    "y_model = y_m(x_list)\n",
    "\n",
    "# print(np.array([np.ones_like(x_list), x_list**2]))\n",
    "print(y_model)\n",
    "\n",
    "err = y_list - y_model\n",
    "print(err)\n",
    "\n",
    "from sklearn.metrics import mean_squared_error\n",
    "print(f'MSE = {np.mean(err * err)}')\n",
    "\n",
    "print(f'MSE = {mean_squared_error(y_list, y_model)}')\n",
    "print(f'MSE = {np.round(mean_squared_error(y_list, y_model),2 )}')"
   ]
  },
  {
   "cell_type": "code",
   "execution_count": 18,
   "metadata": {},
   "outputs": [
    {
     "name": "stdout",
     "output_type": "stream",
     "text": [
      "[ 0.6 -0.5  0.6  3.9]\n",
      "[-0.6  0.5  0.4  0.1]\n",
      "MAE = 0.3999999999999999\n",
      "MAE = 0.3999999999999999\n",
      "MAE = 0.4\n"
     ]
    }
   ],
   "source": [
    "# 10 - MAE\n",
    "\n",
    "# (-1.0, 0.0), (0.0, 0.0), (1.0, 1.0), (2.0, 4.0).\n",
    "# (-1.0, 0.0), (0.0, 0.0), (1.0, 1.0), (2.0, 4.0).\n",
    "# (-1.0, 0.0), (0.0, 0.0), (1.0, 1.0), (2.0, 4.0).\n",
    "# ym(x)= a0 + a1*x2\n",
    "# ym(x)= a0 + a1*x2.\n",
    "# ym(x)= a0 + a1*x2.\n",
    "# (a0, a1) = (-0,5; 1,1).\n",
    "\n",
    "x_list = np.array([-1, 0, 1, 2])\n",
    "y_list = np.array([0, 0, 1, 4])\n",
    "\n",
    "coeffs = np.array([-0.5, 1.1])\n",
    "\n",
    "# def f(x):\n",
    "#     return coeffs[0] + coeffs[1] * x**2\n",
    "\n",
    "y_m = lambda x: coeffs @ np.array([np.ones_like(x), x**2])\n",
    "\n",
    "y_model = y_m(x_list)\n",
    "\n",
    "# print(np.array([np.ones_like(x_list), x_list**2]))\n",
    "print(y_model)\n",
    "\n",
    "err = y_list - y_model\n",
    "print(err)\n",
    "\n",
    "print(f'MAE = {np.mean(np.abs(err))}')\n",
    "\n",
    "\n",
    "from sklearn.metrics import mean_absolute_error\n",
    "print(f'MAE = {mean_absolute_error(y_list, y_model)}')\n",
    "print(f'MAE = {np.round(mean_absolute_error(y_list, y_model), 2)}')"
   ]
  }
 ],
 "metadata": {
  "kernelspec": {
   "display_name": "Python 3.10.1 64-bit",
   "language": "python",
   "name": "python3"
  },
  "language_info": {
   "codemirror_mode": {
    "name": "ipython",
    "version": 3
   },
   "file_extension": ".py",
   "mimetype": "text/x-python",
   "name": "python",
   "nbconvert_exporter": "python",
   "pygments_lexer": "ipython3",
   "version": "3.10.1"
  },
  "orig_nbformat": 4,
  "vscode": {
   "interpreter": {
    "hash": "26de051ba29f2982a8de78e945f0abaf191376122a1563185a90213a26c5da77"
   }
  }
 },
 "nbformat": 4,
 "nbformat_minor": 2
}
