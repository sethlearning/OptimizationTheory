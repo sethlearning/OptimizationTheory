{
 "cells": [
  {
   "cell_type": "code",
   "execution_count": 1,
   "metadata": {},
   "outputs": [],
   "source": [
    "import numpy as np\n",
    "import math"
   ]
  },
  {
   "cell_type": "code",
   "execution_count": 2,
   "metadata": {},
   "outputs": [
    {
     "name": "stdout",
     "output_type": "stream",
     "text": [
      "-65.9962123725253\n",
      "-66.0\n"
     ]
    }
   ],
   "source": [
    "a = 32*math.cos(8)-62*math.sin(8)\n",
    "print(a)\n",
    "print(np.round(a,2))"
   ]
  },
  {
   "cell_type": "code",
   "execution_count": 3,
   "metadata": {},
   "outputs": [
    {
     "name": "stdout",
     "output_type": "stream",
     "text": [
      "[-3.64   0.032] 3.6401406566230374\n",
      "[-0.99996136  0.00879087] 0.9999999999999999\n",
      "[1.39996136 0.19120913]\n"
     ]
    }
   ],
   "source": [
    "#  f(x,y) =2,7* x2 -6,9*х + y4+1\n",
    "# f(x,y) =9,0* x2 -4,3*х + y4+1\n",
    "# f(x,y) =5,2* x2 -7,8*х + y4+1\n",
    "g = lambda x, y: np.array([10.4*x - 7.8, 4*y**3])\n",
    "\n",
    "def grad_desc(g, r, alpha=0.01, eps_g = 0.1, maxiters=100):\n",
    "    # r = r - alpha*g(r[0], r[1])\n",
    "    # return r\n",
    "    return alpha*g(r[0], r[1])\n",
    "\n",
    "r0 = np.array([0.4, 0.2])\n",
    "x0, y0 = r0\n",
    "alpha = 1\n",
    "step = grad_desc(g, r0, alpha)\n",
    "print(step, np.linalg.norm(step))\n",
    "\n",
    "d = np.linalg.norm(step)\n",
    "r1 = step / d\n",
    "print(r1, np.linalg.norm(r1))\n",
    "\n",
    "print(r0 - r1)\n"
   ]
  }
 ],
 "metadata": {
  "kernelspec": {
   "display_name": "Python 3.10.1 64-bit",
   "language": "python",
   "name": "python3"
  },
  "language_info": {
   "codemirror_mode": {
    "name": "ipython",
    "version": 3
   },
   "file_extension": ".py",
   "mimetype": "text/x-python",
   "name": "python",
   "nbconvert_exporter": "python",
   "pygments_lexer": "ipython3",
   "version": "3.10.1"
  },
  "orig_nbformat": 4,
  "vscode": {
   "interpreter": {
    "hash": "26de051ba29f2982a8de78e945f0abaf191376122a1563185a90213a26c5da77"
   }
  }
 },
 "nbformat": 4,
 "nbformat_minor": 2
}
