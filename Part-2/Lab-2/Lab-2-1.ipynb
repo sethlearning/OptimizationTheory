{
 "cells": [
  {
   "cell_type": "markdown",
   "metadata": {},
   "source": [
    "2.2.1. Вычисление ошибки выхода линейной модели (VPL)\n",
    "\n",
    "Тип работы:  Индивидуальная работа\n",
    "\n",
    "**ЗАДАНИЕ**. Реализовать функцию MSE_MAE(w, X, y_true) - расчета критериев потерь MSE, MAE для линейной модели\n",
    "\n",
    "y = X * w\n",
    "\n",
    "**Вход**:\n",
    "\n",
    "`y_test` = numpy.array(), вектор целевого выхода линейного нейрона для тестовой выборки; shape=(n, ), n - объем тестовой выборки;\n",
    "\n",
    "`w` = numpy.array() - вектор весов нейрона, размером shape=(k,), k - количество входов в нейрон;\n",
    "`X_test` = numpy.array(), тестовая матрица входов нейрона; shape=(n, k), n - объем тестовой выборки;.\n",
    "\n",
    "**Выход**:\n",
    "\n",
    "`MSE`, `MAE` - средний квадрат ошибки и средняя абсолютная ошибка нейрона на тестовой выборке; \n",
    "\n",
    "**Пример**:\n",
    "\n",
    "Пусть мы имеем следующую тестовую выборку из трех объектов:\n",
    "\n",
    "`y_test = numpy.array([-2, 0, 0])`\n",
    "\n",
    "`X_test = numpy.array([[0,1], [1,0], [1,1]])`\n",
    "\n",
    "При таком заданном векторе значений коэффициентов модели:\n",
    "\n",
    "`w = numpy.array([2, -3]) `\n",
    "\n",
    "получим:\n",
    "\n",
    "`y = X_test * w =  (-3, 2, -1)`\n",
    "\n",
    "`err = y_test - y = (1, -2, 1)`\n",
    "\n",
    "`MSE = (1 + 4 + 1)/3`\n",
    "\n",
    "`MAE = (1 + 2 + 1)/3`\n",
    "\n",
    "тогда при обращении `MSE_MAE(w, X_test, y_test)` будем иметь следующий выход:\n",
    "\n",
    "`(2.0, 1.3333333333333333)`"
   ]
  },
  {
   "cell_type": "code",
   "execution_count": 9,
   "metadata": {},
   "outputs": [
    {
     "data": {
      "text/plain": [
       "(2.0, 1.3333333333333333)"
      ]
     },
     "execution_count": 9,
     "metadata": {},
     "output_type": "execute_result"
    }
   ],
   "source": [
    "import numpy as np\n",
    "\n",
    "def MSE_MAE(w, X, y_true):\n",
    "    \"\"\"\n",
    "    Вход:\n",
    "    y_test = numpy.array(), вектор целевого выхода линейного нейрона для тестовой выборки; shape=(n, ), n - объем тестовой выборки;\n",
    "    w = numpy.array() - вектор весов нейрона, размером shape=(k,), k - количество входов в нейрон;\n",
    "    X_test = numpy.array(), тестовая матрица входов нейрона; shape=(n, k), n - объем тестовой выборки;.\n",
    "    \n",
    "    Выход:\n",
    "    MSE, MAE - средний квадрат ошибки и средняя абсолютная ошибка нейрона на тестовой выборке; \n",
    "    \"\"\"\n",
    "    y = X @ w\n",
    "    err = y_true - y\n",
    "    \n",
    "    MSE = np.mean(err * err)\n",
    "    MAE = np.mean(np.abs(err))\n",
    "    return MSE, MAE\n",
    "\n",
    "\n",
    "y_test = np.array([-2, 0, 0])\n",
    "X_test = np.array([[0,1], [1,0], [1,1]])\n",
    "w = np.array([2, -3]) \n",
    "\n",
    "\n",
    "MSE_MAE(w, X_test, y_test)\n"
   ]
  }
 ],
 "metadata": {
  "kernelspec": {
   "display_name": "Python 3.10.1 64-bit",
   "language": "python",
   "name": "python3"
  },
  "language_info": {
   "codemirror_mode": {
    "name": "ipython",
    "version": 3
   },
   "file_extension": ".py",
   "mimetype": "text/x-python",
   "name": "python",
   "nbconvert_exporter": "python",
   "pygments_lexer": "ipython3",
   "version": "3.10.1"
  },
  "orig_nbformat": 4,
  "vscode": {
   "interpreter": {
    "hash": "26de051ba29f2982a8de78e945f0abaf191376122a1563185a90213a26c5da77"
   }
  }
 },
 "nbformat": 4,
 "nbformat_minor": 2
}
