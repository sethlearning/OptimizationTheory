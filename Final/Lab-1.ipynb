{
 "cells": [
  {
   "attachments": {},
   "cell_type": "markdown",
   "metadata": {},
   "source": [
    "## ЭКЗАМЕНАЦИОННОЕ ЗАДАНИЕ-2019\n",
    "\n",
    "Тип работы:  Индивидуальная работа\n",
    "\n",
    "Даны исходные данные (растровое представление цифр). Требуется подобрать параметры нейросети и параметры обучения нейросети, чтобы обеспечить определенную точность на контрольных данных.\n",
    "\n",
    "Для этого необходимо создать функцию:\n",
    "\n",
    "`def build_learn_perceptron(X_train, y_train)` - функция создания и обучения нейросети классификатора с использованием обучающей выборки (X_train, y_train);\n",
    "так, чтобы точность классификации (accuracy) была бы выше заданной точности. \n",
    "\n",
    "`X_train` - в одной строке содержится векторизованное изображение цифры, например, черно-белое:\n",
    "\n",
    "0;0;0;0;0;0;0;0;0;0;0;0;0;0;0;0;1;1;1;0;0;0;1;0;0;1;1;0;0;0;0;1;1;0;0;0;0;1;1;0;0;0;0;1;1;0;0;0;0;0;1;1;1;1;1;1;0;0;0;0;0;0;0;0;0;0;0;0;0;0\n",
    "\n",
    "или серое:\n",
    "\n",
    "0;0;0;0;0;0;0;0;0;0;0;0;0;0;0;0;0;0;0.21;0.4;0.6;0.6;0.6;0.6;0.6;0.21;0;0;0;0; ... ; 0.36;0.36;0.36;0.36;0.36;0.36;0;0;0;0;0;0;0;0;0;0;0;0;0;0;0;0;0;0;0;0;0;0;0;0;0;0;0;0;0;0\n",
    "\n",
    "`y_train` -  содержит метки соответствующих изображений цифр, хранящихся в массиве X_train, например, 2 для указанных выше строк.\n",
    "\n",
    "Для оценки кода и начисления баллов используются 3 теста на простых черно-белых изображениях цифр (digits.csv) размером 10\\*7 и 2 теста на массиве \"серых\" цифр размера 15\\*15 (digits_15x15.csv). Тесты отличаются требованиям по точности классификации. Строка, соответствующая \"серым\" цифрам отличается от черно-белых тем, что могут быть любые числа от 0 до 1, а не только 0 и 1.\n",
    "\n",
    "Ваша задача - описать нейросеть, скомпилировать ее для оптимизации, подготовить данные для обучения нейросети, обучить нейросеть.\n",
    "\n",
    "Выход:  обученная модель (объект класс Model из библиотеки keras)"
   ]
  },
  {
   "cell_type": "code",
   "execution_count": null,
   "metadata": {},
   "outputs": [],
   "source": [
    "# --------- ДАННЫЙ МОДУЛЬ СОЗДАЕТ ОБУЧЮЩИЙСЯ -------------\n",
    "# -------- Модуль создания и обучения нейросетевого классификатора------\n",
    "import numpy as np\n",
    "import tensorflow as tf\n",
    "from keras.layers import Input, Dense, Dropout\n",
    "from keras.models import Model\n",
    "from keras import optimizers\n",
    "from keras import regularizers\n",
    "from keras import initializers\n",
    "from keras.utils import np_utils\n",
    "\n",
    "# --- Эту функцию программирует обучающийся!!! ----\n",
    "# функция создания и обучения нейросети классификатора\n",
    "# x_train, y_train - обучающая выборка, входные данные и номера классов\n",
    "def build_learn_perceptron(X_train, y_train):\n",
    "    # --------- определяем параметры нейросети--------\n",
    "    inputShape = (X_train.shape[1],)\n",
    "    numClasses = 10\n",
    "    batchSize = 25\n",
    "    epochs = 100\n",
    "\n",
    "    # --------- готовим данные для обучения ---------\n",
    "    y_train = tf.keras.utils.to_categorical(y_train, numClasses)\n",
    "\n",
    "    # -------- создаем модель классифицирующей нейросети -----------\n",
    "    model = tf.keras.models.Sequential()  \n",
    "    model.add(Dense(256, activation='tanh', input_shape=inputShape))\n",
    "    model.add(Dense(256, activation='tanh'))\n",
    "    model.add(Dense(numClasses, activation='softmax'))\n",
    "\n",
    "    # -------- компилируем нейросеть - выбираемм алгоритм обучения !\n",
    "    model.compile(loss='categorical_crossentropy', optimizer=tf.keras.optimizers.Adam(learning_rate=0.001), metrics=['accuracy'])\n",
    "\n",
    "    # обучаем нейросеть - выбираем кол-во эпох, размер пакета\n",
    "    model.fit(X_train, y_train, batch_size=batchSize, epochs=epochs, verbose=1)\n",
    "\n",
    "\n",
    "    return model\n"
   ]
  }
 ],
 "metadata": {
  "kernelspec": {
   "display_name": "Python 3",
   "language": "python",
   "name": "python3"
  },
  "language_info": {
   "name": "python",
   "version": "3.10.8 (tags/v3.10.8:aaaf517, Oct 11 2022, 16:50:30) [MSC v.1933 64 bit (AMD64)]"
  },
  "orig_nbformat": 4,
  "vscode": {
   "interpreter": {
    "hash": "26de051ba29f2982a8de78e945f0abaf191376122a1563185a90213a26c5da77"
   }
  }
 },
 "nbformat": 4,
 "nbformat_minor": 2
}
