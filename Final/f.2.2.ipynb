{
 "cells": [
  {
   "cell_type": "code",
   "execution_count": 2,
   "metadata": {},
   "outputs": [],
   "source": [
    "import numpy as np\n",
    "import matplotlib.pyplot as plt"
   ]
  },
  {
   "attachments": {},
   "cell_type": "markdown",
   "metadata": {},
   "source": [
    "##### 1 - Погрешность приближения по производной"
   ]
  },
  {
   "cell_type": "code",
   "execution_count": 1,
   "metadata": {},
   "outputs": [
    {
     "name": "stdout",
     "output_type": "stream",
     "text": [
      "167.8\n"
     ]
    }
   ],
   "source": [
    "# f(x) = 2.1*x4 - 9.0*х2 - 5*x + 3.5.\n",
    "\n",
    "def f(x):\n",
    "    return 2.1*x**4 - 9.0*x**2 - 5*x + 3.5\n",
    "\n",
    "def df(x):\n",
    "    return 8.4*x**3 - 18.0*x - 5\n",
    "\n",
    "x = 3.0\n",
    "\n",
    "print(df(x))"
   ]
  },
  {
   "attachments": {},
   "cell_type": "markdown",
   "metadata": {},
   "source": [
    "##### 2 - Метод Ньютона"
   ]
  },
  {
   "cell_type": "code",
   "execution_count": 3,
   "metadata": {},
   "outputs": [
    {
     "name": "stdout",
     "output_type": "stream",
     "text": [
      "1.6212014420545227 1.62\n"
     ]
    }
   ],
   "source": [
    "# f(x) = 3.7*x4 - 8.7*х2 - 5*x + 8.5.\n",
    "\n",
    "def f(x):\n",
    "    return 3.7*x**4 - 8.7*x**2 - 5*x + 8.5\n",
    "\n",
    "def df(x):\n",
    "    return 14.8*x**3 - 17.4*x - 5\n",
    "\n",
    "def d2f(x):\n",
    "    return 44.4*x**2 - 17.4\n",
    "\n",
    "x = 2.2\n",
    "\n",
    "newx = x - df(x)/d2f(x)\n",
    "print(newx, np.round(newx, 2))"
   ]
  },
  {
   "attachments": {},
   "cell_type": "markdown",
   "metadata": {},
   "source": [
    "##### 3 - Метод дихотомии"
   ]
  },
  {
   "cell_type": "code",
   "execution_count": 8,
   "metadata": {},
   "outputs": [
    {
     "name": "stdout",
     "output_type": "stream",
     "text": [
      "f1: 3.2678945132991988 f2: 3.2680038722830473\n",
      "a: 0 b: 1.00001\n",
      "f1: 1.433965256559599 f2: 1.4340026162634478\n",
      "a: 0 b: 0.500015\n",
      "f1: 1.1919871282572996 f2: 1.1919884883211482\n",
      "a: 0 b: 0.2500175\n",
      "0.12500875\n"
     ]
    }
   ],
   "source": [
    "# f(x) = 3.6*x2 - x*√3 + 1.4\n",
    "\n",
    "def f(x):\n",
    "    return 3.6*x**2 - np.sqrt(3)*x + 1.4\n",
    "\n",
    "a = 0\n",
    "b = 2\n",
    "dx = 1e-5\n",
    "\n",
    "for _ in range(3):\n",
    "    x1 = (a+b)/2 - dx\n",
    "    x2 = (a+b)/2 + dx\n",
    "    f1 = f(x1)\n",
    "    f2 = f(x2)\n",
    "\n",
    "    if f1<f2:\n",
    "        b = x2\n",
    "    elif f1>f2:\n",
    "        a = x1\n",
    "    else:\n",
    "        a = x1\n",
    "        b = x2\n",
    "    print( 'f1:', f1, 'f2:', f2)\n",
    "    print('a:', a, 'b:', b)\n",
    "\n",
    "print((a + b) / 2)"
   ]
  },
  {
   "attachments": {},
   "cell_type": "markdown",
   "metadata": {},
   "source": [
    "##### 4 - Золотое сечение"
   ]
  },
  {
   "cell_type": "code",
   "execution_count": 9,
   "metadata": {},
   "outputs": [
    {
     "name": "stdout",
     "output_type": "stream",
     "text": [
      "x1: 1.184094634875326 x2: 1.915905365124674\n",
      "f1: 4.875952275749971 f2: 11.094842679884849\n",
      "a: 0 b: 1.915905365124674\n",
      "(a+b)/2: 0.957952682562337 0.96\n"
     ]
    },
    {
     "data": {
      "text/plain": [
       "[<matplotlib.lines.Line2D at 0x263afc5e2c0>]"
      ]
     },
     "execution_count": 9,
     "metadata": {},
     "output_type": "execute_result"
    },
    {
     "data": {
      "image/png": "[encoded data removed]",
      "text/plain": [
       "<Figure size 640x480 with 1 Axes>"
      ]
     },
     "metadata": {},
     "output_type": "display_data"
    }
   ],
   "source": [
    "# f(x) = 3.3*x2 - x*√3 + 2.3\n",
    "\n",
    "def f(x):\n",
    "    return 3.3*x**2 - x*np.sqrt(3) + 2.3\n",
    "\n",
    "a, b = 0, 3.1\n",
    "\n",
    "# Метод золотого сечения\n",
    "def gs(f, a, b, eps_x=0.025):\n",
    "    nf = 0\n",
    "    tau = (1 + np.sqrt(5))/2\n",
    "\n",
    "    if (b-a)/2 > eps_x:\n",
    "        coeff = (b-a)/tau\n",
    "        x1 = b - coeff\n",
    "        x2 = a + coeff\n",
    "        f1 = f(x1)\n",
    "        f2 = f(x2)\n",
    "\n",
    "        print('x1:', x1, 'x2:', x2)\n",
    "        print('f1:', f1, 'f2:', f2)\n",
    "\n",
    "        if f1 < f2:\n",
    "            b = x2\n",
    "            x2 = x1\n",
    "            coeff = (b-a)/tau\n",
    "            x1 = b - coeff\n",
    "            f2 = f1\n",
    "            f1 = f(x1)\n",
    "            nf += 1\n",
    "        elif f1 > f2:\n",
    "            a = x1\n",
    "            x1 = x2\n",
    "            coeff = (b-a)/tau\n",
    "            x2 = a + coeff\n",
    "            f1 = f2\n",
    "            f2 = f(x2)\n",
    "            nf += 1\n",
    "        else:\n",
    "            a = x1\n",
    "            b = x2\n",
    "            coeff = (b-a)/tau\n",
    "            x1 = b - coeff\n",
    "            x2 = a + coeff\n",
    "            f1 = f(x1)\n",
    "            f2 = f(x2)\n",
    "            nf += 2\n",
    "\n",
    "        print('a:', a, 'b:', b)\n",
    "        print('(a+b)/2:', (a+b)/2, np.round((a+b)/2, 2))\n",
    "    return (a+b)/2, (b-a)/2, nf\n",
    "\n",
    "# print(gs(f, a, b))\n",
    "gs(f, a, b)\n",
    "\n",
    "x = np.linspace(a, b, 50)\n",
    "plt.plot(x, f(x))"
   ]
  },
  {
   "attachments": {},
   "cell_type": "markdown",
   "metadata": {},
   "source": [
    "##### 5 - Погрешность по градиенту"
   ]
  },
  {
   "cell_type": "code",
   "execution_count": 4,
   "metadata": {},
   "outputs": [
    {
     "name": "stdout",
     "output_type": "stream",
     "text": [
      "(6.699999999999999, 0.6)\n",
      "6.726812023536855 6.73\n"
     ]
    }
   ],
   "source": [
    "# f(x,y) =7.0* x2 -3.1*х + y2\n",
    "\n",
    "def f(x, y):\n",
    "    return 7.0*x**2 - 3.1*x + y**2\n",
    "\n",
    "def df(x, y):\n",
    "    return (14*x - 3.1, 2*y)\n",
    "\n",
    "x = np.array([0.7, 0.3])\n",
    "\n",
    "grd = df(*x)\n",
    "print(grd)\n",
    "\n",
    "grdlen = np.linalg.norm(grd, ord=2)\n",
    "print(grdlen, np.round(grdlen, 2))"
   ]
  },
  {
   "attachments": {},
   "cell_type": "markdown",
   "metadata": {},
   "source": [
    "##### 6 - Нелдер и Мид"
   ]
  },
  {
   "cell_type": "code",
   "execution_count": 16,
   "metadata": {},
   "outputs": [
    {
     "name": "stdout",
     "output_type": "stream",
     "text": [
      "[[ 0.  2.]\n",
      " [ 0.  4.]\n",
      " [-1.  5.]]\n",
      "16.0 256.0 628.0\n",
      "Bad: [-1.  5.]\n",
      "Center: [0. 3.]\n",
      "New: [1. 1.]\n",
      "X1: 0.0\n",
      "NewX2: [ 2. -1.]\n",
      "X2: 1.0\n"
     ]
    }
   ],
   "source": [
    "# f(x,y) = x2 - 2х + y4\n",
    "# v1(0;2), v2(0,4), v3(-1; 5.0)\n",
    "\n",
    "def f(x, y):\n",
    "    return x**2 - 2*x + y**4\n",
    "\n",
    "Xsimplex = np.array([[0., 2.], [0., 4.], [-1., 5.0]])\n",
    "print(Xsimplex)\n",
    "\n",
    "s1 = Xsimplex[0]\n",
    "s2 = Xsimplex[1]\n",
    "s3 = Xsimplex[2]\n",
    "\n",
    "print(f(*s1), f(*s2), f(*s3))\n",
    "\n",
    "bad = s3\n",
    "print('Bad:', bad)\n",
    "\n",
    "center = (s1 + s2) /2\n",
    "print('Center:', center)\n",
    "\n",
    "\n",
    "news3 = center + (center - bad)\n",
    "print('New:', news3)\n",
    "print('X1:', f(*news3))\n",
    "\n",
    "news3x2 = center + 2*(center - bad)\n",
    "print('NewX2:', news3x2)\n",
    "print('X2:', f(*news3x2))"
   ]
  },
  {
   "attachments": {},
   "cell_type": "markdown",
   "metadata": {},
   "source": [
    "##### 7 - Антиградиентное направление"
   ]
  },
  {
   "cell_type": "code",
   "execution_count": 7,
   "metadata": {},
   "outputs": [
    {
     "name": "stdout",
     "output_type": "stream",
     "text": [
      "grd: (9.040000000000003, 2.9160000000000004)\n",
      "grdlen: 9.498666011603948\n",
      "normgrd: [0.95171259 0.30699048]\n",
      "normgrdlen: 0.9999999999999999\n",
      "newx: [-0.15171259  0.59300952]\n"
     ]
    }
   ],
   "source": [
    "# f(x,y) =8.9* x2 -5.2*х + y4+1\n",
    "\n",
    "def f(x,y):\n",
    "    return 8.9*x**2 - 5.2*x + y**4 + 1\n",
    "\n",
    "def df(x,y):\n",
    "    return (17.8*x - 5.2, 4*y**3)\n",
    "\n",
    "x = np.array([0.8, 0.9])\n",
    "\n",
    "grd = df(*x)\n",
    "print('grd:', grd)\n",
    "\n",
    "grdlen = np.linalg.norm(grd, ord=2)\n",
    "print('grdlen:', grdlen)\n",
    "\n",
    "normgrd = grd / grdlen\n",
    "print('normgrd:', normgrd)\n",
    "\n",
    "normgrdlen = np.linalg.norm(normgrd, ord=2)\n",
    "print('normgrdlen:', normgrdlen)\n",
    "\n",
    "newx = x - normgrd\n",
    "print('newx:', newx)"
   ]
  },
  {
   "attachments": {},
   "cell_type": "markdown",
   "metadata": {},
   "source": [
    "##### 8 - Метод Ньютона"
   ]
  },
  {
   "cell_type": "code",
   "execution_count": 20,
   "metadata": {},
   "outputs": [
    {
     "name": "stdout",
     "output_type": "stream",
     "text": [
      "f(x0): 12.192100000000002\n",
      "res: [0.29213483 0.6       ]\n",
      "f(res): 9.370049438202248\n"
     ]
    }
   ],
   "source": [
    "# f(x,y) =8.9* x2 -5.2*х + y4+10\n",
    "\n",
    "def newton(f, g, h, x):\n",
    "    gv = g(x)\n",
    "    hm = h(x)\n",
    "    dx = np.linalg.solve(hm, -gv)\n",
    "    x += dx\n",
    "    return x\n",
    "\n",
    "def f(x):\n",
    "    return 8.9*x[0]**2 - 5.2*x[0] + x[1]**4 + 10\n",
    "\n",
    "def g(x):\n",
    "    return np.array([17.8*x[0] - 5.2, 4*x[1]**3])\n",
    "\n",
    "def h(x):\n",
    "    return np.array([[17.8, 0],[0, 12*x[1]**2]])\n",
    "\n",
    "x0 = np.array([0.8, 0.9])\n",
    "\n",
    "print('f(x0):', f(x0))\n",
    "\n",
    "newx = newton(f, g, h, x0)\n",
    "print('res:', newx)\n",
    "print('f(res):', f(newx))"
   ]
  },
  {
   "cell_type": "code",
   "execution_count": 11,
   "metadata": {},
   "outputs": [
    {
     "name": "stdout",
     "output_type": "stream",
     "text": [
      "f(x): 12.192100000000002\n",
      "res: [0.29213483 0.6       ]\n",
      "f(res): 9.370049438202248\n"
     ]
    }
   ],
   "source": [
    "# f(x,y) =8.9* x2 -5.2*х + y4+10\n",
    "\n",
    "def newton(f, g, h, x):\n",
    "    gv = g(*x)\n",
    "    hm = h(*x)\n",
    "    dx = np.linalg.solve(hm, -gv)\n",
    "    x += dx\n",
    "    return x\n",
    "\n",
    "def f(x,y):\n",
    "    return 8.9*x**2 - 5.2*x + y**4 + 10\n",
    "\n",
    "def g(x,y):\n",
    "    return np.array([17.8*x - 5.2, 4*y**3])\n",
    "\n",
    "def h(x,y):\n",
    "    return np.array([[17.8, 0],[0, 12*y**2]])\n",
    "\n",
    "x = np.array([0.8, 0.9])\n",
    "\n",
    "print('f(x):', f(*x))\n",
    "\n",
    "newx = newton(f, g, h, x)\n",
    "print('res:', newx)\n",
    "print('f(res):', f(*newx))"
   ]
  }
 ],
 "metadata": {
  "kernelspec": {
   "display_name": "Python 3",
   "language": "python",
   "name": "python3"
  },
  "language_info": {
   "codemirror_mode": {
    "name": "ipython",
    "version": 3
   },
   "file_extension": ".py",
   "mimetype": "text/x-python",
   "name": "python",
   "nbconvert_exporter": "python",
   "pygments_lexer": "ipython3",
   "version": "3.10.8"
  },
  "orig_nbformat": 4,
  "vscode": {
   "interpreter": {
    "hash": "26de051ba29f2982a8de78e945f0abaf191376122a1563185a90213a26c5da77"
   }
  }
 },
 "nbformat": 4,
 "nbformat_minor": 2
}
