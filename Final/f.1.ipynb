{
 "cells": [
  {
   "cell_type": "code",
   "execution_count": 13,
   "metadata": {},
   "outputs": [],
   "source": [
    "import numpy as np\n",
    "import matplotlib.pyplot as plt"
   ]
  },
  {
   "attachments": {},
   "cell_type": "markdown",
   "metadata": {},
   "source": [
    "##### 1 - Погрешность приближения по производной"
   ]
  },
  {
   "cell_type": "code",
   "execution_count": 3,
   "metadata": {},
   "outputs": [
    {
     "name": "stdout",
     "output_type": "stream",
     "text": [
      "61.8\n"
     ]
    }
   ],
   "source": [
    "# f(x) = 3.0*x4 - 7.3*х2 - 5*x + 1.8\n",
    "\n",
    "def f(x):\n",
    "    return 3*x**4 - 7.3*x**2 - 5*x + 1.8\n",
    "\n",
    "def df(x):\n",
    "    return 12*x**3 - 14.6*x - 5\n",
    "\n",
    "x = 2.0\n",
    "\n",
    "print(df(x))"
   ]
  },
  {
   "attachments": {},
   "cell_type": "markdown",
   "metadata": {},
   "source": [
    "##### 2 - Метод Ньютона"
   ]
  },
  {
   "cell_type": "code",
   "execution_count": 6,
   "metadata": {},
   "outputs": [
    {
     "name": "stdout",
     "output_type": "stream",
     "text": [
      "2.395977011494253\n",
      "2.4\n"
     ]
    }
   ],
   "source": [
    "# f(x) = 1.0*x4 - 8.7*х2 - 5*x + 1.1\n",
    "\n",
    "def f(x):\n",
    "    return 1.0*x**4 - 8.7*x**2 - 5*x + 1.1\n",
    "\n",
    "def df(x):\n",
    "    return 4*x**3 - 17.4*x - 5\n",
    "\n",
    "def d2f(x):\n",
    "    return 12*x**2 - 17.4\n",
    "\n",
    "x = 2.9\n",
    "\n",
    "x = x - df(x)/d2f(x)\n",
    "print(x)\n",
    "print(np.round(x, 2))"
   ]
  },
  {
   "attachments": {},
   "cell_type": "markdown",
   "metadata": {},
   "source": [
    "##### 3 - Метод дихотомии"
   ]
  },
  {
   "cell_type": "code",
   "execution_count": 11,
   "metadata": {},
   "outputs": [
    {
     "name": "stdout",
     "output_type": "stream",
     "text": [
      "f1: 4.367916513189199 f2: 4.367981872173047\n",
      "a: 0 b: 1.00001\n",
      "f1: 3.3589707565320994 f2: 3.3589861160159478\n",
      "a: 0 b: 0.500015\n",
      "f1: 3.323238503250425 f2: 3.3232288629842732\n",
      "a: 0.24999749999999998 b: 0.500015\n",
      "0.375\n"
     ]
    }
   ],
   "source": [
    "# f(x) = 2.5*x2 - x*√3 + 3.6\n",
    "\n",
    "def f(x):\n",
    "    return 2.5*x**2 - np.sqrt(3)*x + 3.6\n",
    "\n",
    "a = 0\n",
    "b = 2\n",
    "dx = 1e-5\n",
    "\n",
    "for _ in range(3):\n",
    "    x1 = (a+b)/2 - dx\n",
    "    x2 = (a+b)/2 + dx\n",
    "    f1 = f(x1)\n",
    "    f2 = f(x2)\n",
    "\n",
    "    if f1<f2:\n",
    "        b = x2\n",
    "    elif f1>f2:\n",
    "        a = x1\n",
    "    else:\n",
    "        a = x1\n",
    "        b = x2\n",
    "    print( 'f1:', f1, 'f2:', f2)\n",
    "    print('a:', a, 'b:', b)\n",
    "\n",
    "print((0.25+0.5)/2)"
   ]
  },
  {
   "attachments": {},
   "cell_type": "markdown",
   "metadata": {},
   "source": [
    "##### 4 - Золотое сечение"
   ]
  },
  {
   "cell_type": "code",
   "execution_count": 21,
   "metadata": {},
   "outputs": [
    {
     "name": "stdout",
     "output_type": "stream",
     "text": [
      "x1: 1.6424538483754523 x2: 2.6575461516245475\n",
      "f1: 25.675954566682023 f2: 59.70991773564557\n",
      "a: 0 b: 2.6575461516245475\n",
      "(a+b)/2: 1.3287730758122738 1.33\n"
     ]
    },
    {
     "data": {
      "text/plain": [
       "[<matplotlib.lines.Line2D at 0x2996606f550>]"
      ]
     },
     "execution_count": 21,
     "metadata": {},
     "output_type": "execute_result"
    },
    {
     "data": {
      "image/png": "[encoded data removed]",
      "text/plain": [
       "<Figure size 640x480 with 1 Axes>"
      ]
     },
     "metadata": {},
     "output_type": "display_data"
    }
   ],
   "source": [
    "# f(x) = 8.2*x2 - x*√3 + 6.4. \n",
    "\n",
    "def f(x):\n",
    "    return 8.2*x**2 - x*np.sqrt(3) + 6.4\n",
    "\n",
    "a, b = 0, 4.3\n",
    "\n",
    "\n",
    "# Метод золотого сечения\n",
    "def gs(f, a, b, eps_x=0.025):\n",
    "    nf = 0\n",
    "    tau = (1 + np.sqrt(5))/2\n",
    "\n",
    "    if (b-a)/2 > eps_x:\n",
    "        coeff = (b-a)/tau\n",
    "        x1 = b - coeff\n",
    "        x2 = a + coeff\n",
    "        f1 = f(x1)\n",
    "        f2 = f(x2)\n",
    "\n",
    "        print('x1:', x1, 'x2:', x2)\n",
    "        print('f1:', f1, 'f2:', f2)\n",
    "\n",
    "        if f1 < f2:\n",
    "            b = x2\n",
    "            x2 = x1\n",
    "            coeff = (b-a)/tau\n",
    "            x1 = b - coeff\n",
    "            f2 = f1\n",
    "            f1 = f(x1)\n",
    "            nf += 1\n",
    "        elif f1 > f2:\n",
    "            a = x1\n",
    "            x1 = x2\n",
    "            coeff = (b-a)/tau\n",
    "            x2 = a + coeff\n",
    "            f1 = f2\n",
    "            f2 = f(x2)\n",
    "            nf += 1\n",
    "        else:\n",
    "            a = x1\n",
    "            b = x2\n",
    "            coeff = (b-a)/tau\n",
    "            x1 = b - coeff\n",
    "            x2 = a + coeff\n",
    "            f1 = f(x1)\n",
    "            f2 = f(x2)\n",
    "            nf += 2\n",
    "\n",
    "        print('a:', a, 'b:', b)\n",
    "        print('(a+b)/2:', (a+b)/2, np.round((a+b)/2, 2))\n",
    "    return (a+b)/2, (b-a)/2, nf\n",
    "\n",
    "# print(gs(f, a, b))\n",
    "gs(f, a, b)\n",
    "\n",
    "x = np.linspace(a, b, 50)\n",
    "plt.plot(x, f(x))"
   ]
  },
  {
   "attachments": {},
   "cell_type": "markdown",
   "metadata": {},
   "source": [
    "##### 5 - Погрешность по градиенту"
   ]
  },
  {
   "cell_type": "code",
   "execution_count": 22,
   "metadata": {},
   "outputs": [
    {
     "name": "stdout",
     "output_type": "stream",
     "text": [
      "(0.6000000000000005, 1.2)\n",
      "1.341640786499874\n"
     ]
    }
   ],
   "source": [
    "# f(x,y) =3.2* x2 -5.8*х + y2\n",
    "\n",
    "def f(x, y):\n",
    "    return 3.2*x**2 - 5.8*x + y**2\n",
    "\n",
    "def df(x, y):\n",
    "    return (6.4*x - 5.8, 2*y)\n",
    "\n",
    "x, y = 1.0, 0.6\n",
    "\n",
    "grad = df(x, y)\n",
    "print(grad)\n",
    "print(np.linalg.norm(grad, ord=2))\n"
   ]
  },
  {
   "attachments": {},
   "cell_type": "markdown",
   "metadata": {},
   "source": [
    "##### 6 - Нелдер и Мид"
   ]
  },
  {
   "cell_type": "code",
   "execution_count": 37,
   "metadata": {},
   "outputs": [
    {
     "name": "stdout",
     "output_type": "stream",
     "text": [
      "[[ 0.   2. ]\n",
      " [ 0.   4. ]\n",
      " [-1.   4.6]]\n",
      "16.0 256.0 450.74559999999985\n",
      "Bad: [-1.   4.6]\n",
      "Center: [0. 3.]\n",
      "New: [1.  1.4]\n",
      "X1: 2.8416000000000037\n",
      "NewX2: [ 2.  -0.2]\n",
      "X2: 0.0015999999999999773\n"
     ]
    }
   ],
   "source": [
    "# f(x,y) = x2 - 2х + y4\n",
    "\n",
    "# v1(0;2), v2(0,4), v3(-1; 4.6)\n",
    "\n",
    "def f(x, y):\n",
    "    return x**2 - 2*x + y**4\n",
    "\n",
    "Xsimplex = np.array([[0., 2.], [0., 4.], [-1., 4.6]])\n",
    "print(Xsimplex)\n",
    "\n",
    "s1 = Xsimplex[0]\n",
    "s2 = Xsimplex[1]\n",
    "s3 = Xsimplex[2]\n",
    "\n",
    "print(f(*s1), f(*s2), f(*s3))\n",
    "\n",
    "bad = s3\n",
    "print('Bad:', bad)\n",
    "\n",
    "center = (s1 + s2) /2\n",
    "print('Center:', center)\n",
    "\n",
    "\n",
    "news3 = center + (center - bad)\n",
    "print('New:', news3)\n",
    "print('X1:', f(*news3))\n",
    "\n",
    "news3x2 = center + 2*(center - bad)\n",
    "print('NewX2:', news3x2)\n",
    "print('X2:', f(*news3x2))"
   ]
  },
  {
   "attachments": {},
   "cell_type": "markdown",
   "metadata": {},
   "source": [
    "##### 7 - Антиградиентное направление"
   ]
  },
  {
   "cell_type": "code",
   "execution_count": 42,
   "metadata": {},
   "outputs": [
    {
     "name": "stdout",
     "output_type": "stream",
     "text": [
      "(-2.86, 0.004000000000000001)\n",
      "NewX: 3.76\n",
      "NewY: 0.096\n"
     ]
    }
   ],
   "source": [
    "#  f(x,y) =1.3* x2 -5.2*х + y4+1\n",
    "\n",
    "def f(x, y):\n",
    "    return 1.3*x**2 - 5.2*x + y**4 + 1\n",
    "\n",
    "def df(x, y):\n",
    "    return (2.6*x - 5.2, 4*y**3)\n",
    "\n",
    "x, y = 0.9, 0.1\n",
    "\n",
    "d = df(x, y)\n",
    "print(d)\n",
    "\n",
    "print('NewX:', x - d[0])\n",
    "print('NewY:', y - d[1])"
   ]
  },
  {
   "attachments": {},
   "cell_type": "markdown",
   "metadata": {},
   "source": [
    "##### 7.v2 - Антиградиентное направление с шагом 1"
   ]
  },
  {
   "cell_type": "code",
   "execution_count": 59,
   "metadata": {},
   "outputs": [
    {
     "name": "stdout",
     "output_type": "stream",
     "text": [
      "grd: (-2.86, 0.004000000000000001)\n",
      "grdlength: 2.860002797201429\n",
      "normgrd: [-0.99999902  0.0013986 ]\n",
      "normgrdlength: 1.0\n",
      "newx: [1.89999902 0.0986014 ]\n"
     ]
    }
   ],
   "source": [
    "#  f(x,y) =1.3* x2 -5.2*х + y4+1\n",
    "\n",
    "def f(x):\n",
    "    return 1.3*x[0]**2 - 5.2*x[0] + x[1]**4 + 1\n",
    "\n",
    "def df(x):\n",
    "    return (2.6*x[0] - 5.2, 4*x[1]**3)\n",
    "\n",
    "x = np.array([0.9, 0.1])\n",
    "\n",
    "grd = df(x)\n",
    "print('grd:', grd)\n",
    "\n",
    "grdlength = np.linalg.norm(grd, ord=2)\n",
    "print('grdlength:', grdlength)\n",
    "\n",
    "normgrd = grd / grdlength\n",
    "print('normgrd:', normgrd)\n",
    "\n",
    "normgrdlength = np.linalg.norm(normgrd, ord=2)\n",
    "print('normgrdlength:', normgrdlength)\n",
    "\n",
    "newx = x - normgrd\n",
    "print('newx:', newx)"
   ]
  },
  {
   "attachments": {},
   "cell_type": "markdown",
   "metadata": {},
   "source": [
    "##### 8 - Метод Ньютона"
   ]
  },
  {
   "cell_type": "code",
   "execution_count": 48,
   "metadata": {},
   "outputs": [
    {
     "name": "stdout",
     "output_type": "stream",
     "text": [
      "f(x0): 6.373099999999999\n",
      "res: [2.         0.06666667]\n",
      "f(res): 4.80001975308642\n"
     ]
    }
   ],
   "source": [
    "# f(x,y) =1.3* x2 -5.2*х + y4+10\n",
    "\n",
    "\n",
    "def newton(f, g, h, x0, eps_g=0.01, max_iters=1000):\n",
    "    gv = g(x0)\n",
    "    x_trace = [x0]\n",
    "    iter = 0\n",
    "    # while (norm(gv, ord=2) > eps_g) or (iter < max_iters):\n",
    "    x = x_trace[-1].copy()\n",
    "    hm = h(x)\n",
    "    dx = np.linalg.solve(hm, -gv)\n",
    "    x += dx\n",
    "    return x\n",
    "    # gv = g(x)\n",
    "    # x_trace.append(x)\n",
    "    # iter +=1\n",
    "    # return np.array(x_trace)\n",
    "\n",
    "def f(x):\n",
    "    return 1.3*x[0]**2 - 5.2*x[0] + x[1]**4 + 10\n",
    "\n",
    "def g(x):\n",
    "    return np.array([2.6*x[0] - 5.2, 4*x[1]**3])\n",
    "\n",
    "def h(x):\n",
    "    return np.array([[2.6, 0],[0, 12*x[1]**2]])\n",
    "\n",
    "x0 = np.array([0.9, 0.1])\n",
    "\n",
    "print('f(x0):', f(x0))\n",
    "\n",
    "res = newton(f, g, h, x0)\n",
    "print('res:', res)\n",
    "print('f(res):', f(res))"
   ]
  }
 ],
 "metadata": {
  "kernelspec": {
   "display_name": "Python 3",
   "language": "python",
   "name": "python3"
  },
  "language_info": {
   "codemirror_mode": {
    "name": "ipython",
    "version": 3
   },
   "file_extension": ".py",
   "mimetype": "text/x-python",
   "name": "python",
   "nbconvert_exporter": "python",
   "pygments_lexer": "ipython3",
   "version": "3.10.8"
  },
  "orig_nbformat": 4,
  "vscode": {
   "interpreter": {
    "hash": "26de051ba29f2982a8de78e945f0abaf191376122a1563185a90213a26c5da77"
   }
  }
 },
 "nbformat": 4,
 "nbformat_minor": 2
}
