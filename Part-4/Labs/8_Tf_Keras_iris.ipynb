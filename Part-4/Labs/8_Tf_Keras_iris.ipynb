{
  "cells": [
    {
      "cell_type": "markdown",
      "metadata": {
        "id": "BxnZJRo_l47g"
      },
      "source": [
        "# **Нейросетевая классификация объектов**\n",
        "------------\n",
        "\n",
        "Попробуем применить tf для решения задачи классификации ирисов"
      ]
    },
    {
      "cell_type": "markdown",
      "metadata": {
        "id": "uRuJ7TPvVFMB"
      },
      "source": [
        "## **Библиотека tensorflow. Основные решаемые задачи**\n",
        "---\n"
      ]
    },
    {
      "cell_type": "markdown",
      "metadata": {
        "id": "QRiqCfYf4zVg"
      },
      "source": [
        "\n",
        "Мы научились рассчитывать и обучать многослойные нейросети. Но решаемая задача была очень простой. Практические задачи, которые сейчас решают нейросети, очень разнообразны и требуют и более мощной обработки и более сложного обучения. \n",
        "\n",
        "Поэтому реализация нейросетей с использованием библиотеки типа **numpy** становится громоздкой и неудобной.\n",
        "\n",
        "----\n",
        "\n",
        "Что нам надо чтобы смоделировать многослойную полносвязную нейросеть с последовательными слоями?\n",
        "\n",
        "- задать параметры входного слоя (размерность тензора на входе нейросети);\n",
        "\n",
        "- задать количество слоев;\n",
        "\n",
        "- задать количество нейронов в каждом слое;\n",
        "\n",
        "- задать функцию активации в каждом слое;\n",
        "\n",
        "- задать способ инициализации весов (в каждом слое);\n",
        "\n",
        "Что нам надо, чтобы обучить нейросеть (с использованием SGD  или других методов оптимизации, которые мы рассмотрим позднее):\n",
        "\n",
        "- задать метод оптимизации;\n",
        "\n",
        "- задать критерий оптимизации;\n",
        "\n",
        "- задать размер пакета;\n",
        "\n",
        "- задать шаг обучения;\n",
        "\n",
        "- задать коэффициент регуляризации;\n",
        "\n",
        "----\n",
        "\n",
        "все остальное, мы хотели бы, чтобы рассчитывалось автоматически, с использованием указанных паарметров:\n",
        "\n",
        "- обучение нейросети с использованием обучающей (и валидационной выборки);\n",
        "\n",
        "- расчет нейросети на новых данных;\n",
        "\n",
        "---\n",
        "\n",
        "Также важно, чтобы библиотека поддерживала расширение видов слоев и способов их комбинаций.\n"
      ]
    },
    {
      "cell_type": "markdown",
      "metadata": {
        "id": "dk0jesSwvdvZ"
      },
      "source": [
        "### **tensorflow - библиотека по обработке тензоров**\n",
        "----------\n"
      ]
    },
    {
      "cell_type": "markdown",
      "metadata": {
        "id": "xzh9M-Ij7SoF"
      },
      "source": [
        "\n",
        "Если мы внимательно посмотрим на нейросетевую обработку данных, то увидим, что она формирует поток тензоров - массивов произвольной размерности.\n",
        "\n",
        "Действительно - на вход нейросети подается тензор входных данных размерности: \n",
        "$$(batch\\_size, data\\_size)$$\n",
        "или если это картинка, то:\n",
        "\n",
        "$$(batch\\_size, width, height, canals)$$\n",
        "\n",
        "Что происходит при расчете слоя с этим тензором?\n",
        "\n",
        "- он умножается на другой тензор - матрицу весов и получается новый тензор;\n",
        "\n",
        "- он пропускается через функцию активации и получается опять тензор;\n",
        "\n",
        "то же самое происходит и при расчете градиента: \n",
        "- тензор на выходе нейросети пропускается через производную функции активации; \n",
        "\n",
        "- умножается на матрицу весов (транспонированную) или умножается на вектор выходов предыдущего слоя;\n",
        "\n",
        "-----\n",
        "\n",
        "если мы рассчитываем и обучаем другие виды нейросетей, то тензора могут конкатенироваться, складываться, изменять размер, ...\n",
        "\n",
        "----\n",
        "\n",
        "т.е. нас интересует организация некоторого алгоритма расчета, в котором переменными являются тензоры.\n",
        "\n",
        "--- \n",
        "\n",
        "проиллюстрируем как библиотека tf решает эту задачу\n",
        "\n",
        "см. https://www.tensorflow.org/guide/\n"
      ]
    },
    {
      "cell_type": "markdown",
      "metadata": {
        "id": "VFlUnK1N_zUK"
      },
      "source": [
        "### 1. Создание тензоров и связь с numpy.array\n",
        "-------\n",
        "\n",
        "см. https://www.tensorflow.org/guide/tensor\n"
      ]
    },
    {
      "cell_type": "markdown",
      "metadata": {
        "id": "BMDtqLM4AGQY"
      },
      "source": [
        "### 2. Создание переменных тензоров\n",
        "----\n",
        "\n",
        "см. https://www.tensorflow.org/guide/variable\n",
        "\n"
      ]
    },
    {
      "cell_type": "markdown",
      "metadata": {
        "id": "DrZdjhMKMBWv"
      },
      "source": [
        "### 3. Вычисление градиентов\n",
        "-----\n",
        "\n",
        "см. https://www.tensorflow.org/guide/autodiff"
      ]
    },
    {
      "cell_type": "markdown",
      "metadata": {
        "id": "zA9Hh2tYM7AE"
      },
      "source": [
        "### 4. Keras\n",
        "-----\n",
        "\n",
        "Если мы хотим пользоваться известными архитектурами нейросетей, известными и распространенными моделями слоев, то нам достаточно использовать надстройку над tf - библиотеку Keras.\n",
        "\n",
        "см. https://www.tensorflow.org/api_docs/python/tf/keras\n",
        "\n",
        "С помощью данной библиотеки мы можем собрать и обучить нейросеть \"на коленке\"\n",
        "\n",
        "Более подробно с данной библиотекой мы будем разбираться в следующих темах. А сейчас продемонстрируем как можно ее использовать для решения нашей демонстрационной задачи - сети, моделирующей операцию XOR (рис.1)"
      ]
    },
    {
      "cell_type": "markdown",
      "metadata": {
        "id": "gSyJe4mkUqCw"
      },
      "source": [
        "## ПРИМЕР применения для решения задачи XOR\n",
        "---"
      ]
    },
    {
      "cell_type": "code",
      "execution_count": 1,
      "metadata": {
        "id": "WqNBgNcGcb6t"
      },
      "outputs": [],
      "source": [
        "import numpy as np\n",
        "import matplotlib.pyplot as plt   # библиотека построения графиков\n",
        "plt.style.use('ggplot')   # устанавливаем стиль построения графиков\n",
        "\n",
        "import tensorflow as tf"
      ]
    },
    {
      "cell_type": "markdown",
      "metadata": {
        "id": "bpBLwjpCqcw8"
      },
      "source": [
        "![XORNetModel.jpg](data:image/jpeg;base64,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)\n",
        "\n",
        "Рис. 1. Схематическая модель нейросети, реализующей операцию XOR"
      ]
    },
    {
      "cell_type": "markdown",
      "metadata": {
        "id": "fv9nQbjciJqD"
      },
      "source": [
        "### **Обучающая выборка для XOR-нейросети**\n",
        "\n",
        "---------\n"
      ]
    },
    {
      "cell_type": "code",
      "execution_count": 2,
      "metadata": {
        "colab": {
          "base_uri": "https://localhost:8080/"
        },
        "id": "7JAREXOEhuWv",
        "outputId": "80b7eb19-9d22-402f-cc14-9c25c8890e56"
      },
      "outputs": [
        {
          "name": "stdout",
          "output_type": "stream",
          "text": [
            "(40, 2)\n",
            "[0. 0. 0. 0. 0. 0. 0. 0. 0. 0. 0. 0. 0. 0. 0. 0. 0. 0. 0. 0. 1. 1. 1. 1.\n",
            " 1. 1. 1. 1. 1. 1. 1. 1. 1. 1. 1. 1. 1. 1. 1. 1.]\n"
          ]
        }
      ],
      "source": [
        "# Обучающая выборка\n",
        "random_state = 42\n",
        "np.random.seed(random_state)\n",
        "# сгенерируем множество nn точек x из нормального распределения с центром в A и СКО sigma\n",
        "def genX(point, sigma=1.0, nn=10):\n",
        "    X = point + sigma*np.random.randn(nn, 2)\n",
        "    return X\n",
        "\n",
        "nn = 10\n",
        "sigma = 0.1\n",
        "# сгенерируем \"нули\"\n",
        "A = np.array([0.0, 0.0])\n",
        "C = np.array([1.0, 1.0])\n",
        "X0 = np.vstack([genX(A, sigma=sigma, nn=nn), genX(C, sigma=sigma, nn=nn)])\n",
        "y0 = np.zeros(2*nn)\n",
        "\n",
        "# сгенерируем \"единицы\"\n",
        "B = np.array([1.0, 0.0])\n",
        "D = np.array([0.0, 1.0])\n",
        "X1 = np.vstack([genX(B, sigma=sigma, nn=nn), genX(D, sigma=sigma, nn=nn)])\n",
        "y1 = np.ones(2*nn)\n",
        "\n",
        "X = np.vstack([X0,X1])\n",
        "y = np.hstack([y0, y1])\n",
        "print(X.shape)\n",
        "print(y)"
      ]
    },
    {
      "cell_type": "code",
      "execution_count": 3,
      "metadata": {
        "colab": {
          "base_uri": "https://localhost:8080/",
          "height": 320
        },
        "id": "gnGy_kCtClyK",
        "outputId": "3dbefc9c-7a58-4ee9-f2c7-a9c0d5b0dc0c"
      },
      "outputs": [
        {
          "data": {
            "image/png": "[encoded data removed]",
            "text/plain": [
              "<Figure size 500x500 with 1 Axes>"
            ]
          },
          "metadata": {},
          "output_type": "display_data"
        }
      ],
      "source": [
        "# отобразим графически расположение точек и границ\n",
        "plt.figure(figsize=(5,5))\n",
        "plt.scatter(X[y==0].T[0], X[y==0].T[1], c='g', marker='o', label='нули')\n",
        "plt.scatter(X[y==1].T[0], X[y==1].T[1], c='r', marker='X', label='единички')\n",
        "#plt.xlim(-2, 4)\n",
        "plt.legend(loc= 'center');"
      ]
    },
    {
      "cell_type": "code",
      "execution_count": 4,
      "metadata": {
        "id": "SpQSRIZg-Bw2"
      },
      "outputs": [],
      "source": [
        "# Описываем слои нейросети\n",
        "inputs = tf.keras.Input(shape=(2,))\n",
        "x = tf.keras.layers.Dense(2, activation=tf.nn.relu)(inputs) # , kernel_initializer='he_uniform', kernel_regularizer= tf.keras.regularizers.L2(0.00001)\n",
        "outputs = tf.keras.layers.Dense(1, activation=tf.nn.sigmoid)(x) # , kernel_regularizer= tf.keras.regularizers.L2(0.00001)\n",
        "\n",
        "# Собираем модель нейросети\n",
        "model = tf.keras.Model(inputs=inputs, outputs=outputs)"
      ]
    },
    {
      "cell_type": "code",
      "execution_count": 9,
      "metadata": {
        "colab": {
          "base_uri": "https://localhost:8080/"
        },
        "id": "J-VkhqGGnreb",
        "outputId": "1c7857d7-56e4-482b-e971-4de46343a345"
      },
      "outputs": [
        {
          "name": "stdout",
          "output_type": "stream",
          "text": [
            "2/2 [==============================] - 0s 2ms/step\n",
            "[[1. 0. 0. 1. 0. 0. 1. 0. 0. 0. 1. 1. 1. 1. 1. 1. 1. 1. 1. 1. 1. 1. 1. 1.\n",
            "  1. 1. 1. 1. 1. 1. 0. 0. 0. 0. 0. 0. 0. 0. 0. 0.]]\n",
            "[0. 0. 0. 0. 0. 0. 0. 0. 0. 0. 0. 0. 0. 0. 0. 0. 0. 0. 0. 0. 1. 1. 1. 1.\n",
            " 1. 1. 1. 1. 1. 1. 1. 1. 1. 1. 1. 1. 1. 1. 1. 1.]\n"
          ]
        }
      ],
      "source": [
        "ypred = model.predict(X)\n",
        "print(np.round(ypred.T))\n",
        "# print(X)\n",
        "print(y)"
      ]
    },
    {
      "cell_type": "code",
      "execution_count": 10,
      "metadata": {
        "colab": {
          "base_uri": "https://localhost:8080/"
        },
        "id": "iWCrnrWAQtrG",
        "outputId": "54edfe97-b192-4493-a17c-ae27d5eb9573"
      },
      "outputs": [
        {
          "name": "stdout",
          "output_type": "stream",
          "text": [
            "Model: \"model\"\n",
            "_________________________________________________________________\n",
            " Layer (type)                Output Shape              Param #   \n",
            "=================================================================\n",
            " input_1 (InputLayer)        [(None, 2)]               0         \n",
            "                                                                 \n",
            " dense (Dense)               (None, 2)                 6         \n",
            "                                                                 \n",
            " dense_1 (Dense)             (None, 1)                 3         \n",
            "                                                                 \n",
            "=================================================================\n",
            "Total params: 9\n",
            "Trainable params: 9\n",
            "Non-trainable params: 0\n",
            "_________________________________________________________________\n"
          ]
        }
      ],
      "source": [
        "# компилируем нейросеть для обучения\n",
        "opt = tf.keras.optimizers.Adam(learning_rate=0.01)\n",
        "model.compile(optimizer=opt, loss='mse', metrics=['mae','acc'])\n",
        "model.summary()"
      ]
    },
    {
      "cell_type": "markdown",
      "metadata": {
        "id": "dkuPQ9CBuF5d"
      },
      "source": [
        "#### **Обучение модели**\n",
        "-------------\n"
      ]
    },
    {
      "cell_type": "code",
      "execution_count": 14,
      "metadata": {
        "colab": {
          "base_uri": "https://localhost:8080/"
        },
        "id": "nxa03BgmSNRT",
        "outputId": "71d1fdfa-327d-48f5-e15b-51444bb16817"
      },
      "outputs": [],
      "source": [
        "hist = model.fit(x=X, y=y, batch_size=4, epochs=200, verbose=0)"
      ]
    },
    {
      "cell_type": "code",
      "execution_count": 27,
      "metadata": {},
      "outputs": [
        {
          "name": "stdout",
          "output_type": "stream",
          "text": [
            "loss = 3.247833956265822e-05\n",
            "mae = 0.004256926476955414\n",
            "acc = 1.0\n"
          ]
        }
      ],
      "source": [
        "print(f\"loss = {hist.history['loss'][-1]}\\nmae = {hist.history['mae'][-1]}\\nacc = {hist.history['acc'][-1]}\")"
      ]
    },
    {
      "cell_type": "code",
      "execution_count": 9,
      "metadata": {
        "colab": {
          "base_uri": "https://localhost:8080/"
        },
        "id": "TqZ70fYIwGZY",
        "outputId": "270fc0bd-b2cf-4830-883f-ca357a84b03c"
      },
      "outputs": [
        {
          "data": {
            "text/plain": [
              "[array([[-1.9667852, -4.313255 ],\n",
              "        [ 2.0938706,  4.1976585]], dtype=float32),\n",
              " array([ 1.7046776 , -0.11154164], dtype=float32),\n",
              " array([[-4.16554  ],\n",
              "        [ 4.4250207]], dtype=float32),\n",
              " array([2.6680355], dtype=float32)]"
            ]
          },
          "execution_count": 9,
          "metadata": {},
          "output_type": "execute_result"
        }
      ],
      "source": [
        "#dir(model)\n",
        "model.get_weights()"
      ]
    },
    {
      "cell_type": "code",
      "execution_count": 10,
      "metadata": {
        "colab": {
          "base_uri": "https://localhost:8080/"
        },
        "id": "3UCXpY1-DGTZ",
        "outputId": "e5ea30f7-8184-4d8c-df12-c4af76d6c669"
      },
      "outputs": [
        {
          "name": "stdout",
          "output_type": "stream",
          "text": [
            "2/2 [==============================] - 0s 3ms/step\n"
          ]
        },
        {
          "data": {
            "text/plain": [
              "array([[ 0.01973696,  0.01580624,  0.01188542,  0.02170164,  0.02022398,\n",
              "         0.01205297,  0.07136872,  0.02656079,  0.02893068,  0.01898459,\n",
              "         0.02753014,  0.02498339,  0.00514268,  0.01282639,  0.00548676,\n",
              "         0.02968772,  0.01711127,  0.03828995,  0.0438606 ,  0.01304118,\n",
              "        -0.06488609, -0.06488609, -0.06488609, -0.07867885, -0.06488609,\n",
              "        -0.06488609, -0.06488609, -0.06488609, -0.06488609, -0.06488609,\n",
              "        -0.00514156, -0.0070141 , -0.00459898, -0.00248903, -0.0199061 ,\n",
              "        -0.0023573 , -0.00149101, -0.00018597, -0.01059461, -0.05376107]])"
            ]
          },
          "execution_count": 10,
          "metadata": {},
          "output_type": "execute_result"
        }
      ],
      "source": [
        "ypred = model.predict(X)\n",
        "ypred.T - y"
      ]
    },
    {
      "cell_type": "code",
      "execution_count": null,
      "metadata": {
        "id": "9E5rtOXOFown"
      },
      "outputs": [],
      "source": [
        "# сохранение модели\n",
        "model.save()"
      ]
    },
    {
      "cell_type": "markdown",
      "metadata": {
        "id": "rzDNMxxrU2-C"
      },
      "source": [
        "## Применим tf для решения задачи классификации ИРИСОВ\n",
        "---\n"
      ]
    },
    {
      "cell_type": "code",
      "execution_count": null,
      "metadata": {
        "colab": {
          "base_uri": "https://localhost:8080/",
          "height": 726
        },
        "id": "XYLreqj9VafA",
        "outputId": "4b660764-ad10-41ab-c91c-1222d94a5229"
      },
      "outputs": [],
      "source": [
        "import tensorflow as tf\n",
        "\n",
        "import numpy as np\n",
        "import pandas as pd\n",
        "import matplotlib.pyplot as plt\n",
        "plt.style.use('ggplot')\n",
        "\n",
        "# импортируем функцию деления выборки и классификаторы\n",
        "from sklearn.model_selection import train_test_split\n",
        "from sklearn.linear_model import LogisticRegression\n",
        "from sklearn.metrics import confusion_matrix, f1_score, accuracy_score\n",
        "from sklearn import datasets\n",
        "import seaborn as sns\n",
        "\n",
        "iris = datasets.load_iris()\n",
        "\n",
        "iris_df = pd.DataFrame(iris.data, columns = iris.feature_names)\n",
        "iris_df['Species'] = np.array([iris.target_names[cls] for cls in iris.target])\n",
        "sns.pairplot(iris_df, hue='Species');"
      ]
    },
    {
      "cell_type": "code",
      "execution_count": 40,
      "metadata": {
        "colab": {
          "base_uri": "https://localhost:8080/",
          "height": 206
        },
        "id": "PPEUWjhWVzNh",
        "outputId": "b4c72d94-33cd-4d6d-a43e-d35fb45014f5"
      },
      "outputs": [
        {
          "data": {
            "text/html": [
              "<div>\n",
              "<style scoped>\n",
              "    .dataframe tbody tr th:only-of-type {\n",
              "        vertical-align: middle;\n",
              "    }\n",
              "\n",
              "    .dataframe tbody tr th {\n",
              "        vertical-align: top;\n",
              "    }\n",
              "\n",
              "    .dataframe thead th {\n",
              "        text-align: right;\n",
              "    }\n",
              "</style>\n",
              "<table border=\"1\" class=\"dataframe\">\n",
              "  <thead>\n",
              "    <tr style=\"text-align: right;\">\n",
              "      <th></th>\n",
              "      <th>sepal length (cm)</th>\n",
              "      <th>sepal width (cm)</th>\n",
              "      <th>petal length (cm)</th>\n",
              "      <th>petal width (cm)</th>\n",
              "      <th>Species</th>\n",
              "    </tr>\n",
              "  </thead>\n",
              "  <tbody>\n",
              "    <tr>\n",
              "      <th>145</th>\n",
              "      <td>6.7</td>\n",
              "      <td>3.0</td>\n",
              "      <td>5.2</td>\n",
              "      <td>2.3</td>\n",
              "      <td>virginica</td>\n",
              "    </tr>\n",
              "    <tr>\n",
              "      <th>146</th>\n",
              "      <td>6.3</td>\n",
              "      <td>2.5</td>\n",
              "      <td>5.0</td>\n",
              "      <td>1.9</td>\n",
              "      <td>virginica</td>\n",
              "    </tr>\n",
              "    <tr>\n",
              "      <th>147</th>\n",
              "      <td>6.5</td>\n",
              "      <td>3.0</td>\n",
              "      <td>5.2</td>\n",
              "      <td>2.0</td>\n",
              "      <td>virginica</td>\n",
              "    </tr>\n",
              "    <tr>\n",
              "      <th>148</th>\n",
              "      <td>6.2</td>\n",
              "      <td>3.4</td>\n",
              "      <td>5.4</td>\n",
              "      <td>2.3</td>\n",
              "      <td>virginica</td>\n",
              "    </tr>\n",
              "    <tr>\n",
              "      <th>149</th>\n",
              "      <td>5.9</td>\n",
              "      <td>3.0</td>\n",
              "      <td>5.1</td>\n",
              "      <td>1.8</td>\n",
              "      <td>virginica</td>\n",
              "    </tr>\n",
              "  </tbody>\n",
              "</table>\n",
              "</div>"
            ],
            "text/plain": [
              "     sepal length (cm)  sepal width (cm)  petal length (cm)  petal width (cm)  \\\n",
              "145                6.7               3.0                5.2               2.3   \n",
              "146                6.3               2.5                5.0               1.9   \n",
              "147                6.5               3.0                5.2               2.0   \n",
              "148                6.2               3.4                5.4               2.3   \n",
              "149                5.9               3.0                5.1               1.8   \n",
              "\n",
              "       Species  \n",
              "145  virginica  \n",
              "146  virginica  \n",
              "147  virginica  \n",
              "148  virginica  \n",
              "149  virginica  "
            ]
          },
          "execution_count": 40,
          "metadata": {},
          "output_type": "execute_result"
        }
      ],
      "source": [
        "iris_df.tail(5)"
      ]
    },
    {
      "cell_type": "code",
      "execution_count": 41,
      "metadata": {
        "colab": {
          "base_uri": "https://localhost:8080/"
        },
        "id": "IYPcX6FRV20Z",
        "outputId": "eb3fb8ca-7830-4357-812a-afda217363c7"
      },
      "outputs": [
        {
          "data": {
            "text/plain": [
              "({'setosa', 'versicolor', 'virginica'}, {0, 1, 2})"
            ]
          },
          "execution_count": 41,
          "metadata": {},
          "output_type": "execute_result"
        }
      ],
      "source": [
        "# классы ирисов\n",
        "set(iris_df['Species']), set(iris.target)"
      ]
    },
    {
      "cell_type": "code",
      "execution_count": 42,
      "metadata": {
        "colab": {
          "base_uri": "https://localhost:8080/"
        },
        "id": "yYPHuAdIXRfZ",
        "outputId": "20fcc8b2-d17b-466f-ffd6-d2578dea8cc8"
      },
      "outputs": [
        {
          "data": {
            "text/plain": [
              "{0, 1}"
            ]
          },
          "execution_count": 42,
          "metadata": {},
          "output_type": "execute_result"
        }
      ],
      "source": [
        "# упростим задачу, сделаем только два класса\n",
        "y_true = iris.target\n",
        "y_true[y_true == 2] = 1\n",
        "set(y_true)"
      ]
    },
    {
      "cell_type": "code",
      "execution_count": 43,
      "metadata": {
        "id": "LBCncGcrV5mE"
      },
      "outputs": [],
      "source": [
        "# подготовим данные\n",
        "x_train, x_test, y_train, y_test = train_test_split(\n",
        "    iris.data, y_true,\n",
        "    test_size=0.3, stratify= iris.target, random_state=42\n",
        ")"
      ]
    },
    {
      "cell_type": "code",
      "execution_count": 44,
      "metadata": {
        "colab": {
          "base_uri": "https://localhost:8080/"
        },
        "id": "JH4uRmw9Wsh3",
        "outputId": "8313b7c4-4cda-45ff-900d-7ddd17b8cd1e"
      },
      "outputs": [
        {
          "data": {
            "text/plain": [
              "((105, 4), (105,), array([1, 1, 0, 1, 0]))"
            ]
          },
          "execution_count": 44,
          "metadata": {},
          "output_type": "execute_result"
        }
      ],
      "source": [
        "x_train.shape, y_train.shape, y_test[:5]"
      ]
    },
    {
      "cell_type": "markdown",
      "metadata": {
        "id": "9E4ctVonV9WU"
      },
      "source": [
        "### Обучаем модель на выборке x_train, y_train\n",
        "---"
      ]
    },
    {
      "cell_type": "code",
      "execution_count": 50,
      "metadata": {
        "id": "hZX9HUJsWDSw"
      },
      "outputs": [],
      "source": [
        "# Описываем слои нейросети\n",
        "inputs = tf.keras.Input(shape=(4,))\n",
        "x = tf.keras.layers.Dense(2, activation=tf.nn.relu)(inputs) # , kernel_initializer='he_uniform', kernel_regularizer= tf.keras.regularizers.L2(0.00001)\n",
        "outputs = tf.keras.layers.Dense(1, activation=tf.nn.sigmoid)(x) # , kernel_regularizer= tf.keras.regularizers.L2(0.00001)\n",
        "\n",
        "# Собираем модель нейросети\n",
        "model = tf.keras.Model(inputs=inputs, outputs=outputs)"
      ]
    },
    {
      "cell_type": "code",
      "execution_count": 51,
      "metadata": {},
      "outputs": [
        {
          "name": "stdout",
          "output_type": "stream",
          "text": [
            "4/4 [==============================] - 0s 2ms/step\n",
            "[1 0 1 0 0 0 0 0 0 1 1 1 0 1 1 1 1 1 1 0 0 1 0 1 1 0 0 0 1 1 1 1 0 0 1 1 1\n",
            " 0 1 0 1 0 1 1 1 1 1 1 0 1 1 1 1 0 1 0 1 1 1 1 1 1 1 1 1 1 0 1 1 1 1 0 1 1\n",
            " 1 0 1 0 0 1 1 1 0 1 1 1 1 0 1 1 1 1 1 0 1 1 1 0 0 1 0 1 0 1 0]\n",
            "[[1. 1. 1. 1. 1. 1. 1. 1. 1. 1. 1. 1. 1. 1. 1. 1. 1. 1. 1. 1. 1. 1. 1. 1.\n",
            "  1. 1. 1. 1. 1. 1. 1. 1. 1. 1. 1. 1. 1. 1. 1. 1. 1. 1. 1. 1. 1. 1. 1. 1.\n",
            "  1. 1. 1. 1. 1. 1. 1. 1. 1. 1. 1. 1. 1. 1. 1. 1. 1. 1. 1. 1. 1. 1. 1. 1.\n",
            "  1. 1. 1. 1. 1. 1. 1. 1. 1. 1. 1. 1. 1. 1. 1. 1. 1. 1. 1. 1. 1. 1. 1. 1.\n",
            "  1. 1. 1. 1. 1. 1. 1. 1. 1.]]\n"
          ]
        }
      ],
      "source": [
        "ypred = model.predict(x_train)\n",
        "print(np.round(y_train.T))\n",
        "print(np.round(ypred.T))\n",
        "# print(X)\n"
      ]
    },
    {
      "cell_type": "code",
      "execution_count": 52,
      "metadata": {},
      "outputs": [
        {
          "name": "stdout",
          "output_type": "stream",
          "text": [
            "Model: \"model_4\"\n",
            "_________________________________________________________________\n",
            " Layer (type)                Output Shape              Param #   \n",
            "=================================================================\n",
            " input_5 (InputLayer)        [(None, 4)]               0         \n",
            "                                                                 \n",
            " dense_8 (Dense)             (None, 2)                 10        \n",
            "                                                                 \n",
            " dense_9 (Dense)             (None, 1)                 3         \n",
            "                                                                 \n",
            "=================================================================\n",
            "Total params: 13\n",
            "Trainable params: 13\n",
            "Non-trainable params: 0\n",
            "_________________________________________________________________\n"
          ]
        }
      ],
      "source": [
        "# компилируем нейросеть для обучения\n",
        "opt = tf.keras.optimizers.Adam(learning_rate=0.01)\n",
        "model.compile(optimizer=opt, loss='mse', metrics=['mae','acc'])\n",
        "model.summary()"
      ]
    },
    {
      "cell_type": "code",
      "execution_count": 53,
      "metadata": {},
      "outputs": [],
      "source": [
        "hist = model.fit(x=x_train, y=y_train, batch_size=5, epochs=1000, verbose=0)"
      ]
    },
    {
      "cell_type": "code",
      "execution_count": 54,
      "metadata": {},
      "outputs": [
        {
          "name": "stdout",
          "output_type": "stream",
          "text": [
            "loss = 1.5267906050553393e-08\n",
            "mae = 7.279455167008564e-05\n",
            "acc = 1.0\n"
          ]
        }
      ],
      "source": [
        "print(f\"loss = {hist.history['loss'][-1]}\\nmae = {hist.history['mae'][-1]}\\nacc = {hist.history['acc'][-1]}\")"
      ]
    },
    {
      "cell_type": "code",
      "execution_count": 55,
      "metadata": {},
      "outputs": [
        {
          "data": {
            "text/plain": [
              "[array([[-0.57751113, -0.1463008 ],\n",
              "        [-1.0123483 , -0.64234257],\n",
              "        [ 3.1457129 ,  0.37121606],\n",
              "        [ 3.4883485 , -0.626004  ]], dtype=float32),\n",
              " array([-0.54738814,  0.        ], dtype=float32),\n",
              " array([[ 2.3265064 ],\n",
              "        [-0.42515445]], dtype=float32),\n",
              " array([-8.471871], dtype=float32)]"
            ]
          },
          "execution_count": 55,
          "metadata": {},
          "output_type": "execute_result"
        }
      ],
      "source": [
        "#dir(model)\n",
        "model.get_weights()"
      ]
    },
    {
      "cell_type": "code",
      "execution_count": 56,
      "metadata": {},
      "outputs": [
        {
          "name": "stdout",
          "output_type": "stream",
          "text": [
            "4/4 [==============================] - 0s 2ms/step\n"
          ]
        },
        {
          "data": {
            "text/plain": [
              "array([[ 0.00000000e+00,  2.09229111e-04,  0.00000000e+00,\n",
              "         2.09229111e-04,  2.09229111e-04,  2.09229111e-04,\n",
              "         2.09229111e-04,  2.09229111e-04,  2.09229111e-04,\n",
              "         0.00000000e+00,  0.00000000e+00, -3.70740891e-05,\n",
              "         2.09229111e-04,  0.00000000e+00,  0.00000000e+00,\n",
              "         0.00000000e+00, -1.19209290e-07, -1.19209290e-07,\n",
              "         0.00000000e+00,  2.09229111e-04,  2.09229111e-04,\n",
              "         0.00000000e+00,  2.09229111e-04,  0.00000000e+00,\n",
              "         0.00000000e+00,  2.09229111e-04,  2.09229111e-04,\n",
              "         2.09229111e-04,  0.00000000e+00, -5.96046448e-07,\n",
              "         0.00000000e+00,  0.00000000e+00,  2.09229111e-04,\n",
              "         2.09229111e-04,  0.00000000e+00,  0.00000000e+00,\n",
              "         0.00000000e+00,  2.09229111e-04, -5.36441803e-07,\n",
              "         2.09229111e-04,  0.00000000e+00,  2.09229111e-04,\n",
              "         0.00000000e+00,  0.00000000e+00, -2.74181366e-06,\n",
              "         0.00000000e+00,  0.00000000e+00,  0.00000000e+00,\n",
              "         2.09229111e-04,  0.00000000e+00, -3.51667404e-06,\n",
              "         0.00000000e+00, -5.96046448e-07,  2.09229111e-04,\n",
              "         0.00000000e+00,  2.09229111e-04,  0.00000000e+00,\n",
              "         0.00000000e+00,  0.00000000e+00, -1.19209290e-07,\n",
              "         0.00000000e+00, -4.11272049e-06,  0.00000000e+00,\n",
              "        -8.94069672e-07,  0.00000000e+00,  0.00000000e+00,\n",
              "         2.09229111e-04,  0.00000000e+00,  0.00000000e+00,\n",
              "         0.00000000e+00, -2.38418579e-07,  2.09229111e-04,\n",
              "         0.00000000e+00,  0.00000000e+00, -2.25484371e-04,\n",
              "         2.09229111e-04,  0.00000000e+00,  2.25698721e-04,\n",
              "         2.09229111e-04,  0.00000000e+00,  0.00000000e+00,\n",
              "         0.00000000e+00,  2.09229111e-04,  0.00000000e+00,\n",
              "         0.00000000e+00,  0.00000000e+00,  0.00000000e+00,\n",
              "         2.09229111e-04,  0.00000000e+00,  0.00000000e+00,\n",
              "         0.00000000e+00,  0.00000000e+00,  0.00000000e+00,\n",
              "         2.09229111e-04,  0.00000000e+00, -2.38418579e-07,\n",
              "         0.00000000e+00,  2.09229111e-04,  2.09229111e-04,\n",
              "         0.00000000e+00,  2.09229111e-04,  0.00000000e+00,\n",
              "         2.09229111e-04,  0.00000000e+00,  2.09229111e-04]])"
            ]
          },
          "execution_count": 56,
          "metadata": {},
          "output_type": "execute_result"
        }
      ],
      "source": [
        "ypred = model.predict(x_train)\n",
        "ypred.T - y_train"
      ]
    },
    {
      "cell_type": "markdown",
      "metadata": {
        "id": "wvnw55iEWDsu"
      },
      "source": [
        "### Проверяем точность модели на выборке x_test, y_test\n",
        "---"
      ]
    },
    {
      "cell_type": "code",
      "execution_count": 58,
      "metadata": {
        "id": "TtIChi7RWZeW"
      },
      "outputs": [
        {
          "name": "stdout",
          "output_type": "stream",
          "text": [
            "2/2 [==============================] - 0s 3ms/step\n",
            "2/2 [==============================] - 0s 2ms/step\n",
            "test accuracy for model: 1.0\n",
            "test F1 for model: [1. 1.]\n"
          ]
        }
      ],
      "source": [
        "# acc_3 = accuracy_score(y_test, model.predict(x_test))\n",
        "# F1_3 = f1_score(y_test, model.predict(x_test), average=None)\n",
        "\n",
        "acc_3 = accuracy_score(y_test, np.round(model.predict(x_test)))\n",
        "F1_3 = f1_score(y_test, np.round(model.predict(x_test)), average=None)\n",
        "print('test accuracy for model:', round(acc_3, 3))\n",
        "print('test F1 for model:', np.round(F1_3, 3))"
      ]
    }
  ],
  "metadata": {
    "colab": {
      "provenance": []
    },
    "kernelspec": {
      "display_name": "Python 3.10.8 64-bit",
      "language": "python",
      "name": "python3"
    },
    "language_info": {
      "codemirror_mode": {
        "name": "ipython",
        "version": 3
      },
      "file_extension": ".py",
      "mimetype": "text/x-python",
      "name": "python",
      "nbconvert_exporter": "python",
      "pygments_lexer": "ipython3",
      "version": "3.10.8"
    },
    "vscode": {
      "interpreter": {
        "hash": "26de051ba29f2982a8de78e945f0abaf191376122a1563185a90213a26c5da77"
      }
    }
  },
  "nbformat": 4,
  "nbformat_minor": 0
}
