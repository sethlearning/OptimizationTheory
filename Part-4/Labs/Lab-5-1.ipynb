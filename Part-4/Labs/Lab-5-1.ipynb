{
 "cells": [
  {
   "cell_type": "markdown",
   "metadata": {},
   "source": [
    "## Моделирование нейрона (VPL)\n",
    "\n",
    "Тип работы:  Индивидуальная работа\n",
    "\n",
    "Дан вектор весов для нейрона, моделирующий некоторую булеву операцию x1 op x2.\n",
    "\n",
    "Ваша задача создать функцию, моделирующую работу нейрона с логистической функцией активации - расчет выхода нейрона в зависимости от входа.\n",
    "\n",
    "```python\n",
    "# ВХОД:\n",
    "# X = np.array(), X.shape = (n, 2)\n",
    "# W = [W0, W1, W2]\n",
    "# ВЫХОД:\n",
    "# вектор значений выходов нейрона с логистической функцией активации для каждой строки X\n",
    "def logneuron(X, W):\n",
    "    y=None\n",
    "    #... здесь должен быть ваш код ...\n",
    "    \n",
    "    return y\n",
    "```\n",
    "\n",
    "Пример.\n",
    "\n",
    "Пусть `W = [-15, 10, 10]`\n",
    "\n",
    "Тогда для `X = np.array([(0,0), (0,1), (1,0), (1,1)])` выход должен быть таким (с точностью до 3-го знака): \n",
    "\n",
    "`[0. 0.007 0.007 0.993]`"
   ]
  },
  {
   "cell_type": "code",
   "execution_count": 1,
   "metadata": {},
   "outputs": [],
   "source": [
    "import numpy as np\n",
    "\n",
    "# этот модуль программирует обучающийся !\n",
    "\n",
    "def sigmoid(u):\n",
    "    return 1 / (1+np.exp(-u))\n",
    "\n",
    "#ВХОД:\n",
    "# X = np.array(), X.shape = (n, 2)\n",
    "# W = [W0, W1, W2]\n",
    "# ВЫХОД:\n",
    "# вектор значений выходов нейрона с логистической функцией активации для каждой строки X\n",
    "def logneuron(X, W):\n",
    "    y = []\n",
    "    for i in range(X.shape[0]):\n",
    "        u = W[0] + W[1]*X[i,0] + W[2]*X[i,1]\n",
    "        y.append(sigmoid(u))\n",
    "    return y"
   ]
  },
  {
   "cell_type": "markdown",
   "metadata": {},
   "source": [
    "#### Test"
   ]
  },
  {
   "cell_type": "code",
   "execution_count": 4,
   "metadata": {},
   "outputs": [
    {
     "name": "stdout",
     "output_type": "stream",
     "text": [
      "[0.    0.007 0.007 0.993]\n"
     ]
    }
   ],
   "source": [
    "W = [-15, 10, 10]\n",
    "X = np.array([(0,0), (0,1), (1,0), (1,1)])\n",
    "\n",
    "print(np.round(logneuron(X, W), 3))"
   ]
  }
 ],
 "metadata": {
  "kernelspec": {
   "display_name": "Python 3.11.0 64-bit",
   "language": "python",
   "name": "python3"
  },
  "language_info": {
   "codemirror_mode": {
    "name": "ipython",
    "version": 3
   },
   "file_extension": ".py",
   "mimetype": "text/x-python",
   "name": "python",
   "nbconvert_exporter": "python",
   "pygments_lexer": "ipython3",
   "version": "3.11.0"
  },
  "orig_nbformat": 4,
  "vscode": {
   "interpreter": {
    "hash": "5238573367df39f7286bb46f9ff5f08f63a01a80960060ce41e3c79b190280fa"
   }
  }
 },
 "nbformat": 4,
 "nbformat_minor": 2
}
