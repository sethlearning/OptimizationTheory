{
  "cells": [
    {
      "cell_type": "markdown",
      "metadata": {
        "id": "hrJz87QHgDCS"
      },
      "source": [
        "# **Классная работа**\n",
        "Конструирование и обучение нейросети в Keras для решения задачи MNIST\n",
        "---------\n",
        "\n",
        "MNIST - распознавание изображений рукописных цифр\n",
        "\n",
        "-------"
      ]
    },
    {
      "cell_type": "code",
      "execution_count": 1,
      "metadata": {
        "id": "t5-4LI2YgDCQ"
      },
      "outputs": [],
      "source": [
        "import matplotlib.pyplot as plt\n",
        "import tensorflow as tf\n",
        "#%matplotlib inline"
      ]
    },
    {
      "cell_type": "code",
      "execution_count": 2,
      "metadata": {
        "colab": {
          "base_uri": "https://localhost:8080/",
          "height": 35
        },
        "id": "_UVZWhKCSGEy",
        "outputId": "fce86c06-b2a4-4638-96c5-2b6dc652d693"
      },
      "outputs": [
        {
          "data": {
            "text/plain": [
              "'2.11.0'"
            ]
          },
          "execution_count": 2,
          "metadata": {},
          "output_type": "execute_result"
        }
      ],
      "source": [
        "tf.__version__"
      ]
    },
    {
      "cell_type": "code",
      "execution_count": 3,
      "metadata": {
        "colab": {
          "base_uri": "https://localhost:8080/"
        },
        "id": "nx_oYijLgDCS",
        "outputId": "d543821d-dacc-4a11-9eb1-ef001fa11fed"
      },
      "outputs": [
        {
          "name": "stdout",
          "output_type": "stream",
          "text": [
            "Downloading data from https://storage.googleapis.com/tensorflow/tf-keras-datasets/mnist.npz\n",
            "11490434/11490434 [==============================] - 2s 0us/step\n",
            "60000 train samples\n",
            "10000 test samples\n"
          ]
        }
      ],
      "source": [
        "num_classes = 10\n",
        "\n",
        "(x_train, y_train), (x_test, y_test) = tf.keras.datasets.mnist.load_data()\n",
        "\n",
        "x_train = x_train.reshape(60000, 784)\n",
        "x_test = x_test.reshape(10000, 784)\n",
        "x_train = x_train.astype('float32')\n",
        "x_test = x_test.astype('float32')\n",
        "\n",
        "x_train /= 255\n",
        "x_test /= 255\n",
        "\n",
        "print(x_train.shape[0], 'train samples')\n",
        "print(x_test.shape[0], 'test samples')"
      ]
    },
    {
      "cell_type": "code",
      "execution_count": 4,
      "metadata": {
        "colab": {
          "base_uri": "https://localhost:8080/"
        },
        "id": "z0G9txo6cAD5",
        "outputId": "e79b1a91-f3ac-4258-acf3-4207b6e72319"
      },
      "outputs": [
        {
          "name": "stdout",
          "output_type": "stream",
          "text": [
            "5\n"
          ]
        }
      ],
      "source": [
        "print(y_train[0])\n",
        "\n",
        "y_train = tf.keras.utils.to_categorical(y_train, num_classes)\n",
        "y_test = tf.keras.utils.to_categorical(y_test, num_classes)"
      ]
    },
    {
      "cell_type": "code",
      "execution_count": 5,
      "metadata": {
        "colab": {
          "base_uri": "https://localhost:8080/"
        },
        "id": "ztPmi0W7TOaC",
        "outputId": "13c8d75f-47df-4305-fa51-919942a887d8"
      },
      "outputs": [
        {
          "data": {
            "text/plain": [
              "array([0., 0., 0., 0., 0., 1., 0., 0., 0., 0.], dtype=float32)"
            ]
          },
          "execution_count": 5,
          "metadata": {},
          "output_type": "execute_result"
        }
      ],
      "source": [
        "y_train[0]"
      ]
    },
    {
      "cell_type": "code",
      "execution_count": 6,
      "metadata": {
        "id": "L7KOUNdLTrW8"
      },
      "outputs": [],
      "source": [
        "from tensorflow.keras.layers import Dense, Dropout"
      ]
    },
    {
      "cell_type": "code",
      "execution_count": 7,
      "metadata": {
        "colab": {
          "base_uri": "https://localhost:8080/"
        },
        "id": "4rvPZk11T-sm",
        "outputId": "77638a67-9edd-45c3-bb11-bb643d701fee"
      },
      "outputs": [
        {
          "name": "stdout",
          "output_type": "stream",
          "text": [
            "Model: \"sequential\"\n",
            "_________________________________________________________________\n",
            " Layer (type)                Output Shape              Param #   \n",
            "=================================================================\n",
            " dense (Dense)               (None, 256)               200960    \n",
            "                                                                 \n",
            " dense_1 (Dense)             (None, 10)                2570      \n",
            "                                                                 \n",
            "=================================================================\n",
            "Total params: 203,530\n",
            "Trainable params: 203,530\n",
            "Non-trainable params: 0\n",
            "_________________________________________________________________\n"
          ]
        }
      ],
      "source": [
        "# инициируем модель нейросети\n",
        "model = tf.keras.models.Sequential()\n",
        "\n",
        "# Конструируем нейросеть из 2-х полносвязных слоев (+ входной)\n",
        "model.add(Dense(256, activation='relu', input_shape=(784,)))\n",
        "model.add(Dense(num_classes, activation='softmax'))\n",
        "\n",
        "model.summary()"
      ]
    },
    {
      "cell_type": "code",
      "execution_count": 8,
      "metadata": {
        "id": "xuX7E_huVP5Z"
      },
      "outputs": [],
      "source": [
        "# Готовим модель для обучения\n",
        "model.compile(\n",
        "    loss='categorical_crossentropy',\n",
        "    optimizer=tf.keras.optimizers.Adam(),\n",
        "    metrics=['accuracy']\n",
        ")"
      ]
    },
    {
      "cell_type": "code",
      "execution_count": 19,
      "metadata": {
        "colab": {
          "base_uri": "https://localhost:8080/"
        },
        "id": "OgeEKmgggDCS",
        "outputId": "be407442-0bc1-4f22-9584-80fd13bf9bd3"
      },
      "outputs": [
        {
          "name": "stdout",
          "output_type": "stream",
          "text": [
            "Epoch 1/10\n",
            "235/235 [==============================] - 2s 8ms/step - loss: 0.3833 - accuracy: 0.8966 - val_loss: 0.1994 - val_accuracy: 0.9420\n",
            "Epoch 2/10\n",
            "235/235 [==============================] - 2s 7ms/step - loss: 0.1707 - accuracy: 0.9523 - val_loss: 0.1421 - val_accuracy: 0.9585\n",
            "Epoch 3/10\n",
            "235/235 [==============================] - 2s 7ms/step - loss: 0.1219 - accuracy: 0.9658 - val_loss: 0.1157 - val_accuracy: 0.9648\n",
            "Epoch 4/10\n",
            "235/235 [==============================] - 2s 7ms/step - loss: 0.0932 - accuracy: 0.9740 - val_loss: 0.0984 - val_accuracy: 0.9695\n",
            "Epoch 5/10\n",
            "235/235 [==============================] - 2s 7ms/step - loss: 0.0749 - accuracy: 0.9789 - val_loss: 0.0876 - val_accuracy: 0.9741\n",
            "Epoch 6/10\n",
            "235/235 [==============================] - 2s 7ms/step - loss: 0.0610 - accuracy: 0.9832 - val_loss: 0.0815 - val_accuracy: 0.9744\n",
            "Epoch 7/10\n",
            "235/235 [==============================] - 2s 7ms/step - loss: 0.0500 - accuracy: 0.9864 - val_loss: 0.0732 - val_accuracy: 0.9780\n",
            "Epoch 8/10\n",
            "235/235 [==============================] - 2s 7ms/step - loss: 0.0419 - accuracy: 0.9884 - val_loss: 0.0718 - val_accuracy: 0.9773\n",
            "Epoch 9/10\n",
            "235/235 [==============================] - 2s 7ms/step - loss: 0.0347 - accuracy: 0.9908 - val_loss: 0.0698 - val_accuracy: 0.9769\n",
            "Epoch 10/10\n",
            "235/235 [==============================] - 2s 7ms/step - loss: 0.0287 - accuracy: 0.9930 - val_loss: 0.0700 - val_accuracy: 0.9778\n"
          ]
        }
      ],
      "source": [
        "# обучаем модель\n",
        "batch_size = 256\n",
        "epochs = 10\n",
        "\n",
        "_ = model.fit(\n",
        "    x_train, y_train,\n",
        "    batch_size=batch_size,\n",
        "    epochs=epochs,\n",
        "    verbose=1,\n",
        "    validation_data=(x_test, y_test) \n",
        ")"
      ]
    },
    {
      "cell_type": "code",
      "execution_count": 20,
      "metadata": {
        "colab": {
          "base_uri": "https://localhost:8080/"
        },
        "id": "elZUDoQlgDCT",
        "outputId": "dae2e0d4-59a2-4823-a172-d578ef9d21b8"
      },
      "outputs": [
        {
          "name": "stdout",
          "output_type": "stream",
          "text": [
            "Test loss: 0.07001867890357971\n",
            "Test accuracy: 0.9778000116348267\n"
          ]
        }
      ],
      "source": [
        "# проверяем точность модели на тестовой выборке\n",
        "loss, accuracy = model.evaluate(x_test, y_test, verbose=0)\n",
        "print('Test loss:', loss)\n",
        "print('Test accuracy:', accuracy)"
      ]
    },
    {
      "cell_type": "markdown",
      "metadata": {
        "id": "SPCqv5LiTzRr"
      },
      "source": [
        "## поборемся с переобучением - добавим слой дропаут\n",
        "---"
      ]
    },
    {
      "cell_type": "code",
      "execution_count": 21,
      "metadata": {
        "colab": {
          "base_uri": "https://localhost:8080/"
        },
        "id": "Wtx6O2VzT6kQ",
        "outputId": "c6caf538-8ffb-4367-d3e5-c017a2bababa"
      },
      "outputs": [
        {
          "name": "stdout",
          "output_type": "stream",
          "text": [
            "Model: \"sequential_4\"\n",
            "_________________________________________________________________\n",
            " Layer (type)                Output Shape              Param #   \n",
            "=================================================================\n",
            " dense_12 (Dense)            (None, 256)               200960    \n",
            "                                                                 \n",
            " dropout_1 (Dropout)         (None, 256)               0         \n",
            "                                                                 \n",
            " dense_13 (Dense)            (None, 10)                2570      \n",
            "                                                                 \n",
            "=================================================================\n",
            "Total params: 203,530\n",
            "Trainable params: 203,530\n",
            "Non-trainable params: 0\n",
            "_________________________________________________________________\n"
          ]
        }
      ],
      "source": [
        "# инициируем модель нейросети\n",
        "model = tf.keras.models.Sequential()\n",
        "\n",
        "# Конструируем нейросеть из 3-х полносвязных слоев (+ входной)\n",
        "model.add(Dense(256, activation='relu', input_shape=(784,)))\n",
        "model.add(Dropout(0.2))\n",
        "model.add(Dense(num_classes, activation='softmax'))\n",
        "\n",
        "model.summary()"
      ]
    },
    {
      "cell_type": "code",
      "execution_count": 23,
      "metadata": {
        "id": "8xXXzpwvT-Mx"
      },
      "outputs": [],
      "source": [
        "# Готовим модель для обучения\n",
        "model.compile(\n",
        "    loss='categorical_crossentropy',\n",
        "    optimizer=tf.keras.optimizers.Adam(),\n",
        "    metrics=['accuracy']\n",
        ")"
      ]
    },
    {
      "cell_type": "code",
      "execution_count": 24,
      "metadata": {
        "colab": {
          "base_uri": "https://localhost:8080/"
        },
        "id": "32lFQCXHUAiJ",
        "outputId": "7f992c06-3a13-4b26-fb01-9414bad4ea96"
      },
      "outputs": [
        {
          "name": "stdout",
          "output_type": "stream",
          "text": [
            "Epoch 1/10\n",
            "235/235 [==============================] - 2s 8ms/step - loss: 0.4032 - accuracy: 0.8867 - val_loss: 0.1996 - val_accuracy: 0.9443\n",
            "Epoch 2/10\n",
            "235/235 [==============================] - 2s 8ms/step - loss: 0.1853 - accuracy: 0.9480 - val_loss: 0.1388 - val_accuracy: 0.9608\n",
            "Epoch 3/10\n",
            "235/235 [==============================] - 2s 8ms/step - loss: 0.1364 - accuracy: 0.9614 - val_loss: 0.1099 - val_accuracy: 0.9686\n",
            "Epoch 4/10\n",
            "235/235 [==============================] - 2s 8ms/step - loss: 0.1083 - accuracy: 0.9689 - val_loss: 0.0935 - val_accuracy: 0.9711\n",
            "Epoch 5/10\n",
            "235/235 [==============================] - 2s 8ms/step - loss: 0.0898 - accuracy: 0.9736 - val_loss: 0.0813 - val_accuracy: 0.9758\n",
            "Epoch 6/10\n",
            "235/235 [==============================] - 2s 8ms/step - loss: 0.0752 - accuracy: 0.9780 - val_loss: 0.0750 - val_accuracy: 0.9771\n",
            "Epoch 7/10\n",
            "235/235 [==============================] - 2s 8ms/step - loss: 0.0651 - accuracy: 0.9811 - val_loss: 0.0721 - val_accuracy: 0.9777\n",
            "Epoch 8/10\n",
            "235/235 [==============================] - 2s 8ms/step - loss: 0.0578 - accuracy: 0.9828 - val_loss: 0.0673 - val_accuracy: 0.9794\n",
            "Epoch 9/10\n",
            "235/235 [==============================] - 2s 8ms/step - loss: 0.0501 - accuracy: 0.9850 - val_loss: 0.0642 - val_accuracy: 0.9808\n",
            "Epoch 10/10\n",
            "235/235 [==============================] - 2s 8ms/step - loss: 0.0453 - accuracy: 0.9869 - val_loss: 0.0615 - val_accuracy: 0.9803\n"
          ]
        }
      ],
      "source": [
        "# обучаем модель\n",
        "batch_size = 256\n",
        "epochs = 10\n",
        "\n",
        "_ = model.fit(\n",
        "    x_train, y_train,\n",
        "    batch_size=batch_size,\n",
        "    epochs=epochs,\n",
        "    verbose=1,\n",
        "    validation_data=(x_test, y_test) \n",
        ")"
      ]
    },
    {
      "cell_type": "code",
      "execution_count": 25,
      "metadata": {
        "colab": {
          "base_uri": "https://localhost:8080/"
        },
        "id": "Cd7-Pj42UFAT",
        "outputId": "a0c76d33-63ce-480d-ee25-63967981e2a2"
      },
      "outputs": [
        {
          "name": "stdout",
          "output_type": "stream",
          "text": [
            "Test loss: 0.061475299298763275\n",
            "Test accuracy: 0.9803000092506409\n"
          ]
        }
      ],
      "source": [
        "# проверяем точность модели на тестовой выборке\n",
        "loss, accuracy = model.evaluate(x_test, y_test, verbose=0)\n",
        "print('Test loss:', loss)\n",
        "print('Test accuracy:', accuracy)"
      ]
    },
    {
      "cell_type": "markdown",
      "metadata": {
        "id": "Pg5XZBn1SnXY"
      },
      "source": [
        "## Усложним нейросеть - добавим еще один промежуточный слой\n",
        "---"
      ]
    },
    {
      "cell_type": "code",
      "execution_count": 27,
      "metadata": {
        "colab": {
          "base_uri": "https://localhost:8080/"
        },
        "id": "s8acqmNlgDCT",
        "outputId": "8326fedd-c742-485d-f8a6-ea3d66c8698f"
      },
      "outputs": [
        {
          "name": "stdout",
          "output_type": "stream",
          "text": [
            "Model: \"sequential_6\"\n",
            "_________________________________________________________________\n",
            " Layer (type)                Output Shape              Param #   \n",
            "=================================================================\n",
            " dense_17 (Dense)            (None, 256)               200960    \n",
            "                                                                 \n",
            " dropout_4 (Dropout)         (None, 256)               0         \n",
            "                                                                 \n",
            " dense_18 (Dense)            (None, 256)               65792     \n",
            "                                                                 \n",
            " dropout_5 (Dropout)         (None, 256)               0         \n",
            "                                                                 \n",
            " dense_19 (Dense)            (None, 10)                2570      \n",
            "                                                                 \n",
            "=================================================================\n",
            "Total params: 269,322\n",
            "Trainable params: 269,322\n",
            "Non-trainable params: 0\n",
            "_________________________________________________________________\n"
          ]
        }
      ],
      "source": [
        "# инициируем модель нейросети\n",
        "model = tf.keras.models.Sequential()\n",
        "\n",
        "# Конструируем нейросеть из 3-х полносвязных слоев (+ входной)\n",
        "\n",
        "\n",
        "model.summary()"
      ]
    },
    {
      "cell_type": "code",
      "execution_count": null,
      "metadata": {
        "id": "0YiUmxpKU2d1"
      },
      "outputs": [],
      "source": [
        "# Готовим модель для обучения\n"
      ]
    },
    {
      "cell_type": "code",
      "execution_count": 29,
      "metadata": {
        "colab": {
          "base_uri": "https://localhost:8080/"
        },
        "id": "w4t8PMfiTRoN",
        "outputId": "e48141b0-d93e-4d37-cf68-e458206f171c"
      },
      "outputs": [
        {
          "name": "stdout",
          "output_type": "stream",
          "text": [
            "Epoch 1/10\n",
            "235/235 [==============================] - 3s 12ms/step - loss: 0.3779 - accuracy: 0.8882 - val_loss: 0.1442 - val_accuracy: 0.9564\n",
            "Epoch 2/10\n",
            "235/235 [==============================] - 3s 12ms/step - loss: 0.1506 - accuracy: 0.9549 - val_loss: 0.1009 - val_accuracy: 0.9675\n",
            "Epoch 3/10\n",
            "235/235 [==============================] - 3s 11ms/step - loss: 0.1095 - accuracy: 0.9669 - val_loss: 0.0873 - val_accuracy: 0.9709\n",
            "Epoch 4/10\n",
            "235/235 [==============================] - 3s 11ms/step - loss: 0.0842 - accuracy: 0.9737 - val_loss: 0.0728 - val_accuracy: 0.9768\n",
            "Epoch 5/10\n",
            "235/235 [==============================] - 3s 11ms/step - loss: 0.0684 - accuracy: 0.9788 - val_loss: 0.0680 - val_accuracy: 0.9779\n",
            "Epoch 6/10\n",
            "235/235 [==============================] - 3s 11ms/step - loss: 0.0598 - accuracy: 0.9810 - val_loss: 0.0678 - val_accuracy: 0.9802\n",
            "Epoch 7/10\n",
            "235/235 [==============================] - 3s 11ms/step - loss: 0.0509 - accuracy: 0.9841 - val_loss: 0.0623 - val_accuracy: 0.9805\n",
            "Epoch 8/10\n",
            "235/235 [==============================] - 3s 11ms/step - loss: 0.0435 - accuracy: 0.9864 - val_loss: 0.0611 - val_accuracy: 0.9812\n",
            "Epoch 9/10\n",
            "235/235 [==============================] - 4s 16ms/step - loss: 0.0384 - accuracy: 0.9875 - val_loss: 0.0639 - val_accuracy: 0.9819\n",
            "Epoch 10/10\n",
            "235/235 [==============================] - 4s 17ms/step - loss: 0.0338 - accuracy: 0.9891 - val_loss: 0.0616 - val_accuracy: 0.9829\n"
          ]
        }
      ],
      "source": [
        "# обучаем модель\n"
      ]
    },
    {
      "cell_type": "code",
      "execution_count": 30,
      "metadata": {
        "colab": {
          "base_uri": "https://localhost:8080/"
        },
        "id": "xe_9oFNBTNKZ",
        "outputId": "c89bac5e-5a4a-442b-f35e-f1c98166ec26"
      },
      "outputs": [
        {
          "name": "stdout",
          "output_type": "stream",
          "text": [
            "Test loss: 0.06158259138464928\n",
            "Test accuracy: 0.9829000234603882\n"
          ]
        }
      ],
      "source": [
        "# проверяем точность модели на тестовой выборке\n",
        "loss, accuracy = model.evaluate(x_test, y_test, verbose=0)\n",
        "print('Test loss:', loss)\n",
        "print('Test accuracy:', accuracy)"
      ]
    }
  ],
  "metadata": {
    "colab": {
      "provenance": []
    },
    "kernelspec": {
      "display_name": "Python 3.10.8 64-bit",
      "language": "python",
      "name": "python3"
    },
    "language_info": {
      "codemirror_mode": {
        "name": "ipython",
        "version": 3
      },
      "file_extension": ".py",
      "mimetype": "text/x-python",
      "name": "python",
      "nbconvert_exporter": "python",
      "pygments_lexer": "ipython3",
      "version": "3.10.8"
    },
    "vscode": {
      "interpreter": {
        "hash": "26de051ba29f2982a8de78e945f0abaf191376122a1563185a90213a26c5da77"
      }
    }
  },
  "nbformat": 4,
  "nbformat_minor": 0
}
