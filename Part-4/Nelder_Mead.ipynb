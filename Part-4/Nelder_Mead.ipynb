{
  "nbformat": 4,
  "nbformat_minor": 0,
  "metadata": {
    "colab": {
      "name": "Nelder-Mead.ipynb",
      "provenance": [],
      "collapsed_sections": []
    },
    "kernelspec": {
      "name": "python3",
      "display_name": "Python 3"
    }
  },
  "cells": [
    {
      "cell_type": "markdown",
      "metadata": {
        "id": "fPSEHAbbSYQh"
      },
      "source": [
        "## Безусловная оптимизация. Методы 0-го порядка. Метод Нелдера-Мида (деформируемого многогранника)"
      ]
    },
    {
      "cell_type": "code",
      "metadata": {
        "id": "-_fzcEUYbKKO"
      },
      "source": [
        "import numpy as np\n",
        "np.printoptions(precision=3)\n",
        "import matplotlib.pyplot as plt\n",
        "\n",
        "from scipy import optimize\n",
        "# from cost_functions import mk_quad, mk_gauss, rosenbrock, rosenbrock_prime, rosenbrock_hessian, LoggingFunction, CountingFunction"
      ],
      "execution_count": 19,
      "outputs": []
    },
    {
      "cell_type": "markdown",
      "metadata": {
        "id": "CXfmkMhbSg2J"
      },
      "source": [
        "### **Оптимизируемые функции**\n",
        "\n",
        "1. \"Хорошая\" эллиптическая функция\n",
        "$$f1(x,y) = x^2 + 4*y^2$$\n",
        "$$ (x^*, y^*) = (0,0)$$\n",
        "\n",
        "2. Плохо обусловленная эллиптическая функция\n",
        "\n",
        "$$f2(x,y) = x^2 + 100*y^4$$\n",
        "$$ (x^*, y^*) = (0,0)$$\n",
        "\n",
        "3. Функция с криволинейным оврагом. Функция Розенброка\n",
        "$$f3(x,y) = (1-x)^2 + 10*(y-x^2)^2$$\n",
        "$$ (x^*, y^*) = (1,1)$$\n",
        "\n",
        "4. Функция многоэкстремальная\n",
        "$$ f4(x,y) = (x^2 + y - 11)^2 + (x+y^2 - 7)^2 $$\n",
        "\n",
        "----------------"
      ]
    },
    {
      "cell_type": "code",
      "metadata": {
        "id": "3Ip589vGSNEh"
      },
      "source": [
        "def f1(x):   # Good fun\n",
        "    return x[0]**2 + 4*x[1]**2\n",
        "\n",
        "def f2(x):   # Bad cond\n",
        "    return x[0]**2 + 100*x[1]**4\n",
        "\n",
        "def f3(x):   # The rosenbrock function\n",
        "    return (1 - x[0])**2 + 10*(x[1] - x[0]**2)**2\n",
        "\n",
        "def f4(x):   # Bad cond\n",
        "    return (x[0]**2 + x[1] -11)**2 + (x[0] + x[1]**2 - 7)**2"
      ],
      "execution_count": null,
      "outputs": []
    },
    {
      "cell_type": "markdown",
      "metadata": {
        "id": "95XMDCbLY2o0"
      },
      "source": [
        "#### **Метод Нелдера и Мида**"
      ]
    },
    {
      "cell_type": "code",
      "metadata": {
        "id": "DTvim0KgpgNT"
      },
      "source": [
        "# выбираем фукнцию для оптимизации\n",
        "f = f3\n",
        "# начальную точку\n",
        "r0 = np.array([-10.0, 10.0])"
      ],
      "execution_count": 37,
      "outputs": []
    },
    {
      "cell_type": "code",
      "metadata": {
        "id": "wm_WcFH9sN2f",
        "outputId": "76198c72-48aa-450e-aac7-73a27260861f",
        "colab": {
          "base_uri": "https://localhost:8080/"
        }
      },
      "source": [
        "# функция создания правильного многогранника/симплекса с точкой в x0 и размером R\n",
        "def regSimplex(x0, R):\n",
        "    points = [x0]\n",
        "    for i in range(len(x0)):\n",
        "        x = x0.copy()\n",
        "        dx = np.zeros(len(x))\n",
        "        dx[i] = R\n",
        "        x += dx\n",
        "        points.append(x)\n",
        "    return np.array(points)\n",
        "\n",
        "pts = regSimplex(r0, R=1)\n",
        "print(pts)\n",
        "fs = f(pts.T)\n",
        "fs"
      ],
      "execution_count": 21,
      "outputs": [
        {
          "output_type": "stream",
          "text": [
            "[[-10.  10.]\n",
            " [ -9.  10.]\n",
            " [-10.  11.]]\n"
          ],
          "name": "stdout"
        },
        {
          "output_type": "execute_result",
          "data": {
            "text/plain": [
              "array([500., 481., 584.])"
            ]
          },
          "metadata": {
            "tags": []
          },
          "execution_count": 21
        }
      ]
    },
    {
      "cell_type": "code",
      "metadata": {
        "id": "KiNWByFkZAQm"
      },
      "source": [
        "# функция для запоминания промежуточных точек оптимизации\n",
        "def store(r):\n",
        "  x, y = r\n",
        "  all_x_i.append(x)\n",
        "  all_y_i.append(y)\n",
        "  all_f_i.append(f(r))\n"
      ],
      "execution_count": 30,
      "outputs": []
    },
    {
      "cell_type": "code",
      "metadata": {
        "id": "DgElDwunoM7m",
        "outputId": "365a991c-9e4c-4966-a148-e1cd21132b9a",
        "colab": {
          "base_uri": "https://localhost:8080/"
        }
      },
      "source": [
        "# Выполним оптимизацию методом Нелдера и Мида\n",
        "all_x_i = [r0[0]]\n",
        "all_y_i = [r0[1]]\n",
        "all_f_i = [f(r0)]\n",
        "\n",
        "res = optimize.minimize(f, x0=r0, method='Nelder-Mead', callback=store)\n",
        "print(res)\n",
        "for ii in range(0,min(len(all_f_i), 51),5):\n",
        "  ff = all_f_i[ii]\n",
        "  print(\"ii={:d}, f(ii)={:10.7f}\".format(ii, ff))"
      ],
      "execution_count": 38,
      "outputs": [
        {
          "output_type": "stream",
          "text": [
            " final_simplex: (array([[0.99999663, 0.99998647],\n",
            "       [1.00002761, 1.00005757],\n",
            "       [0.99996975, 0.99993981]]), array([4.71487167e-10, 8.17710357e-10, 9.16252969e-10]))\n",
            "           fun: 4.714871669377551e-10\n",
            "       message: 'Optimization terminated successfully.'\n",
            "          nfev: 177\n",
            "           nit: 95\n",
            "        status: 0\n",
            "       success: True\n",
            "             x: array([0.99999663, 0.99998647])\n",
            "ii=0, f(ii)=81121.0000000\n",
            "ii=5, f(ii)=43.0844727\n",
            "ii=10, f(ii)=43.0844727\n",
            "ii=15, f(ii)=24.5936730\n",
            "ii=20, f(ii)=23.4797019\n",
            "ii=25, f(ii)=19.5853596\n",
            "ii=30, f(ii)=11.1703293\n",
            "ii=35, f(ii)= 7.6270170\n",
            "ii=40, f(ii)= 5.4058209\n",
            "ii=45, f(ii)= 4.1211282\n",
            "ii=50, f(ii)= 2.0200167\n"
          ],
          "name": "stdout"
        }
      ]
    },
    {
      "cell_type": "markdown",
      "metadata": {
        "id": "H9khWJOGh-z_"
      },
      "source": [
        "Визуализируем функцию и процесс оптимизации"
      ]
    },
    {
      "cell_type": "code",
      "metadata": {
        "id": "-d-vuFuhh9Pv"
      },
      "source": [
        "# определим границы визуализации\n",
        "x_min, x_max = min(all_x_i)-1, max(all_x_i)+1\n",
        "y_min, y_max = min(all_y_i)-1, max(all_y_i)+1\n",
        "\n",
        "# сформируем сетку узлов\n",
        "x, y = np.mgrid[x_min:x_max:100j, y_min:y_max:100j]\n",
        "x = x.T\n",
        "y = y.T"
      ],
      "execution_count": 39,
      "outputs": []
    },
    {
      "cell_type": "code",
      "metadata": {
        "id": "pEf38DfrjKIT"
      },
      "source": [
        "# подготовим точки для визуализации линий уровня функции\n",
        "X = np.concatenate((x[np.newaxis, ...], y[np.newaxis, ...]), axis=0)\n",
        "z = np.apply_along_axis(f, 0, X)\n",
        "log_z = np.log(z + .01)"
      ],
      "execution_count": 40,
      "outputs": []
    },
    {
      "cell_type": "code",
      "metadata": {
        "id": "1PXrTTSakUXI",
        "outputId": "574970b8-8e70-4b0a-b078-0a939dc5280d",
        "colab": {
          "base_uri": "https://localhost:8080/",
          "height": 466
        }
      },
      "source": [
        "# нарисуем все это\n",
        "plt.figure(figsize=(8, 6))\n",
        "plt.clf()\n",
        "plt.axes([0, 0, 1, 1])\n",
        "\n",
        "# -------- рисуем фон ----------\n",
        "''''''\n",
        "plt.imshow(log_z,\n",
        "           extent=[x_min, x_max, y_min, y_max],\n",
        "           cmap=plt.cm.gray_r, origin='lower',\n",
        "           vmax=log_z.min() + 1.5*log_z.ptp())\n",
        "''''''\n",
        "# Рисуем линии уровня фукнции\n",
        "contours = plt.contour(z,\n",
        "                       extent=[x_min, x_max, y_min, y_max],\n",
        "                       cmap=plt.cm.gnuplot, origin='lower')\n",
        "plt.clabel(contours, inline=1, fontsize=14)\n",
        "\n",
        "# нарисуем след работы метода\n",
        "plt.plot(all_x_i, all_y_i, 'b-', linewidth=2)\n",
        "plt.plot(all_x_i, all_y_i, 'k+')\n",
        "\n",
        "# выделим точное решение задачи\n",
        "plt.plot([1.0], [1.0], 'rx', markersize=12)\n",
        "\n",
        "plt.xticks(())\n",
        "plt.yticks(())\n",
        "plt.xlim(x_min, x_max)\n",
        "plt.ylim(y_min, y_max)\n",
        "plt.draw()\n"
      ],
      "execution_count": 41,
      "outputs": [
        {
          "output_type": "display_data",
          "data": {
            "image/png": "[encoded data removed]",
            "text/plain": [
              "<Figure size 576x432 with 1 Axes>"
            ]
          },
          "metadata": {
            "tags": []
          }
        }
      ]
    },
    {
      "cell_type": "code",
      "metadata": {
        "id": "1xWZ_dWuksVx",
        "outputId": "d794c909-b539-40e8-acd2-8c88906a306b",
        "colab": {
          "base_uri": "https://localhost:8080/",
          "height": 225
        }
      },
      "source": [
        "# Посмотрим как уменьшалось значение функции в зависимости от итерации\n",
        "plt.figure(150, figsize=(4, 3))\n",
        "plt.clf()\n",
        "plt.semilogy(np.maximum(all_f_i, 1e-30), linewidth=2, label='# iterations')\n",
        "plt.ylabel('f(x)')\n",
        "plt.legend(loc='upper right', frameon=True, prop=dict(size=11),\n",
        "           borderaxespad=0, handlelength=1.5, handletextpad=.5)\n",
        "plt.tight_layout()\n",
        "plt.draw()"
      ],
      "execution_count": 42,
      "outputs": [
        {
          "output_type": "display_data",
          "data": {
            "image/png": "[encoded data removed]",
            "text/plain": [
              "<Figure size 288x216 with 1 Axes>"
            ]
          },
          "metadata": {
            "tags": [],
            "needs_background": "light"
          }
        }
      ]
    },
    {
      "cell_type": "markdown",
      "metadata": {
        "id": "_sUzkWKDtU76"
      },
      "source": [
        "--------------------------\n",
        "\n",
        "## **ВОПРОС 1.**\n",
        "Пусть минимизируется функция\n",
        "$$f1(x,y) = x^2 + 4*y^2$$\n",
        "\n",
        "И пусть построен симплекс с вершинами\n",
        "\n",
        "$\\begin{pmatrix}\n",
        "  -10 & 10 \\\\\n",
        "  -9 & 10 \\\\\n",
        "  -10 & 11 \\\\\n",
        " \\end{pmatrix}$\n",
        "\n",
        "Значения функции в этих вершинах равны соответственно:\n",
        "\n",
        "$$array([500., 481., 584.])$$\n",
        "\n",
        "Определите координаты новой вершины симплекса после одной итерации.\n",
        "Учесть, что при удачном шаге - шаг увеличивается вдвое и из этих двух шагов выбирается наилучший результат.\n",
        "\n",
        "\n",
        "### **ОТВЕТЫ**:\n",
        "​\n",
        "### **A.** $(-9.5, 10)$\n",
        "### **B.** $(-9.0, 10)$\n",
        "### **C.** $(-9.0, 9.0)$\n",
        "### **D.** $(-8.5, 8.0)$\n",
        "\n",
        "-----------------------------------------------------"
      ]
    },
    {
      "cell_type": "code",
      "metadata": {
        "id": "0WkZVAsKBxu3",
        "outputId": "3e4d0f2e-3ce6-4211-8af2-1e2b41d55f02",
        "colab": {
          "base_uri": "https://localhost:8080/"
        }
      },
      "source": [
        "Xsimplex = np.array([[-10.0,  10.0], [ -9.0,  10.], [-10.,  11.]])\n",
        "Xsimplex\n",
        "x_bad = Xsimplex[2]\n",
        "print(x_bad)\n",
        "x_center = (Xsimplex[0] + Xsimplex[1])/2\n",
        "x_center"
      ],
      "execution_count": 45,
      "outputs": [
        {
          "output_type": "stream",
          "text": [
            "[-10.  11.]\n"
          ],
          "name": "stdout"
        },
        {
          "output_type": "execute_result",
          "data": {
            "text/plain": [
              "array([-9.5, 10. ])"
            ]
          },
          "metadata": {
            "tags": []
          },
          "execution_count": 45
        }
      ]
    },
    {
      "cell_type": "code",
      "metadata": {
        "id": "XtAuZ9e6Ci_F",
        "outputId": "c0aa892a-c44d-41c6-8e21-8e1dae086792",
        "colab": {
          "base_uri": "https://localhost:8080/"
        }
      },
      "source": [
        "x1 = x_center + (x_center - x_bad)\n",
        "print(x1)\n",
        "f1(x1)"
      ],
      "execution_count": 48,
      "outputs": [
        {
          "output_type": "stream",
          "text": [
            "[-9.  9.]\n"
          ],
          "name": "stdout"
        },
        {
          "output_type": "execute_result",
          "data": {
            "text/plain": [
              "405.0"
            ]
          },
          "metadata": {
            "tags": []
          },
          "execution_count": 48
        }
      ]
    },
    {
      "cell_type": "code",
      "metadata": {
        "id": "oX3ijiemCy9v",
        "outputId": "7905502a-3d9c-40f3-e298-842793a4b7b2",
        "colab": {
          "base_uri": "https://localhost:8080/"
        }
      },
      "source": [
        "x2 = x_center + 2*(x_center - x_bad)\n",
        "print(x2)\n",
        "f1(x2)"
      ],
      "execution_count": 49,
      "outputs": [
        {
          "output_type": "stream",
          "text": [
            "[-8.5  8. ]\n"
          ],
          "name": "stdout"
        },
        {
          "output_type": "execute_result",
          "data": {
            "text/plain": [
              "328.25"
            ]
          },
          "metadata": {
            "tags": []
          },
          "execution_count": 49
        }
      ]
    }
  ]
}