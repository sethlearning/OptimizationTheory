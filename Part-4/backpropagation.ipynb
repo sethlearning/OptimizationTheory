{
 "cells": [
  {
   "cell_type": "code",
   "execution_count": 13,
   "metadata": {},
   "outputs": [],
   "source": [
    "import numpy as np\n",
    "import matplotlib.pyplot as plt\n",
    "plt.style.use('ggplot')"
   ]
  },
  {
   "cell_type": "code",
   "execution_count": 14,
   "metadata": {},
   "outputs": [
    {
     "name": "stdout",
     "output_type": "stream",
     "text": [
      "[[0 0]\n",
      " [0 1]\n",
      " [1 0]\n",
      " [1 1]]\n",
      "[0 1 1 0]\n"
     ]
    }
   ],
   "source": [
    "# XOR\n",
    "X = np.array([ [0,0], [0,1], [1,0], [1,1] ])\n",
    "y = np.array([0,1,1,0])\n",
    "\n",
    "print(X)\n",
    "print(y)"
   ]
  },
  {
   "cell_type": "code",
   "execution_count": 15,
   "metadata": {},
   "outputs": [],
   "source": [
    "def sigmoid(z):\n",
    "    return 1 / (1 + np.exp(-z))\n",
    "\n",
    "def sigmderiv(u):\n",
    "    return sigmoid(u) * (1 - sigmoid(u))\n",
    "\n",
    "def sigmoideriv(y):\n",
    "    return y * (1 - y)\n"
   ]
  },
  {
   "cell_type": "code",
   "execution_count": 16,
   "metadata": {},
   "outputs": [],
   "source": [
    "# Forward propagation\n",
    "\n",
    "def xor_nnet(X, W1, W2):\n",
    "    # Транспонируем матрицу значений x1, x2 и добавляем к ней строку с x0 = 1\n",
    "    x2 = np.vstack([np.ones((1, len(X))), X.T])\n",
    "\n",
    "    # Рассчитываем выход второго слоя\n",
    "    y2 = sigmoid(np.dot(W1, x2))\n",
    "\n",
    "    # Добавляем 1 к получившейся матрце выходов второго слоя\n",
    "    if len(y2) > 1:\n",
    "        ones = np.ones(shape=(1, y2.shape[1]))\n",
    "        x3 = np.vstack((ones, y2))\n",
    "    else:\n",
    "        x3 = np.array([1, y2[0], y2[1]])\n",
    "    \n",
    "    # Рассчитываем выход третьего слоя и нейроети в целом\n",
    "    y3 = sigmoid(np.dot(W2, x3))\n",
    "\n",
    "    # возвращаем матрицы выходов (и входов) каждого слоя\n",
    "    return x2, x3, y3"
   ]
  },
  {
   "cell_type": "code",
   "execution_count": 17,
   "metadata": {},
   "outputs": [
    {
     "name": "stdout",
     "output_type": "stream",
     "text": [
      "[[-0.25091976  0.90142861  0.46398788]\n",
      " [ 0.19731697 -0.68796272 -0.68801096]] [[-0.88383278  0.73235229  0.20223002]]\n"
     ]
    }
   ],
   "source": [
    "np.random.seed(42)\n",
    "hidden_size = 2\n",
    "\n",
    "# Инициализируем веса случайным образом\n",
    "W1 = 2 * np.random.random((hidden_size, 3)) - 1\n",
    "W2 = 2 * np.random.random((1, hidden_size+1)) - 1\n",
    "\n",
    "print(W1, W2)"
   ]
  },
  {
   "cell_type": "code",
   "execution_count": 18,
   "metadata": {},
   "outputs": [
    {
     "name": "stdout",
     "output_type": "stream",
     "text": [
      "[[1. 1. 1. 1.]\n",
      " [0. 0. 1. 1.]\n",
      " [0. 1. 0. 1.]]\n",
      "[[1.         1.         1.         1.        ]\n",
      " [0.43759713 0.55306642 0.65712512 0.75296649]\n",
      " [0.54916981 0.37973009 0.37974146 0.23529381]]\n",
      "[[0.38881432 0.4008318  0.4192652  0.42927431]]\n"
     ]
    }
   ],
   "source": [
    "# Вычисляем выход слоев нейросетей\n",
    "x2, x3, ynet = xor_nnet(X, W1, W2)\n",
    "\n",
    "print(x2)\n",
    "print(x3)\n",
    "print(ynet)"
   ]
  },
  {
   "cell_type": "code",
   "execution_count": 19,
   "metadata": {},
   "outputs": [
    {
     "name": "stdout",
     "output_type": "stream",
     "text": [
      "Ошибки нейросети:\n",
      "[-0.38881432  0.5991682   0.5807348  -0.42927431]\n",
      "MAE =   0.50\n",
      "accuracy = 50.0\n"
     ]
    }
   ],
   "source": [
    "# вычислим ошибку классификации\n",
    "err = y - ynet[0]\n",
    "print('Ошибки нейросети:')\n",
    "print(err)\n",
    "\n",
    "# средний модуль ошибки (MAE)\n",
    "print('MAE = {:6.2f}'.format(np.mean(np.abs(err))))\n",
    "\n",
    "erro = np.round(err)\n",
    "print('accuracy =', 100*(1-sum(np.abs(erro))/len(y)))"
   ]
  },
  {
   "attachments": {},
   "cell_type": "markdown",
   "metadata": {},
   "source": [
    "## Backpropagation"
   ]
  },
  {
   "cell_type": "code",
   "execution_count": 20,
   "metadata": {},
   "outputs": [
    {
     "name": "stdout",
     "output_type": "stream",
     "text": [
      "Error: 0.499\n",
      "Error: 0.397\n",
      "Error: 0.168\n",
      "Error: 0.095\n",
      "Error: 0.071\n",
      "Error: 0.059\n",
      "Error: 0.051\n",
      "Error: 0.045\n",
      "Error: 0.041\n",
      "Error: 0.038\n",
      "Error: 0.036\n",
      "Error: 0.033\n",
      "Error: 0.032\n",
      "Error: 0.03\n",
      "Error: 0.029\n",
      "Error: 0.028\n",
      "Error: 0.027\n",
      "Error: 0.026\n",
      "Error: 0.025\n",
      "Error: 0.024\n",
      "Error: 0.023\n",
      "Error: 0.023\n",
      "Error: 0.022\n",
      "Error: 0.021\n",
      "[[-13.08861508   8.79030931   8.96182789]]\n",
      "[[-3.20910601  7.1266329   7.1257329 ]\n",
      " [ 8.11368016 -5.41639931 -5.41621388]]\n"
     ]
    }
   ],
   "source": [
    "eta = 0.01\n",
    "MAE_list = [np.mean(np.abs(err))]\n",
    "\n",
    "for j in range(600_000):\n",
    "    # проходим вперед по слоям 0, 1, 2\n",
    "    y01, y02, y3 = xor_nnet(X, W1, W2)\n",
    "\n",
    "    # как сильно мы ошиблись относительно нужной величины\n",
    "    y3_error = y - y3[0]\n",
    "    \n",
    "    # распространим ошибку на выходе 3-го слоя на вход слоя\n",
    "    u3_delta = y3_error * sigmoideriv(y3)\n",
    "\n",
    "    # распространим ошибки z3 на ошибки выходов a2 (входы для a3)\n",
    "    y02_error = np.dot(W2.T, u3_delta)\n",
    "    \n",
    "    # уберем 0-ю строку, содержащую добавленный +1\n",
    "    y2 = y02[1:]\n",
    "    y2_error = y02_error[1:]\n",
    "\n",
    "    # распространим ошибку на выходе 2-го слоя на вход слоя\n",
    "    u2_delta = y2_error * sigmoideriv(y2)\n",
    "\n",
    "    # рассчитаем дельта весов каждого слоя\n",
    "    dW2 = np.dot(u3_delta, y02.T)\n",
    "    dW1 = np.dot(u2_delta, y01.T)\n",
    "\n",
    "    W2 += eta * dW2\n",
    "    W1 += eta * dW1\n",
    "\n",
    "    if (j % 25000) == 0:\n",
    "        MAE = np.round(np.mean(np.abs(y3_error)), 3)\n",
    "        MAE_list.append(MAE)\n",
    "        print('Error:', str(MAE))\n",
    "\n",
    "print(W2)\n",
    "print(W1)"
   ]
  },
  {
   "cell_type": "code",
   "execution_count": 21,
   "metadata": {},
   "outputs": [
    {
     "data": {
      "text/plain": [
       "Text(0.5, 0, 'Тысяч эпох')"
      ]
     },
     "execution_count": 21,
     "metadata": {},
     "output_type": "execute_result"
    },
    {
     "data": {
      "image/png": "[encoded data removed]",
      "text/plain": [
       "<Figure size 800x500 with 1 Axes>"
      ]
     },
     "metadata": {},
     "output_type": "display_data"
    }
   ],
   "source": [
    "plt.figure(figsize=(8,5))\n",
    "plt.plot(np.arange(0, 601, 25), MAE_list)\n",
    "plt.title('Снижение ошибки MAE с ростом эпох')\n",
    "plt.xlabel('Тысяч эпох')"
   ]
  },
  {
   "cell_type": "code",
   "execution_count": 22,
   "metadata": {},
   "outputs": [
    {
     "name": "stdout",
     "output_type": "stream",
     "text": [
      "[[1. 1. 1. 1.]\n",
      " [0. 0. 1. 1.]\n",
      " [0. 1. 0. 1.]]\n",
      "[[1.         1.         1.         1.        ]\n",
      " [0.03882448 0.98048046 0.98049768 0.99998401]\n",
      " [0.99970067 0.93687697 0.936866   0.06186536]]\n",
      "[[0.02213546 0.98066363 0.98066463 0.02311201]]\n"
     ]
    }
   ],
   "source": [
    "# Вычисляем выход слоев нейросетей\n",
    "x2, x3, ynet = xor_nnet(X, W1, W2)\n",
    "\n",
    "print(x2)\n",
    "print(x3)\n",
    "print(ynet)"
   ]
  },
  {
   "cell_type": "code",
   "execution_count": 23,
   "metadata": {},
   "outputs": [
    {
     "name": "stdout",
     "output_type": "stream",
     "text": [
      "Ошибки нейросети:\n",
      "[-0.02213546  0.01933637  0.01933537 -0.02311201]\n",
      "MAE =   0.02\n",
      "accuracy = 100.0\n"
     ]
    }
   ],
   "source": [
    "# вычислим ошибку классификации\n",
    "err = y - ynet[0]\n",
    "print('Ошибки нейросети:')\n",
    "print(err)\n",
    "\n",
    "# средний модуль ошибки (MAE)\n",
    "print('MAE = {:6.2f}'.format(np.mean(np.abs(err))))\n",
    "\n",
    "erro = np.round(err)\n",
    "print('accuracy =', 100*(1-sum(np.abs(erro))/len(y)))"
   ]
  },
  {
   "attachments": {},
   "cell_type": "markdown",
   "metadata": {},
   "source": [
    "---"
   ]
  },
  {
   "cell_type": "code",
   "execution_count": 24,
   "metadata": {},
   "outputs": [
    {
     "data": {
      "text/plain": [
       "array([[0, 0],\n",
       "       [0, 1],\n",
       "       [1, 0],\n",
       "       [1, 1]])"
      ]
     },
     "execution_count": 24,
     "metadata": {},
     "output_type": "execute_result"
    }
   ],
   "source": [
    "X"
   ]
  },
  {
   "cell_type": "code",
   "execution_count": 25,
   "metadata": {},
   "outputs": [
    {
     "data": {
      "text/plain": [
       "array([[1., 1., 1., 1.]])"
      ]
     },
     "execution_count": 25,
     "metadata": {},
     "output_type": "execute_result"
    }
   ],
   "source": [
    "np.ones((1, len(X)))"
   ]
  },
  {
   "cell_type": "code",
   "execution_count": 26,
   "metadata": {},
   "outputs": [
    {
     "name": "stdout",
     "output_type": "stream",
     "text": [
      "[[1. 1. 1. 1.]\n",
      " [0. 0. 1. 1.]\n",
      " [0. 1. 0. 1.]]\n"
     ]
    }
   ],
   "source": [
    "x2 = np.vstack([np.ones((1, len(X))), X.T])\n",
    "print(x2)"
   ]
  },
  {
   "cell_type": "code",
   "execution_count": 27,
   "metadata": {},
   "outputs": [
    {
     "name": "stdout",
     "output_type": "stream",
     "text": [
      "[[0.03882448 0.98048046 0.98049768 0.99998401]\n",
      " [0.99970067 0.93687697 0.936866   0.06186536]]\n"
     ]
    }
   ],
   "source": [
    "y2 = sigmoid(np.dot(W1, x2))\n",
    "print(y2)"
   ]
  }
 ],
 "metadata": {
  "kernelspec": {
   "display_name": "Python 3",
   "language": "python",
   "name": "python3"
  },
  "language_info": {
   "codemirror_mode": {
    "name": "ipython",
    "version": 3
   },
   "file_extension": ".py",
   "mimetype": "text/x-python",
   "name": "python",
   "nbconvert_exporter": "python",
   "pygments_lexer": "ipython3",
   "version": "3.10.8 (tags/v3.10.8:aaaf517, Oct 11 2022, 16:50:30) [MSC v.1933 64 bit (AMD64)]"
  },
  "orig_nbformat": 4,
  "vscode": {
   "interpreter": {
    "hash": "26de051ba29f2982a8de78e945f0abaf191376122a1563185a90213a26c5da77"
   }
  }
 },
 "nbformat": 4,
 "nbformat_minor": 2
}
